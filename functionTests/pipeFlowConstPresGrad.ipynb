{
 "cells": [
  {
   "cell_type": "code",
   "execution_count": 1,
   "metadata": {
    "collapsed": true
   },
   "outputs": [],
   "source": [
    "%reset -f\n",
    "%load_ext autoreload\n",
    "%autoreload 2\n",
    "\n",
    "import Odin as backend"
   ]
  },
  {
   "cell_type": "code",
   "execution_count": 2,
   "outputs": [
    {
     "name": "stdout",
     "output_type": "stream",
     "text": [
      "{'governor': <Fields.fieldGovernor object at 0x7fd7e41e3c10>, 'invCellDist': <Fields.vectorField object at 0x7fd7e41e3d00>, 'u': <Fields.scalarField object at 0x7fd7e41db040>, 'v': <Fields.scalarField object at 0x7fd7e41db070>, 'p': <Fields.scalarField object at 0x7fd7e41db0a0>, 'nu': 0.0}\n",
      "[[0. 1. 0. 0. 0.]\n",
      " [0. 1. 0. 0. 0.]\n",
      " [0. 1. 0. 0. 0.]]\n"
     ]
    }
   ],
   "source": [
    "# validation test for incompressible flow\n",
    "\n",
    "geom = backend.createGeometry( 'rectangle', [4,3] )\n",
    "mesh = backend.createMesh( geom, res=1 )\n",
    "\n",
    "# make just a list, give a name as optional parameter to flow model\n",
    "myFlowModels = [\n",
    "    backend.FlowModels.IncompressibleMomentumComp(depVariableName='u', orientation=0, otherVelocityFieldName='v', pressureFieldName='p', kinViscosityName='nu')\n",
    "]\n",
    "\n",
    "sim1 = backend.Simulation(myFlowModels, mesh, geom )\n",
    "\n",
    "myFields = sim1.getFieldRegistry()\n",
    "print(myFields)\n",
    "\n",
    "myFields['nu'] = 1.0\n",
    "\n",
    "U = myFields['u']\n",
    "\n",
    "U.setBoundaryCondition('top', 'zeroGradient' )\n",
    "U.setBoundaryCondition('bottom', 'zeroGradient')\n",
    "U.setBoundaryCondition('left', 1)\n",
    "U.setBoundaryCondition('right', 'zeroGradient' )\n",
    "\n",
    "sim1.solve('u')\n",
    "\n",
    "print(U.data)\n",
    "\n",
    "#sim1.display(U, mesh)"
   ],
   "metadata": {
    "collapsed": false,
    "pycharm": {
     "name": "#%%\n"
    }
   }
  },
  {
   "cell_type": "code",
   "execution_count": null,
   "outputs": [],
   "source": [
    "# shutting the interpreter down, so I can a fresh instance next time.\n",
    "# my modules are automatically checked for updates\n",
    "import os\n",
    "os._exit(00)\n"
   ],
   "metadata": {
    "collapsed": false,
    "pycharm": {
     "name": "#%%\n",
     "is_executing": true
    }
   }
  }
 ],
 "metadata": {
  "kernelspec": {
   "display_name": "Python 3",
   "language": "python",
   "name": "python3"
  },
  "language_info": {
   "codemirror_mode": {
    "name": "ipython",
    "version": 2
   },
   "file_extension": ".py",
   "mimetype": "text/x-python",
   "name": "python",
   "nbconvert_exporter": "python",
   "pygments_lexer": "ipython2",
   "version": "2.7.6"
  }
 },
 "nbformat": 4,
 "nbformat_minor": 0
}