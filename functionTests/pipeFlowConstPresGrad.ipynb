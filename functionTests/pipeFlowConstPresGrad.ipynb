{
 "cells": [
  {
   "cell_type": "code",
   "execution_count": 1,
   "metadata": {
    "collapsed": true
   },
   "outputs": [
    {
     "data": {
      "text/plain": "<Figure size 432x288 with 2 Axes>",
      "image/png": "[encoded data removed]"
     },
     "metadata": {
      "needs_background": "light"
     },
     "output_type": "display_data"
    }
   ],
   "source": [
    "%reset -f\n",
    "%load_ext autoreload\n",
    "%autoreload 2\n",
    "\n",
    "import numpy as np\n",
    "import Odin\n",
    "\n",
    "# validation test for incompressible flow\n",
    "\n",
    "geom = Odin.createGeometry( 'rectangle', [40,10] )\n",
    "mesh = Odin.createMesh( geom, res=1 )\n",
    "\n",
    "# make just a list, give a name as optional parameter to flow model\n",
    "# make this a flowmodeles constructor with kwargs here and then remove simulation instance\n",
    "myFlowModels = {\n",
    "    'u' : Odin.TransportModels.staggeredTransport_u,\n",
    "    'v' : Odin.TransportModels.staggeredTransport_v,\n",
    "    'p' : Odin.PressureModels.Pressure\n",
    "}\n",
    "\n",
    "passiveFields = {\n",
    "    # 'u' : 'faces_u',\n",
    "    # 'v' : 'faces_v'\n",
    "    #'p' : 'scalarCV'\n",
    "}\n",
    "\n",
    "#remove 'Simulation'. I don't need it\n",
    "sim1 = Odin.Simulation(flowmodels=myFlowModels, mesh=mesh, geometry=geom, passiveFields=passiveFields )\n",
    "\n",
    "myFields = sim1.fieldRegistry\n",
    "u=myFields['u']\n",
    "v=myFields['v']\n",
    "p = myFields['p']\n",
    "\n",
    "# relates to viscosity:\n",
    "u.govModel.setDiffusionCoefficient(0.1)\n",
    "#v.govModel.setDiffusionCoefficient(1)\n",
    "\n",
    "u.data.fill(3.0)\n",
    "#u.defineBoundaryCondition(boundaryName='top', boundaryType='fixedValue', value=0)\n",
    "#Odin.defineBoundaryCondition(field=u, fieldReg=myFields, boundaryName='bottom', boundaryType='fixedValue', value=0)\n",
    "\n",
    "#Odin.defineBoundaryCondition(field=u, fieldReg=myFields, boundaryName='top', boundaryType='zeroGradient')\n",
    "# Odin.defineBoundaryCondition(field=u, fieldReg=myFields, boundaryName='bottom', boundaryType='zeroGradient')\n",
    "\n",
    "Odin.defineBoundaryCondition(field=u, fieldReg=myFields, boundaryName='top', boundaryType='fixedValue', value=0)\n",
    "Odin.defineBoundaryCondition(field=u, fieldReg=myFields, boundaryName='bottom', boundaryType='fixedValue', value=0 )\n",
    "Odin.defineBoundaryCondition(field=u, fieldReg=myFields, boundaryName='left', boundaryType='fixedValue', value=2 )\n",
    "Odin.defineBoundaryCondition(field=u, fieldReg=myFields, boundaryName='right', boundaryType='zeroGradient')\n",
    "\n",
    "# Odin.defineBoundaryCondition(field=u, fieldReg=myFields, boundaryName='top', boundaryType='fixedValue', value=0)\n",
    "# Odin.defineBoundaryCondition(field=u, fieldReg=myFields, boundaryName='bottom', boundaryType='zeroGradient' )\n",
    "# Odin.defineBoundaryCondition(field=u, fieldReg=myFields, boundaryName='left', boundaryType='zeroGradient' )\n",
    "# Odin.defineBoundaryCondition(field=u, fieldReg=myFields, boundaryName='right', boundaryType='fixedValue', value=-2)\n",
    "\n",
    "\n",
    "#print(\"u \\t\", u.data)\n",
    "\n",
    "v.data.fill(0.0)\n",
    "Odin.defineBoundaryCondition(field=v, fieldReg=myFields, boundaryName='top', boundaryType='fixedValue', value=0)\n",
    "Odin.defineBoundaryCondition(field=v, fieldReg=myFields, boundaryName='bottom', boundaryType='fixedValue', value=0)\n",
    "Odin.defineBoundaryCondition(field=v, fieldReg=myFields, boundaryName='left', boundaryType='fixedValue', value=0 )\n",
    "Odin.defineBoundaryCondition(field=v, fieldReg=myFields, boundaryName='right', boundaryType='zeroGradient')\n",
    "\n",
    "p.data.fill(0.0)\n",
    "Odin.defineBoundaryCondition(field=p, fieldReg=myFields, boundaryName='top', boundaryType='zeroGradient')\n",
    "Odin.defineBoundaryCondition(field=p, fieldReg=myFields, boundaryName='bottom', boundaryType='zeroGradient')\n",
    "Odin.defineBoundaryCondition(field=p, fieldReg=myFields, boundaryName='left', boundaryType='zeroGradient')\n",
    "Odin.defineBoundaryCondition(field=p, fieldReg=myFields, boundaryName='right', boundaryType='fixedValue', value=2)\n",
    "#print(\"p \\t\", p.data)\n",
    "\n",
    "for i in range(1):\n",
    "    u.data = Odin.solve(u)\n",
    "    sim1.display(u,mesh)\n",
    "#    input()\n",
    "    #print(\"u \\t\", u.data)\n",
    "\n",
    "#sim1.display(u,mesh)\n",
    "# print(np.fmin(u.govModel._linSystem._A,10))\n",
    "# print(np.fmin(u.govModel._linSystem._b,10))\n",
    "\n",
    "#v.data = sim1.solve(v)\n",
    "#sim1.display(v,mesh)\n",
    "#print(\"v \\t\", v.data)\n",
    "\n",
    "#p.data = p.data - sim1.solve(p)\n",
    "#sim1.display(p,mesh)\n",
    "#print(\"p \\t\", p.data)\n",
    "\n"
   ]
  },
  {
   "cell_type": "code",
   "execution_count": null,
   "outputs": [],
   "source": [
    "# shutting the interpreter down, so I can a fresh instance next time.\n",
    "# my modules are automatically checked for updates\n",
    "import os\n",
    "os._exit(00)\n"
   ],
   "metadata": {
    "collapsed": false,
    "pycharm": {
     "name": "#%%\n",
     "is_executing": true
    }
   }
  }
 ],
 "metadata": {
  "kernelspec": {
   "display_name": "Python 3",
   "language": "python",
   "name": "python3"
  },
  "language_info": {
   "codemirror_mode": {
    "name": "ipython",
    "version": 2
   },
   "file_extension": ".py",
   "mimetype": "text/x-python",
   "name": "python",
   "nbconvert_exporter": "python",
   "pygments_lexer": "ipython2",
   "version": "2.7.6"
  }
 },
 "nbformat": 4,
 "nbformat_minor": 0
}