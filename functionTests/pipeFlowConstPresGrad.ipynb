{
 "cells": [
  {
   "cell_type": "code",
   "execution_count": 1,
   "metadata": {
    "collapsed": true
   },
   "outputs": [
    {
     "name": "stdout",
     "output_type": "stream",
     "text": [
      "{'invCellDist': <Fields.fieldContainer object at 0x7fb958f88a30>, 'u': <BaseField.baseField object at 0x7fb958f88bb0>, 'v': <BaseField.baseField object at 0x7fb958f88dc0>, 'p': <BaseField.baseField object at 0x7fb958f88f70>}\n",
      "[[0. 0. 0. 0.]]\n",
      "u data =  [[2. 3. 3. 3. 3.]]\n",
      "v data = \n",
      " [[0. 0. 0. 0.]\n",
      " [0. 0. 0. 0.]]\n",
      "[[2. 2. 2. 2. 2.]]\n",
      "[[0. 0. 0. 0.]\n",
      " [0. 0. 0. 0.]]\n"
     ]
    },
    {
     "data": {
      "text/plain": "<Figure size 432x288 with 2 Axes>",
      "image/png": "[encoded data removed]"
     },
     "metadata": {
      "needs_background": "light"
     },
     "output_type": "display_data"
    }
   ],
   "source": [
    "%reset -f\n",
    "%load_ext autoreload\n",
    "%autoreload 2\n",
    "\n",
    "import Odin as backend\n",
    "\n",
    "# validation test for incompressible flow\n",
    "\n",
    "geom = backend.createGeometry( 'rectangle', [4,1] )\n",
    "mesh = backend.createMesh( geom, res=1 )\n",
    "\n",
    "# make just a list, give a name as optional parameter to flow model\n",
    "myFlowModels = {\n",
    "    #backend.FlowModels.ConstPresGrad(depVariableName='p'),\n",
    "    'u' : backend.TransportModels.staggeredTransport_u,\n",
    "    'v' : backend.TransportModels.staggeredTransport_v\n",
    "    #'p' : backend.PressureModels.Pressure\n",
    "}\n",
    "\n",
    "passiveFields = {\n",
    "    #'v' : 'faces_v',\n",
    "    'p' : 'scalarCV'\n",
    "}\n",
    "\n",
    "#remove 'Simulation'. I don't need it\n",
    "sim1 = backend.Simulation(flowmodels=myFlowModels, mesh=mesh, geometry=geom, passiveFields=passiveFields )\n",
    "\n",
    "myFields = sim1.getFieldRegistry()\n",
    "print(myFields)\n",
    "\n",
    "myFlowModels['u'].setDiffusionCoefficient(0.1)\n",
    "myFlowModels['v'].setDiffusionCoefficient(0.1)\n",
    "\n",
    "p = myFields['p']\n",
    "print(p.data)\n",
    "\n",
    "u = myFields['u']\n",
    "u.data.fill(3.0)\n",
    "\n",
    "u.defineBoundaryCondition(boundaryName='top', boundaryType='zeroGradient')\n",
    "u.defineBoundaryCondition(boundaryName='bottom', boundaryType='zeroGradient')\n",
    "u.defineBoundaryCondition(boundaryName='left', boundaryType='fixedValue', value=2 )\n",
    "u.defineBoundaryCondition(boundaryName='right', boundaryType='zeroGradient')\n",
    "#U.defineBoundaryCondition(boundaryName='right', boundaryType='fixedValue', value=2)\n",
    "#\n",
    "v = myFields['v']\n",
    "v.data.fill(3.0)\n",
    "\n",
    "v.defineBoundaryCondition(boundaryName='top', boundaryType='fixedValue', value=0.0)\n",
    "v.defineBoundaryCondition(boundaryName='bottom', boundaryType='fixedValue', value=0.0)\n",
    "v.defineBoundaryCondition(boundaryName='left', boundaryType='fixedValue', value=0.0)\n",
    "v.defineBoundaryCondition(boundaryName='right', boundaryType='fixedValue', value=0.0)\n",
    "\n",
    "print('u data = ', u.data)\n",
    "print('v data = \\n', v.data)\n",
    "\n",
    "u.solve()\n",
    "v.solve()\n",
    "\n",
    "print(u.data)\n",
    "print(v.data)\n",
    "\n",
    "sim1.display(p, mesh)"
   ]
  },
  {
   "cell_type": "code",
   "execution_count": null,
   "outputs": [],
   "source": [
    "# shutting the interpreter down, so I can a fresh instance next time.\n",
    "# my modules are automatically checked for updates\n",
    "import os\n",
    "os._exit(00)\n"
   ],
   "metadata": {
    "collapsed": false,
    "pycharm": {
     "name": "#%%\n",
     "is_executing": true
    }
   }
  }
 ],
 "metadata": {
  "kernelspec": {
   "display_name": "Python 3",
   "language": "python",
   "name": "python3"
  },
  "language_info": {
   "codemirror_mode": {
    "name": "ipython",
    "version": 2
   },
   "file_extension": ".py",
   "mimetype": "text/x-python",
   "name": "python",
   "nbconvert_exporter": "python",
   "pygments_lexer": "ipython2",
   "version": "2.7.6"
  }
 },
 "nbformat": 4,
 "nbformat_minor": 0
}