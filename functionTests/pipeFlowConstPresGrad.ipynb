{
 "cells": [
  {
   "cell_type": "code",
   "execution_count": 1,
   "metadata": {
    "collapsed": true
   },
   "outputs": [
    {
     "name": "stdout",
     "output_type": "stream",
     "text": [
      "u \t [[2. 3. 3. 3. 3. 3. 3. 3. 3. 3. 3.]\n",
      " [2. 3. 3. 3. 3. 3. 3. 3. 3. 3. 3.]\n",
      " [2. 3. 3. 3. 3. 3. 3. 3. 3. 3. 3.]\n",
      " [2. 3. 3. 3. 3. 3. 3. 3. 3. 3. 3.]\n",
      " [2. 0. 0. 0. 0. 0. 0. 0. 0. 0. 0.]]\n",
      "p \t [[0. 0. 0. 0. 0. 0. 0. 0. 0. 2.]\n",
      " [0. 0. 0. 0. 0. 0. 0. 0. 0. 2.]\n",
      " [0. 0. 0. 0. 0. 0. 0. 0. 0. 2.]\n",
      " [0. 0. 0. 0. 0. 0. 0. 0. 0. 2.]\n",
      " [0. 0. 0. 0. 0. 0. 0. 0. 0. 2.]]\n",
      "solving  <TransportModels.staggeredTransport_u object at 0x7fc9fc3b7970>\n"
     ]
    },
    {
     "data": {
      "text/plain": "<Figure size 432x288 with 2 Axes>",
      "image/png": "[encoded data removed]"
     },
     "metadata": {
      "needs_background": "light"
     },
     "output_type": "display_data"
    },
    {
     "name": "stdout",
     "output_type": "stream",
     "text": [
      "u \t [[ 2.00000000e+00  1.49083414e+00  1.98186560e+00  1.42073862e+00\n",
      "   2.06207325e+00  1.32918911e+00  2.16677706e+00  1.20957270e+00\n",
      "   2.30343990e+00  1.05325175e+00  1.05325175e+00]\n",
      " [ 2.00000000e+00  1.49153544e+00  1.98259129e+00  1.42139178e+00\n",
      "   2.06304929e+00  1.32927427e+00  2.16732318e+00  1.20844365e+00\n",
      "   2.30268104e+00  1.05024133e+00  1.05024133e+00]\n",
      " [ 2.00000000e+00  1.50274710e+00  1.98341744e+00  1.42605794e+00\n",
      "   2.05769536e+00  1.32164376e+00  2.15233832e+00  1.18456562e+00\n",
      "   2.27556452e+00  1.00819556e+00  1.00819556e+00]\n",
      " [ 2.00000000e+00  1.53042939e+00  1.87193593e+00  1.35589600e+00\n",
      "   1.85381777e+00  1.16691144e+00  1.87964874e+00  9.50309034e-01\n",
      "   1.96126495e+00  6.88246376e-01  6.88246376e-01]\n",
      " [ 1.00000000e+00  7.53042939e-16  1.87193593e-16  1.35589600e-16\n",
      "   1.85381777e-16  1.16691144e-16  1.87964874e-16  9.50309034e-17\n",
      "   1.96126495e-16 -1.93117536e-15 -1.93117536e-31]]\n",
      "solving  <TransportModels.staggeredTransport_v object at 0x7fc9b2b463a0>\n"
     ]
    },
    {
     "data": {
      "text/plain": "<Figure size 432x288 with 2 Axes>",
      "image/png": "[encoded data removed]"
     },
     "metadata": {
      "needs_background": "light"
     },
     "output_type": "display_data"
    },
    {
     "name": "stdout",
     "output_type": "stream",
     "text": [
      "v \t [[ 0.  0.  0.  0.  0.  0.  0.  0.  0.  0.]\n",
      " [ 0. -0.  0. -0.  0. -0.  0. -0.  0. -0.]\n",
      " [ 0. -0.  0. -0.  0. -0.  0. -0.  0. -0.]\n",
      " [ 0. -0.  0. -0.  0. -0.  0. -0.  0. -0.]\n",
      " [ 0. -0.  0. -0.  0. -0.  0. -0.  0.  0.]\n",
      " [ 0.  0.  0.  0.  0.  0.  0.  0.  0.  0.]]\n",
      "solving  <PressureModels.Pressure object at 0x7fc9b2b465e0>\n"
     ]
    },
    {
     "ename": "KeyboardInterrupt",
     "evalue": "",
     "output_type": "error",
     "traceback": [
      "\u001B[0;31m---------------------------------------------------------------------------\u001B[0m",
      "\u001B[0;31mKeyboardInterrupt\u001B[0m                         Traceback (most recent call last)",
      "\u001B[0;32m<ipython-input-1-4a3f12ef7677>\u001B[0m in \u001B[0;36m<module>\u001B[0;34m\u001B[0m\n\u001B[1;32m     71\u001B[0m \u001B[0mprint\u001B[0m\u001B[0;34m(\u001B[0m\u001B[0;34m\"v \\t\"\u001B[0m\u001B[0;34m,\u001B[0m \u001B[0mv\u001B[0m\u001B[0;34m.\u001B[0m\u001B[0mdata\u001B[0m\u001B[0;34m)\u001B[0m\u001B[0;34m\u001B[0m\u001B[0;34m\u001B[0m\u001B[0m\n\u001B[1;32m     72\u001B[0m \u001B[0;34m\u001B[0m\u001B[0m\n\u001B[0;32m---> 73\u001B[0;31m \u001B[0mp\u001B[0m\u001B[0;34m.\u001B[0m\u001B[0mdata\u001B[0m \u001B[0;34m=\u001B[0m \u001B[0mp\u001B[0m\u001B[0;34m.\u001B[0m\u001B[0mdata\u001B[0m \u001B[0;34m-\u001B[0m \u001B[0msim1\u001B[0m\u001B[0;34m.\u001B[0m\u001B[0msolve\u001B[0m\u001B[0;34m(\u001B[0m\u001B[0mp\u001B[0m\u001B[0;34m)\u001B[0m\u001B[0;34m\u001B[0m\u001B[0;34m\u001B[0m\u001B[0m\n\u001B[0m\u001B[1;32m     74\u001B[0m \u001B[0msim1\u001B[0m\u001B[0;34m.\u001B[0m\u001B[0mdisplay\u001B[0m\u001B[0;34m(\u001B[0m\u001B[0mp\u001B[0m\u001B[0;34m,\u001B[0m\u001B[0mmesh\u001B[0m\u001B[0;34m)\u001B[0m\u001B[0;34m\u001B[0m\u001B[0;34m\u001B[0m\u001B[0m\n\u001B[1;32m     75\u001B[0m \u001B[0mprint\u001B[0m\u001B[0;34m(\u001B[0m\u001B[0;34m\"p \\t\"\u001B[0m\u001B[0;34m,\u001B[0m \u001B[0mp\u001B[0m\u001B[0;34m.\u001B[0m\u001B[0mdata\u001B[0m\u001B[0;34m)\u001B[0m\u001B[0;34m\u001B[0m\u001B[0;34m\u001B[0m\u001B[0m\n",
      "\u001B[0;32m~/odin/pythonPlayground/Odin.py\u001B[0m in \u001B[0;36msolve\u001B[0;34m(self, field)\u001B[0m\n\u001B[1;32m     54\u001B[0m         \u001B[0mfield\u001B[0m\u001B[0;34m.\u001B[0m\u001B[0m_govModel\u001B[0m\u001B[0;34m.\u001B[0m\u001B[0mupdateSourceField\u001B[0m\u001B[0;34m(\u001B[0m\u001B[0;34m)\u001B[0m\u001B[0;34m\u001B[0m\u001B[0;34m\u001B[0m\u001B[0m\n\u001B[1;32m     55\u001B[0m         \u001B[0mfield\u001B[0m\u001B[0;34m.\u001B[0m\u001B[0m_govModel\u001B[0m\u001B[0;34m.\u001B[0m\u001B[0mcorrectBCs\u001B[0m\u001B[0;34m(\u001B[0m\u001B[0;34m)\u001B[0m\u001B[0;34m\u001B[0m\u001B[0;34m\u001B[0m\u001B[0m\n\u001B[0;32m---> 56\u001B[0;31m         \u001B[0mfield\u001B[0m\u001B[0;34m.\u001B[0m\u001B[0m_govModel\u001B[0m\u001B[0;34m.\u001B[0m\u001B[0mupdateLinSystem\u001B[0m\u001B[0;34m(\u001B[0m\u001B[0;34m)\u001B[0m\u001B[0;34m\u001B[0m\u001B[0;34m\u001B[0m\u001B[0m\n\u001B[0m\u001B[1;32m     57\u001B[0m         \u001B[0;32mreturn\u001B[0m \u001B[0mfield\u001B[0m\u001B[0;34m.\u001B[0m\u001B[0m_govModel\u001B[0m\u001B[0;34m.\u001B[0m\u001B[0msolve\u001B[0m\u001B[0;34m(\u001B[0m\u001B[0;34m)\u001B[0m\u001B[0;34m\u001B[0m\u001B[0;34m\u001B[0m\u001B[0m\n\u001B[1;32m     58\u001B[0m \u001B[0;34m\u001B[0m\u001B[0m\n",
      "\u001B[0;32m~/odin/pythonPlayground/PressureModels.py\u001B[0m in \u001B[0;36mupdateLinSystem\u001B[0;34m(self)\u001B[0m\n\u001B[1;32m    137\u001B[0m         \u001B[0;31m# a_p += a_i\u001B[0m\u001B[0;34m\u001B[0m\u001B[0;34m\u001B[0m\u001B[0;34m\u001B[0m\u001B[0m\n\u001B[1;32m    138\u001B[0m \u001B[0;34m\u001B[0m\u001B[0m\n\u001B[0;32m--> 139\u001B[0;31m         \u001B[0mself\u001B[0m\u001B[0;34m.\u001B[0m\u001B[0m_linSystem\u001B[0m\u001B[0;34m.\u001B[0m\u001B[0mset_p_coeffs\u001B[0m\u001B[0;34m(\u001B[0m \u001B[0ma_p\u001B[0m\u001B[0;34m.\u001B[0m\u001B[0mdata\u001B[0m \u001B[0;34m)\u001B[0m\u001B[0;34m\u001B[0m\u001B[0;34m\u001B[0m\u001B[0m\n\u001B[0m\u001B[1;32m    140\u001B[0m \u001B[0;34m\u001B[0m\u001B[0m\n\u001B[1;32m    141\u001B[0m         \u001B[0;31m# setting source Field:\u001B[0m\u001B[0;34m\u001B[0m\u001B[0;34m\u001B[0m\u001B[0;34m\u001B[0m\u001B[0m\n",
      "\u001B[0;32m~/odin/pythonPlayground/PressureModels.py\u001B[0m in \u001B[0;36mupdateLinSystem\u001B[0;34m(self)\u001B[0m\n\u001B[1;32m    137\u001B[0m         \u001B[0;31m# a_p += a_i\u001B[0m\u001B[0;34m\u001B[0m\u001B[0;34m\u001B[0m\u001B[0;34m\u001B[0m\u001B[0m\n\u001B[1;32m    138\u001B[0m \u001B[0;34m\u001B[0m\u001B[0m\n\u001B[0;32m--> 139\u001B[0;31m         \u001B[0mself\u001B[0m\u001B[0;34m.\u001B[0m\u001B[0m_linSystem\u001B[0m\u001B[0;34m.\u001B[0m\u001B[0mset_p_coeffs\u001B[0m\u001B[0;34m(\u001B[0m \u001B[0ma_p\u001B[0m\u001B[0;34m.\u001B[0m\u001B[0mdata\u001B[0m \u001B[0;34m)\u001B[0m\u001B[0;34m\u001B[0m\u001B[0;34m\u001B[0m\u001B[0m\n\u001B[0m\u001B[1;32m    140\u001B[0m \u001B[0;34m\u001B[0m\u001B[0m\n\u001B[1;32m    141\u001B[0m         \u001B[0;31m# setting source Field:\u001B[0m\u001B[0;34m\u001B[0m\u001B[0;34m\u001B[0m\u001B[0;34m\u001B[0m\u001B[0m\n",
      "\u001B[0;32m~/opt/pycharm-2021.2/plugins/python/helpers/pydev/_pydevd_bundle/pydevd_frame.py\u001B[0m in \u001B[0;36mtrace_dispatch\u001B[0;34m(self, frame, event, arg)\u001B[0m\n\u001B[1;32m    745\u001B[0m                 \u001B[0;31m# if thread has a suspend flag, we suspend with a busy wait\u001B[0m\u001B[0;34m\u001B[0m\u001B[0;34m\u001B[0m\u001B[0;34m\u001B[0m\u001B[0m\n\u001B[1;32m    746\u001B[0m                 \u001B[0;32mif\u001B[0m \u001B[0minfo\u001B[0m\u001B[0;34m.\u001B[0m\u001B[0mpydev_state\u001B[0m \u001B[0;34m==\u001B[0m \u001B[0mSTATE_SUSPEND\u001B[0m\u001B[0;34m:\u001B[0m\u001B[0;34m\u001B[0m\u001B[0;34m\u001B[0m\u001B[0m\n\u001B[0;32m--> 747\u001B[0;31m                     \u001B[0mself\u001B[0m\u001B[0;34m.\u001B[0m\u001B[0mdo_wait_suspend\u001B[0m\u001B[0;34m(\u001B[0m\u001B[0mthread\u001B[0m\u001B[0;34m,\u001B[0m \u001B[0mframe\u001B[0m\u001B[0;34m,\u001B[0m \u001B[0mevent\u001B[0m\u001B[0;34m,\u001B[0m \u001B[0marg\u001B[0m\u001B[0;34m)\u001B[0m\u001B[0;34m\u001B[0m\u001B[0;34m\u001B[0m\u001B[0m\n\u001B[0m\u001B[1;32m    748\u001B[0m                     \u001B[0;31m# No need to reset frame.f_trace to keep the same trace function.\u001B[0m\u001B[0;34m\u001B[0m\u001B[0;34m\u001B[0m\u001B[0;34m\u001B[0m\u001B[0m\n\u001B[1;32m    749\u001B[0m                     \u001B[0;32mreturn\u001B[0m \u001B[0mself\u001B[0m\u001B[0;34m.\u001B[0m\u001B[0mtrace_dispatch\u001B[0m\u001B[0;34m\u001B[0m\u001B[0;34m\u001B[0m\u001B[0m\n",
      "\u001B[0;32m~/opt/pycharm-2021.2/plugins/python/helpers/pydev/_pydevd_bundle/pydevd_frame.py\u001B[0m in \u001B[0;36mdo_wait_suspend\u001B[0;34m(self, *args, **kwargs)\u001B[0m\n\u001B[1;32m    142\u001B[0m \u001B[0;34m\u001B[0m\u001B[0m\n\u001B[1;32m    143\u001B[0m     \u001B[0;32mdef\u001B[0m \u001B[0mdo_wait_suspend\u001B[0m\u001B[0;34m(\u001B[0m\u001B[0mself\u001B[0m\u001B[0;34m,\u001B[0m \u001B[0;34m*\u001B[0m\u001B[0margs\u001B[0m\u001B[0;34m,\u001B[0m \u001B[0;34m**\u001B[0m\u001B[0mkwargs\u001B[0m\u001B[0;34m)\u001B[0m\u001B[0;34m:\u001B[0m\u001B[0;34m\u001B[0m\u001B[0;34m\u001B[0m\u001B[0m\n\u001B[0;32m--> 144\u001B[0;31m         \u001B[0mself\u001B[0m\u001B[0;34m.\u001B[0m\u001B[0m_args\u001B[0m\u001B[0;34m[\u001B[0m\u001B[0;36m0\u001B[0m\u001B[0;34m]\u001B[0m\u001B[0;34m.\u001B[0m\u001B[0mdo_wait_suspend\u001B[0m\u001B[0;34m(\u001B[0m\u001B[0;34m*\u001B[0m\u001B[0margs\u001B[0m\u001B[0;34m,\u001B[0m \u001B[0;34m**\u001B[0m\u001B[0mkwargs\u001B[0m\u001B[0;34m)\u001B[0m\u001B[0;34m\u001B[0m\u001B[0;34m\u001B[0m\u001B[0m\n\u001B[0m\u001B[1;32m    145\u001B[0m \u001B[0;34m\u001B[0m\u001B[0m\n\u001B[1;32m    146\u001B[0m     \u001B[0;31m# IFDEF CYTHON\u001B[0m\u001B[0;34m\u001B[0m\u001B[0;34m\u001B[0m\u001B[0;34m\u001B[0m\u001B[0m\n",
      "\u001B[0;32m~/opt/pycharm-2021.2/plugins/python/helpers/pydev/pydevd.py\u001B[0m in \u001B[0;36mdo_wait_suspend\u001B[0;34m(self, thread, frame, event, arg, send_suspend_message, is_unhandled_exception)\u001B[0m\n\u001B[1;32m   1145\u001B[0m \u001B[0;34m\u001B[0m\u001B[0m\n\u001B[1;32m   1146\u001B[0m         \u001B[0;32mwith\u001B[0m \u001B[0mself\u001B[0m\u001B[0;34m.\u001B[0m\u001B[0m_threads_suspended_single_notification\u001B[0m\u001B[0;34m.\u001B[0m\u001B[0mnotify_thread_suspended\u001B[0m\u001B[0;34m(\u001B[0m\u001B[0mthread_id\u001B[0m\u001B[0;34m,\u001B[0m \u001B[0mstop_reason\u001B[0m\u001B[0;34m)\u001B[0m\u001B[0;34m:\u001B[0m\u001B[0;34m\u001B[0m\u001B[0;34m\u001B[0m\u001B[0m\n\u001B[0;32m-> 1147\u001B[0;31m             \u001B[0mself\u001B[0m\u001B[0;34m.\u001B[0m\u001B[0m_do_wait_suspend\u001B[0m\u001B[0;34m(\u001B[0m\u001B[0mthread\u001B[0m\u001B[0;34m,\u001B[0m \u001B[0mframe\u001B[0m\u001B[0;34m,\u001B[0m \u001B[0mevent\u001B[0m\u001B[0;34m,\u001B[0m \u001B[0marg\u001B[0m\u001B[0;34m,\u001B[0m \u001B[0msuspend_type\u001B[0m\u001B[0;34m,\u001B[0m \u001B[0mfrom_this_thread\u001B[0m\u001B[0;34m)\u001B[0m\u001B[0;34m\u001B[0m\u001B[0;34m\u001B[0m\u001B[0m\n\u001B[0m\u001B[1;32m   1148\u001B[0m \u001B[0;34m\u001B[0m\u001B[0m\n\u001B[1;32m   1149\u001B[0m     \u001B[0;32mdef\u001B[0m \u001B[0m_do_wait_suspend\u001B[0m\u001B[0;34m(\u001B[0m\u001B[0mself\u001B[0m\u001B[0;34m,\u001B[0m \u001B[0mthread\u001B[0m\u001B[0;34m,\u001B[0m \u001B[0mframe\u001B[0m\u001B[0;34m,\u001B[0m \u001B[0mevent\u001B[0m\u001B[0;34m,\u001B[0m \u001B[0marg\u001B[0m\u001B[0;34m,\u001B[0m \u001B[0msuspend_type\u001B[0m\u001B[0;34m,\u001B[0m \u001B[0mfrom_this_thread\u001B[0m\u001B[0;34m)\u001B[0m\u001B[0;34m:\u001B[0m\u001B[0;34m\u001B[0m\u001B[0;34m\u001B[0m\u001B[0m\n",
      "\u001B[0;32m~/opt/pycharm-2021.2/plugins/python/helpers/pydev/pydevd.py\u001B[0m in \u001B[0;36m_do_wait_suspend\u001B[0;34m(self, thread, frame, event, arg, suspend_type, from_this_thread)\u001B[0m\n\u001B[1;32m   1160\u001B[0m \u001B[0;34m\u001B[0m\u001B[0m\n\u001B[1;32m   1161\u001B[0m                 \u001B[0mself\u001B[0m\u001B[0;34m.\u001B[0m\u001B[0mprocess_internal_commands\u001B[0m\u001B[0;34m(\u001B[0m\u001B[0;34m)\u001B[0m\u001B[0;34m\u001B[0m\u001B[0;34m\u001B[0m\u001B[0m\n\u001B[0;32m-> 1162\u001B[0;31m                 \u001B[0mtime\u001B[0m\u001B[0;34m.\u001B[0m\u001B[0msleep\u001B[0m\u001B[0;34m(\u001B[0m\u001B[0;36m0.01\u001B[0m\u001B[0;34m)\u001B[0m\u001B[0;34m\u001B[0m\u001B[0;34m\u001B[0m\u001B[0m\n\u001B[0m\u001B[1;32m   1163\u001B[0m \u001B[0;34m\u001B[0m\u001B[0m\n\u001B[1;32m   1164\u001B[0m         \u001B[0mself\u001B[0m\u001B[0;34m.\u001B[0m\u001B[0mcancel_async_evaluation\u001B[0m\u001B[0;34m(\u001B[0m\u001B[0mget_current_thread_id\u001B[0m\u001B[0;34m(\u001B[0m\u001B[0mthread\u001B[0m\u001B[0;34m)\u001B[0m\u001B[0;34m,\u001B[0m \u001B[0mstr\u001B[0m\u001B[0;34m(\u001B[0m\u001B[0mid\u001B[0m\u001B[0;34m(\u001B[0m\u001B[0mframe\u001B[0m\u001B[0;34m)\u001B[0m\u001B[0;34m)\u001B[0m\u001B[0;34m)\u001B[0m\u001B[0;34m\u001B[0m\u001B[0;34m\u001B[0m\u001B[0m\n",
      "\u001B[0;31mKeyboardInterrupt\u001B[0m: "
     ]
    }
   ],
   "source": [
    "%reset -f\n",
    "%load_ext autoreload\n",
    "%autoreload 2\n",
    "\n",
    "import numpy as np\n",
    "import Odin as backend\n",
    "\n",
    "# validation test for incompressible flow\n",
    "\n",
    "geom = backend.createGeometry( 'rectangle', [10,5] )\n",
    "mesh = backend.createMesh( geom, res=1 )\n",
    "\n",
    "# make just a list, give a name as optional parameter to flow model\n",
    "# make this a flowmodeles constructor with kwargs here and then remove simulation instance\n",
    "myFlowModels = {\n",
    "    #backend.FlowModels.ConstPresGrad(depVariableName='p'),\n",
    "   'u' : backend.TransportModels.staggeredTransport_u,\n",
    "   'v' : backend.TransportModels.staggeredTransport_v,\n",
    "    'p' : backend.PressureModels.Pressure\n",
    "}\n",
    "\n",
    "passiveFields = {\n",
    "    # 'u' : 'faces_u',\n",
    "    # 'v' : 'faces_v'\n",
    "    #'p' : 'scalarCV'\n",
    "}\n",
    "\n",
    "#remove 'Simulation'. I don't need it\n",
    "sim1 = backend.Simulation(flowmodels=myFlowModels, mesh=mesh, geometry=geom, passiveFields=passiveFields )\n",
    "\n",
    "myFields = sim1.getFieldRegistry()\n",
    "\n",
    "myFlowModels['u'].setDiffusionCoefficient(0.1)\n",
    "myFlowModels['v'].setDiffusionCoefficient(0.1)\n",
    "\n",
    "\n",
    "u = myFields['u']\n",
    "u.data.fill(3.0)\n",
    "#u.defineBoundaryCondition(boundaryName='top', boundaryType='fixedValue', value=0)\n",
    "u.defineBoundaryCondition(boundaryName='bottom', boundaryType='fixedValue', value=0)\n",
    "\n",
    "u.defineBoundaryCondition(boundaryName='top', boundaryType='zeroGradient')\n",
    "# u.defineBoundaryCondition(boundaryName='bottom', boundaryType='zeroGradient')\n",
    "u.defineBoundaryCondition(boundaryName='left', boundaryType='fixedValue', value=2 )\n",
    "u.defineBoundaryCondition(boundaryName='right', boundaryType='zeroGradient')\n",
    "print(\"u \\t\", u.data)\n",
    "\n",
    "v = myFields['v']\n",
    "v.data.fill(0.0)\n",
    "v.defineBoundaryCondition(boundaryName='top', boundaryType='fixedValue', value=0)\n",
    "v.defineBoundaryCondition(boundaryName='bottom', boundaryType='fixedValue', value=0)\n",
    "v.defineBoundaryCondition(boundaryName='left', boundaryType='fixedValue', value=0 )\n",
    "v.defineBoundaryCondition(boundaryName='right', boundaryType='zeroGradient')\n",
    "\n",
    "p = myFields['p']\n",
    "p.data.fill(0.0)\n",
    "p.defineBoundaryCondition(boundaryName='top', boundaryType='zeroGradient')\n",
    "p.defineBoundaryCondition(boundaryName='bottom', boundaryType='zeroGradient')\n",
    "p.defineBoundaryCondition(boundaryName='left', boundaryType='zeroGradient')\n",
    "p.defineBoundaryCondition(boundaryName='right', boundaryType='fixedValue', value=2)\n",
    "print(\"p \\t\", p.data)\n",
    "\n",
    "\n",
    "u.data = sim1.solve(u)\n",
    "sim1.display(u,mesh)\n",
    "print(\"u \\t\", u.data)\n",
    "\n",
    "v.data = sim1.solve(v)\n",
    "sim1.display(v,mesh)\n",
    "print(\"v \\t\", v.data)\n",
    "\n",
    "p.data = p.data - sim1.solve(p)\n",
    "sim1.display(p,mesh)\n",
    "print(\"p \\t\", p.data)\n",
    "\n"
   ]
  },
  {
   "cell_type": "code",
   "execution_count": null,
   "outputs": [],
   "source": [
    "# shutting the interpreter down, so I can a fresh instance next time.\n",
    "# my modules are automatically checked for updates\n",
    "import os\n",
    "os._exit(00)\n"
   ],
   "metadata": {
    "collapsed": false,
    "pycharm": {
     "name": "#%%\n",
     "is_executing": true
    }
   }
  }
 ],
 "metadata": {
  "kernelspec": {
   "display_name": "Python 3",
   "language": "python",
   "name": "python3"
  },
  "language_info": {
   "codemirror_mode": {
    "name": "ipython",
    "version": 2
   },
   "file_extension": ".py",
   "mimetype": "text/x-python",
   "name": "python",
   "nbconvert_exporter": "python",
   "pygments_lexer": "ipython2",
   "version": "2.7.6"
  }
 },
 "nbformat": 4,
 "nbformat_minor": 0
}