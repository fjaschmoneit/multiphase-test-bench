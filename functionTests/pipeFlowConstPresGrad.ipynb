{
 "cells": [
  {
   "cell_type": "code",
   "execution_count": 1,
   "metadata": {
    "collapsed": true
   },
   "outputs": [
    {
     "name": "stdout",
     "output_type": "stream",
     "text": [
      "The autoreload extension is already loaded. To reload it, use:\n",
      "  %reload_ext autoreload\n",
      "{'governor': <Fields.fieldGovernor object at 0x7fdc597e41f0>, 'invCellDist': <Fields.fieldContainer object at 0x7fdc222f76d0>, 'u': <BaseField.baseField object at 0x7fdc222f79d0>, 'v': <BaseField.baseField object at 0x7fdc222f7a00>, 'p': <BaseField.baseField object at 0x7fdc222f7a30>, 'nu': 0.0}\n",
      "[[0. 0. 0. 0.]]\n",
      "[[1. 0. 0. 0. 0.]]\n"
     ]
    }
   ],
   "source": [
    "%reset -f\n",
    "%load_ext autoreload\n",
    "%autoreload 2\n",
    "\n",
    "import Odin as backend\n",
    "\n",
    "# validation test for incompressible flow\n",
    "\n",
    "geom = backend.createGeometry( 'rectangle', [4,1] )\n",
    "mesh = backend.createMesh( geom, res=1 )\n",
    "\n",
    "# make just a list, give a name as optional parameter to flow model\n",
    "myFlowModels = [\n",
    "    backend.FlowModels.ConstPresGrad(depVariableName='p'),\n",
    "    backend.FlowModels.IncompressibleMomentumComp(depVariableName='u', orientation=0, otherVelocityFieldName='v', pressureFieldName='p', kinViscosityName='nu')\n",
    "]\n",
    "\n",
    "sim1 = backend.Simulation(myFlowModels, mesh, geom )\n",
    "\n",
    "myFields = sim1.getFieldRegistry()\n",
    "print(myFields)\n",
    "\n",
    "myFields['nu'] = 1.0\n",
    "\n",
    "myFlowModels[0].initializeFields(myFields, mesh)\n",
    "myFlowModels[0].setConstPresGrad(-0.0, myFields)\n",
    "\n",
    "p = myFields['p']\n",
    "print(p.data)\n",
    "\n",
    "U = myFields['u']\n",
    "#U.data.fill(2.0)\n",
    "\n",
    "U.defineBoundaryCondition(boundaryName='top', boundaryType='zeroGradient')\n",
    "U.defineBoundaryCondition(boundaryName='bottom', boundaryType='zeroGradient')\n",
    "U.defineBoundaryCondition(boundaryName='left', boundaryType='fixedValue', value=1 )\n",
    "#U.defineBoundaryCondition(boundaryName='left', boundaryType='zeroGradient')\n",
    "U.defineBoundaryCondition(boundaryName='right', boundaryType='zeroGradient')\n",
    "\n",
    "print(U.data)\n",
    "\n",
    "sim1.solve('u')\n",
    "print(U.data)\n",
    "\n",
    "sim1.display(p, mesh)"
   ]
  },
  {
   "cell_type": "code",
   "execution_count": null,
   "outputs": [],
   "source": [
    "# shutting the interpreter down, so I can a fresh instance next time.\n",
    "# my modules are automatically checked for updates\n",
    "import os\n",
    "os._exit(00)\n"
   ],
   "metadata": {
    "collapsed": false,
    "pycharm": {
     "name": "#%%\n",
     "is_executing": true
    }
   }
  }
 ],
 "metadata": {
  "kernelspec": {
   "display_name": "Python 3",
   "language": "python",
   "name": "python3"
  },
  "language_info": {
   "codemirror_mode": {
    "name": "ipython",
    "version": 2
   },
   "file_extension": ".py",
   "mimetype": "text/x-python",
   "name": "python",
   "nbconvert_exporter": "python",
   "pygments_lexer": "ipython2",
   "version": "2.7.6"
  }
 },
 "nbformat": 4,
 "nbformat_minor": 0
}