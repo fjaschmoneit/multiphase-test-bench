{
 "cells": [
  {
   "cell_type": "code",
   "execution_count": 1,
   "metadata": {
    "collapsed": true
   },
   "outputs": [
    {
     "name": "stdout",
     "output_type": "stream",
     "text": [
      "{'governor': <Fields.fieldGovernor object at 0x7f591348f3d0>, 'invCellDist': <Fields.vectorField object at 0x7f59103bf610>, 'T': <ScalarField.scalarField object at 0x7f5900082940>, 'u': <Fields.vectorField object at 0x7f5900082a00>, 'D': 0.0}\n"
     ]
    }
   ],
   "source": [
    "%reset -f\n",
    "%load_ext autoreload\n",
    "%autoreload 2\n",
    "\n",
    "import Odin\n",
    "\n",
    "# validation test for scalar convection + diffusion\n",
    "# this validation test follows \"H K Versteeg and W Malalasekera, An Introduction to Computational Fluid Dynamics\n",
    "# THE FINITE VOLUME METHOD, Second Edition, 2007\" examples 5.1\n",
    "\n",
    "# the temperature along the x-axis should develop as:\n",
    "def yFunc(x, case):\n",
    "    if case == 1:\n",
    "        return (2.7183-np.exp(x))/1.7183\n",
    "    else:\n",
    "        return 1+(1-np.exp(25*x))/(7.2e10)\n",
    "\n",
    "case = 2   # 1,2,3\n",
    "\n",
    "# geometric parameters\n",
    "LenX = 1\n",
    "LenY = 0.3\n",
    "resolution = 20 if case == 3 else 5\n",
    "\n",
    "#velocity in x direction: [ m/s ]\n",
    "velX = 0.1 if case == 1 else 2.5\n",
    "\n",
    "# thermal conductivity [ W / (m K) ]\n",
    "k = 0.1\n",
    "\n",
    "# const temperature at left/right boundaries [K]\n",
    "T_l = 1\n",
    "T_r = 0\n",
    "\n",
    "geom = Odin.createGeometry( 'rectangle', [LenX, LenY] )\n",
    "mesh = Odin.createMesh( geom, res=resolution )\n",
    "\n",
    "# example: incompressible flow but with temp-dep density, i.e. BoussinesqFlow\n",
    "# mulitphase stokes flow\n",
    "myFlowModels = [\n",
    "    Odin.FlowModels.ScalarConvectionDiffusion(depVariableName='T', velocityFieldName='u', diffusionCoeffName='D')\n",
    "    ]\n",
    "\n",
    "sim1 = Odin.Simulation(myFlowModels, mesh, geom )\n",
    "\n",
    "myFields = sim1.getFieldRegistry()\n",
    "print(myFields)\n",
    "\n",
    "myFields['D'] = k\n",
    "\n",
    "# defining the velocity field:\n",
    "# I name the field 'U' because that name was given to the flow model above\n",
    "U = myFields['u']\n",
    "#U.setInternalValue([velX, 0])\n",
    "U.u = velX\n",
    "U.v = 0\n",
    "\n",
    "# changing boundary conditions\n",
    "T = myFields['T']\n",
    "T.setBoundaryCondition('top', 'zeroGradient')\n",
    "T.setBoundaryCondition('bottom', 'zeroGradient')\n",
    "T.setBoundaryCondition('left', T_l)\n",
    "T.setBoundaryCondition('right', T_r)\n",
    "T.setConstSource( 0.0 )\n",
    "\n",
    "sim1.solve('T')"
   ]
  },
  {
   "cell_type": "code",
   "execution_count": 2,
   "outputs": [
    {
     "data": {
      "text/plain": "<Figure size 432x288 with 2 Axes>",
      "image/png": "[encoded data removed]"
     },
     "metadata": {
      "needs_background": "light"
     },
     "output_type": "display_data"
    },
    {
     "data": {
      "text/plain": "<Figure size 432x288 with 1 Axes>",
      "image/png": "[encoded data removed]"
     },
     "metadata": {
      "needs_background": "light"
     },
     "output_type": "display_data"
    },
    {
     "name": "stdout",
     "output_type": "stream",
     "text": [
      "[1.00416667 0.99166667 1.02083333 0.95277778 1.11157407]\n"
     ]
    }
   ],
   "source": [
    "# post-processing:\n",
    "import numpy as np\n",
    "import matplotlib.pyplot as plt\n",
    "\n",
    "sim1.display(T, mesh)\n",
    "\n",
    "nbcellsX = sim1._mesh._cells_x\n",
    "cellSpacing = sim1._mesh._uniformSpacing\n",
    "L = geom._lenX\n",
    "\n",
    "xSim = np.linspace(0+0.5*cellSpacing,LenX-0.5*cellSpacing,nbcellsX)\n",
    "ySim = T._raw[0,:]\n",
    "\n",
    "xTheo = np.linspace(0,LenX, 100)\n",
    "yTheor = np.array([yFunc(x, case) for x in xTheo])\n",
    "\n",
    "ax = plt.gca()\n",
    "ax.plot(xSim, ySim, 'x', label='simulation')\n",
    "ax.plot(xTheo, yTheor, label='theoretical')\n",
    "\n",
    "plt.legend()\n",
    "plt.show()\n",
    "\n",
    "print(ySim)"
   ],
   "metadata": {
    "collapsed": false,
    "pycharm": {
     "name": "#%%\n"
    }
   }
  },
  {
   "cell_type": "code",
   "execution_count": null,
   "outputs": [],
   "source": [
    "# shutting the interpreter down, so I can a fresh instance next time.\n",
    "# my modules are automatically checked for updates\n",
    "import os\n",
    "os._exit(00)"
   ],
   "metadata": {
    "collapsed": false,
    "pycharm": {
     "name": "#%%\n",
     "is_executing": true
    }
   }
  },
  {
   "cell_type": "code",
   "execution_count": null,
   "outputs": [],
   "source": [],
   "metadata": {
    "collapsed": false,
    "pycharm": {
     "name": "#%%\n",
     "is_executing": true
    }
   }
  }
 ],
 "metadata": {
  "kernelspec": {
   "name": "pycharm-7f717e5c",
   "language": "python",
   "display_name": "PyCharm (pythonPlayground)"
  },
  "language_info": {
   "codemirror_mode": {
    "name": "ipython",
    "version": 2
   },
   "file_extension": ".py",
   "mimetype": "text/x-python",
   "name": "python",
   "nbconvert_exporter": "python",
   "pygments_lexer": "ipython2",
   "version": "2.7.6"
  }
 },
 "nbformat": 4,
 "nbformat_minor": 0
}