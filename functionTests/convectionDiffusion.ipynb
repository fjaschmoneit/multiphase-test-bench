{
 "cells": [
  {
   "cell_type": "code",
   "execution_count": 1,
   "metadata": {
    "collapsed": true
   },
   "outputs": [
    {
     "name": "stdout",
     "output_type": "stream",
     "text": [
      "{'invCellDist': (array([[20., 20., 20., 20., 20., 20., 20., 20., 20., 20., 20., 20., 20.,\n",
      "        20., 20., 20., 20., 20., 20., 20., 20.],\n",
      "       [20., 20., 20., 20., 20., 20., 20., 20., 20., 20., 20., 20., 20.,\n",
      "        20., 20., 20., 20., 20., 20., 20., 20.],\n",
      "       [20., 20., 20., 20., 20., 20., 20., 20., 20., 20., 20., 20., 20.,\n",
      "        20., 20., 20., 20., 20., 20., 20., 20.],\n",
      "       [20., 20., 20., 20., 20., 20., 20., 20., 20., 20., 20., 20., 20.,\n",
      "        20., 20., 20., 20., 20., 20., 20., 20.],\n",
      "       [20., 20., 20., 20., 20., 20., 20., 20., 20., 20., 20., 20., 20.,\n",
      "        20., 20., 20., 20., 20., 20., 20., 20.],\n",
      "       [20., 20., 20., 20., 20., 20., 20., 20., 20., 20., 20., 20., 20.,\n",
      "        20., 20., 20., 20., 20., 20., 20., 20.]]), array([[20., 20., 20., 20., 20., 20., 20., 20., 20., 20., 20., 20., 20.,\n",
      "        20., 20., 20., 20., 20., 20., 20.],\n",
      "       [20., 20., 20., 20., 20., 20., 20., 20., 20., 20., 20., 20., 20.,\n",
      "        20., 20., 20., 20., 20., 20., 20.],\n",
      "       [20., 20., 20., 20., 20., 20., 20., 20., 20., 20., 20., 20., 20.,\n",
      "        20., 20., 20., 20., 20., 20., 20.],\n",
      "       [20., 20., 20., 20., 20., 20., 20., 20., 20., 20., 20., 20., 20.,\n",
      "        20., 20., 20., 20., 20., 20., 20.],\n",
      "       [20., 20., 20., 20., 20., 20., 20., 20., 20., 20., 20., 20., 20.,\n",
      "        20., 20., 20., 20., 20., 20., 20.],\n",
      "       [20., 20., 20., 20., 20., 20., 20., 20., 20., 20., 20., 20., 20.,\n",
      "        20., 20., 20., 20., 20., 20., 20.],\n",
      "       [20., 20., 20., 20., 20., 20., 20., 20., 20., 20., 20., 20., 20.,\n",
      "        20., 20., 20., 20., 20., 20., 20.]])), 'T': <Fields.baseField object at 0x7f005593c820>, 'u': <Fields.baseField object at 0x7f005593c940>, 'v': <Fields.baseField object at 0x7f005593c9a0>}\n"
     ]
    }
   ],
   "source": [
    "%reset -f\n",
    "%load_ext autoreload\n",
    "%autoreload 2\n",
    "\n",
    "import Odin\n",
    "\n",
    "# validation test for scalar convection + diffusion\n",
    "# this validation test follows \"H K Versteeg and W Malalasekera, An Introduction to Computational Fluid Dynamics\n",
    "# THE FINITE VOLUME METHOD, Second Edition, 2007\" examples 5.1\n",
    "\n",
    "# the temperature along the x-axis should develop as:\n",
    "def yFunc(x, case):\n",
    "    if case == 1:\n",
    "        return (2.7183-np.exp(x))/1.7183\n",
    "    else:\n",
    "        return 1+(1-np.exp(25*x))/(7.2e10)\n",
    "\n",
    "case = 3   # 1,2,3\n",
    "\n",
    "# geometric parameters\n",
    "LenX = 1\n",
    "LenY = 0.3\n",
    "resolution = 20 if case == 3 else 5\n",
    "\n",
    "#velocity in x direction: [ m/s ]\n",
    "velX = 0.1 if case == 1 else 2.5\n",
    "\n",
    "# thermal conductivity [ W / (m K) ]\n",
    "k = 0.1\n",
    "\n",
    "# const temperature at left/right boundaries [K]\n",
    "T_l = 1\n",
    "T_r = 0\n",
    "\n",
    "geom = Odin.createGeometry( 'rectangle', [LenX, LenY] )\n",
    "mesh = Odin.createMesh( geom, res=resolution )\n",
    "\n",
    "# example: incompressible flow but with temp-dep density, i.e. BoussinesqFlow\n",
    "# mulitphase stokes flow\n",
    "myFlowModels = {\n",
    "    'T' : Odin.TransportModels.scalarTransport\n",
    "}\n",
    "\n",
    "passiveFields = {\n",
    "    'u' : 'faces_u',\n",
    "    'v' : 'faces_v'\n",
    "}\n",
    "\n",
    "sim1 = Odin.Simulation(myFlowModels, mesh, geom, passiveFields )\n",
    "\n",
    "myFields = sim1.fieldRegistry\n",
    "print(myFields)\n",
    "\n",
    "T = myFields['T']\n",
    "T.govModel.setDiffusionCoefficient(value=k)\n",
    "\n",
    "u = myFields['u']\n",
    "u.data.fill(velX)\n",
    "\n",
    "# changing boundary conditions\n",
    "Odin.defineBoundaryCondition(field=T, boundaryName='top', type='zeroGradient')\n",
    "Odin.defineBoundaryCondition(field=T, boundaryName='bottom', type='zeroGradient')\n",
    "Odin.defineBoundaryCondition(field=T, boundaryName='left', type='fixedValue', value=T_l )\n",
    "Odin.defineBoundaryCondition(field=T, boundaryName='right', type='fixedValue', value=T_r )\n",
    "\n",
    "#Odin.updateSource(field=T, value=0.0, mesh=mesh )\n",
    "\n",
    "T.data = Odin.solve(T)"
   ]
  },
  {
   "cell_type": "code",
   "execution_count": 2,
   "outputs": [
    {
     "data": {
      "text/plain": "<Figure size 432x288 with 2 Axes>",
      "image/png": "[encoded data removed]"
     },
     "metadata": {
      "needs_background": "light"
     },
     "output_type": "display_data"
    },
    {
     "data": {
      "text/plain": "<Figure size 432x288 with 1 Axes>",
      "image/png": "[encoded data removed]"
     },
     "metadata": {
      "needs_background": "light"
     },
     "output_type": "display_data"
    },
    {
     "name": "stdout",
     "output_type": "stream",
     "text": [
      "[1.         1.         1.         1.         1.         1.\n",
      " 1.         0.99999999 0.99999996 0.99999984 0.9999993  0.99999698\n",
      " 0.99998693 0.99994336 0.99975457 0.99893649 0.99539144 0.98002959\n",
      " 0.91346154 0.625     ]\n"
     ]
    }
   ],
   "source": [
    "# post-processing:\n",
    "import numpy as np\n",
    "import matplotlib.pyplot as plt\n",
    "\n",
    "sim1.display(T, mesh)\n",
    "\n",
    "nbcellsX = sim1.mesh.cells_x\n",
    "cellSpacing = sim1.mesh.uniformSpacing\n",
    "L = geom.lenX\n",
    "\n",
    "xSim = np.linspace(0+0.5*cellSpacing,LenX-0.5*cellSpacing,nbcellsX)\n",
    "ySim = T.data[0,:]\n",
    "\n",
    "xTheo = np.linspace(0,LenX, 100)\n",
    "yTheor = np.array([yFunc(x, case) for x in xTheo])\n",
    "\n",
    "ax = plt.gca()\n",
    "ax.plot(xSim, ySim, 'x', label='simulation')\n",
    "ax.plot(xTheo, yTheor, label='theoretical')\n",
    "\n",
    "plt.legend()\n",
    "plt.show()\n",
    "\n",
    "print(ySim)"
   ],
   "metadata": {
    "collapsed": false,
    "pycharm": {
     "name": "#%%\n"
    }
   }
  },
  {
   "cell_type": "code",
   "execution_count": null,
   "outputs": [],
   "source": [
    "# shutting the interpreter down, so I can a fresh instance next time.\n",
    "# my modules are automatically checked for updates\n",
    "import os\n",
    "os._exit(00)"
   ],
   "metadata": {
    "collapsed": false,
    "pycharm": {
     "name": "#%%\n",
     "is_executing": true
    }
   }
  },
  {
   "cell_type": "code",
   "execution_count": null,
   "outputs": [],
   "source": [],
   "metadata": {
    "collapsed": false,
    "pycharm": {
     "name": "#%%\n",
     "is_executing": true
    }
   }
  }
 ],
 "metadata": {
  "kernelspec": {
   "name": "pycharm-7f717e5c",
   "language": "python",
   "display_name": "PyCharm (pythonPlayground)"
  },
  "language_info": {
   "codemirror_mode": {
    "name": "ipython",
    "version": 2
   },
   "file_extension": ".py",
   "mimetype": "text/x-python",
   "name": "python",
   "nbconvert_exporter": "python",
   "pygments_lexer": "ipython2",
   "version": "2.7.6"
  }
 },
 "nbformat": 4,
 "nbformat_minor": 0
}