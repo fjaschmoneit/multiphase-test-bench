{
 "cells": [
  {
   "cell_type": "code",
   "execution_count": 3,
   "metadata": {
    "collapsed": true
   },
   "outputs": [
    {
     "name": "stdout",
     "output_type": "stream",
     "text": [
      "The autoreload extension is already loaded. To reload it, use:\n",
      "  %reload_ext autoreload\n"
     ]
    }
   ],
   "source": [
    "%reset -f\n",
    "%load_ext autoreload\n",
    "%autoreload 2\n",
    "\n",
    "import Odin as backend"
   ]
  },
  {
   "cell_type": "code",
   "execution_count": 4,
   "outputs": [
    {
     "ename": "AttributeError",
     "evalue": "'IncompressibleMomentumComp' object has no attribute 'initialize'",
     "output_type": "error",
     "traceback": [
      "\u001B[0;31m---------------------------------------------------------------------------\u001B[0m",
      "\u001B[0;31mAttributeError\u001B[0m                            Traceback (most recent call last)",
      "\u001B[0;32m<ipython-input-4-83cb65891c1f>\u001B[0m in \u001B[0;36m<module>\u001B[0;34m\u001B[0m\n\u001B[1;32m      9\u001B[0m ]\n\u001B[1;32m     10\u001B[0m \u001B[0;34m\u001B[0m\u001B[0m\n\u001B[0;32m---> 11\u001B[0;31m \u001B[0msim1\u001B[0m \u001B[0;34m=\u001B[0m \u001B[0mbackend\u001B[0m\u001B[0;34m.\u001B[0m\u001B[0mSimulation\u001B[0m\u001B[0;34m(\u001B[0m\u001B[0mmyFlowModels\u001B[0m\u001B[0;34m,\u001B[0m \u001B[0mmesh\u001B[0m\u001B[0;34m,\u001B[0m \u001B[0mgeom\u001B[0m \u001B[0;34m)\u001B[0m\u001B[0;34m\u001B[0m\u001B[0;34m\u001B[0m\u001B[0m\n\u001B[0m\u001B[1;32m     12\u001B[0m \u001B[0;34m\u001B[0m\u001B[0m\n\u001B[1;32m     13\u001B[0m \u001B[0mmyFields\u001B[0m \u001B[0;34m=\u001B[0m \u001B[0msim1\u001B[0m\u001B[0;34m.\u001B[0m\u001B[0mgetFieldRegistry\u001B[0m\u001B[0;34m(\u001B[0m\u001B[0;34m)\u001B[0m\u001B[0;34m\u001B[0m\u001B[0;34m\u001B[0m\u001B[0m\n",
      "\u001B[0;32m~/odin/pythonPlayground/Odin.py\u001B[0m in \u001B[0;36m__init__\u001B[0;34m(self, flowmodels, mesh, geometry)\u001B[0m\n\u001B[1;32m     36\u001B[0m         \u001B[0mself\u001B[0m\u001B[0;34m.\u001B[0m\u001B[0m_eqSystem\u001B[0m \u001B[0;34m=\u001B[0m \u001B[0mLinearEquationSystems\u001B[0m\u001B[0;34m.\u001B[0m\u001B[0mlinearSystem\u001B[0m\u001B[0;34m(\u001B[0m\u001B[0mself\u001B[0m\u001B[0;34m.\u001B[0m\u001B[0m_mesh\u001B[0m\u001B[0;34m)\u001B[0m\u001B[0;34m\u001B[0m\u001B[0;34m\u001B[0m\u001B[0m\n\u001B[1;32m     37\u001B[0m         \u001B[0;32mfor\u001B[0m \u001B[0mfm\u001B[0m \u001B[0;32min\u001B[0m \u001B[0mflowmodels\u001B[0m\u001B[0;34m:\u001B[0m\u001B[0;34m\u001B[0m\u001B[0;34m\u001B[0m\u001B[0m\n\u001B[0;32m---> 38\u001B[0;31m             \u001B[0mfm\u001B[0m\u001B[0;34m.\u001B[0m\u001B[0minitialize\u001B[0m\u001B[0;34m(\u001B[0m\u001B[0mself\u001B[0m\u001B[0;34m.\u001B[0m\u001B[0m_mesh\u001B[0m\u001B[0;34m,\u001B[0m \u001B[0mself\u001B[0m\u001B[0;34m.\u001B[0m\u001B[0m_fieldRegistry\u001B[0m\u001B[0;34m,\u001B[0m \u001B[0mself\u001B[0m\u001B[0;34m.\u001B[0m\u001B[0m_fieldFlowModelLink\u001B[0m\u001B[0;34m)\u001B[0m\u001B[0;34m\u001B[0m\u001B[0;34m\u001B[0m\u001B[0m\n\u001B[0m\u001B[1;32m     39\u001B[0m \u001B[0;34m\u001B[0m\u001B[0m\n\u001B[1;32m     40\u001B[0m     \u001B[0;32mdef\u001B[0m \u001B[0msolve\u001B[0m\u001B[0;34m(\u001B[0m\u001B[0mself\u001B[0m\u001B[0;34m,\u001B[0m \u001B[0mfieldname\u001B[0m\u001B[0;34m)\u001B[0m\u001B[0;34m:\u001B[0m\u001B[0;34m\u001B[0m\u001B[0;34m\u001B[0m\u001B[0m\n",
      "\u001B[0;31mAttributeError\u001B[0m: 'IncompressibleMomentumComp' object has no attribute 'initialize'"
     ]
    }
   ],
   "source": [
    "# validation test for incompressible flow\n",
    "\n",
    "geom = backend.createGeometry( 'rectangle', [5,2] )\n",
    "mesh = backend.createMesh( geom, res=1 )\n",
    "\n",
    "# make just a list, give a name as optional parameter to flow model\n",
    "myFlowModels = [\n",
    "    backend.FlowModels.IncompressibleMomentumComp(depVariableName='u', orientation=0, otherVelocityFieldName='v', pressureFieldName='p', kinViscosityName='nu')\n",
    "]\n",
    "\n",
    "sim1 = backend.Simulation(myFlowModels, mesh, geom )\n",
    "\n",
    "myFields = sim1.getFieldRegistry()\n",
    "\n",
    "print(myFields)\n",
    "\n",
    "U = myFields['u']\n",
    "#U.setInternalValue([0,0])\n",
    "U.u = 0.0\n",
    "U.v = 0.0\n",
    "\n",
    "#U.setBoundaryCondition('top', [1,0])\n",
    "U.setBoundaryCondition('top', 0)\n",
    "U.setBoundaryCondition('bottom', 0)\n",
    "U.setBoundaryCondition('left', 1)\n",
    "U.setBoundaryCondition('right', 0)\n",
    "myFields['rho'] = 1000.0\n",
    "\n",
    "sim1.solve('u')\n",
    "\n",
    "sim1.display(U)"
   ],
   "metadata": {
    "collapsed": false,
    "pycharm": {
     "name": "#%%\n"
    }
   }
  },
  {
   "cell_type": "code",
   "execution_count": null,
   "outputs": [],
   "source": [
    "# shutting the interpreter down, so I can a fresh instance next time.\n",
    "# my modules are automatically checked for updates\n",
    "import os\n",
    "os._exit(00)"
   ],
   "metadata": {
    "collapsed": false,
    "pycharm": {
     "name": "#%%\n"
    }
   }
  }
 ],
 "metadata": {
  "kernelspec": {
   "display_name": "Python 3",
   "language": "python",
   "name": "python3"
  },
  "language_info": {
   "codemirror_mode": {
    "name": "ipython",
    "version": 2
   },
   "file_extension": ".py",
   "mimetype": "text/x-python",
   "name": "python",
   "nbconvert_exporter": "python",
   "pygments_lexer": "ipython2",
   "version": "2.7.6"
  }
 },
 "nbformat": 4,
 "nbformat_minor": 0
}