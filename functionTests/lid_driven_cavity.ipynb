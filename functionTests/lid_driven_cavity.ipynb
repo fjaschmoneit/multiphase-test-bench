{
 "cells": [
  {
   "cell_type": "code",
   "execution_count": 1,
   "metadata": {
    "collapsed": true
   },
   "outputs": [],
   "source": [
    "%reset -f\n",
    "%load_ext autoreload\n",
    "%autoreload 2\n",
    "\n",
    "import Odin as backend"
   ]
  },
  {
   "cell_type": "code",
   "execution_count": 2,
   "outputs": [
    {
     "ename": "AttributeError",
     "evalue": "module 'Odin' has no attribute 'FlowModels'",
     "output_type": "error",
     "traceback": [
      "\u001B[0;31m---------------------------------------------------------------------------\u001B[0m",
      "\u001B[0;31mAttributeError\u001B[0m                            Traceback (most recent call last)",
      "\u001B[0;32m<ipython-input-2-1963e7213406>\u001B[0m in \u001B[0;36m<module>\u001B[0;34m\u001B[0m\n\u001B[1;32m      6\u001B[0m \u001B[0;31m# make just a list, give a name as optional parameter to flow model\u001B[0m\u001B[0;34m\u001B[0m\u001B[0;34m\u001B[0m\u001B[0;34m\u001B[0m\u001B[0m\n\u001B[1;32m      7\u001B[0m myFlowModels = [\n\u001B[0;32m----> 8\u001B[0;31m     \u001B[0mbackend\u001B[0m\u001B[0;34m.\u001B[0m\u001B[0mFlowModels\u001B[0m\u001B[0;34m.\u001B[0m\u001B[0mIncompressibleMomentumComp\u001B[0m\u001B[0;34m(\u001B[0m\u001B[0mdepVariableName\u001B[0m\u001B[0;34m=\u001B[0m\u001B[0;34m'u'\u001B[0m\u001B[0;34m,\u001B[0m \u001B[0morientation\u001B[0m\u001B[0;34m=\u001B[0m\u001B[0;36m0\u001B[0m\u001B[0;34m,\u001B[0m \u001B[0motherVelocityFieldName\u001B[0m\u001B[0;34m=\u001B[0m\u001B[0;34m'v'\u001B[0m\u001B[0;34m,\u001B[0m \u001B[0mpressureFieldName\u001B[0m\u001B[0;34m=\u001B[0m\u001B[0;34m'p'\u001B[0m\u001B[0;34m,\u001B[0m \u001B[0mkinViscosityName\u001B[0m\u001B[0;34m=\u001B[0m\u001B[0;34m'nu'\u001B[0m\u001B[0;34m)\u001B[0m\u001B[0;34m\u001B[0m\u001B[0;34m\u001B[0m\u001B[0m\n\u001B[0m\u001B[1;32m      9\u001B[0m ]\n\u001B[1;32m     10\u001B[0m \u001B[0;34m\u001B[0m\u001B[0m\n",
      "\u001B[0;31mAttributeError\u001B[0m: module 'Odin' has no attribute 'FlowModels'"
     ]
    }
   ],
   "source": [
    "# validation test for incompressible flow\n",
    "\n",
    "geom = backend.createGeometry( 'rectangle', [4,4] )\n",
    "mesh = backend.createMesh( geom, res=1 )\n",
    "\n",
    "# make just a list, give a name as optional parameter to flow model\n",
    "myFlowModels = [\n",
    "    backend.FlowModels.IncompressibleMomentumComp(depVariableName='u', orientation=0, otherVelocityFieldName='v', pressureFieldName='p', kinViscosityName='nu')\n",
    "]\n",
    "\n",
    "sim1 = backend.Simulation(myFlowModels, mesh, geom )\n",
    "\n",
    "myFields = sim1.getFieldRegistry()\n",
    "\n",
    "print(myFields)\n",
    "\n",
    "U = myFields['u']\n",
    "#U.setInternalValue([0,0])\n",
    "U.u = 0.0\n",
    "U.v = 0.0\n",
    "\n",
    "#U.setBoundaryCondition('top', [1,0])\n",
    "U.setBoundaryCondition('top', 0)\n",
    "U.setBoundaryCondition('bottom', 0)\n",
    "U.setBoundaryCondition('left', 1)\n",
    "U.setBoundaryCondition('right', 0)\n",
    "myFields['rho'] = 1000.0\n",
    "\n",
    "sim1.solve('u')\n",
    "\n",
    "sim1.display(U)"
   ],
   "metadata": {
    "collapsed": false,
    "pycharm": {
     "name": "#%%\n"
    }
   }
  },
  {
   "cell_type": "code",
   "execution_count": null,
   "outputs": [],
   "source": [
    "# shutting the interpreter down, so I can a fresh instance next time.\n",
    "# my modules are automatically checked for updates\n",
    "import os\n",
    "os._exit(00)"
   ],
   "metadata": {
    "collapsed": false,
    "pycharm": {
     "name": "#%%\n"
    }
   }
  }
 ],
 "metadata": {
  "kernelspec": {
   "display_name": "Python 3",
   "language": "python",
   "name": "python3"
  },
  "language_info": {
   "codemirror_mode": {
    "name": "ipython",
    "version": 2
   },
   "file_extension": ".py",
   "mimetype": "text/x-python",
   "name": "python",
   "nbconvert_exporter": "python",
   "pygments_lexer": "ipython2",
   "version": "2.7.6"
  }
 },
 "nbformat": 4,
 "nbformat_minor": 0
}