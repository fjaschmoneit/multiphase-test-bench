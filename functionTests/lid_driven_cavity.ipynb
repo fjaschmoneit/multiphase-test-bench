{
 "cells": [
  {
   "cell_type": "code",
   "execution_count": 63,
   "metadata": {
    "collapsed": true
   },
   "outputs": [
    {
     "name": "stderr",
     "output_type": "stream",
     "text": [
      "[autoreload of Interpolation failed: Traceback (most recent call last):\n",
      "  File \"/home/fynne/.local/lib/python3.8/site-packages/IPython/extensions/autoreload.py\", line 245, in check\n",
      "    superreload(m, reload, self.old_objects)\n",
      "  File \"/home/fynne/.local/lib/python3.8/site-packages/IPython/extensions/autoreload.py\", line 394, in superreload\n",
      "    module = reload(module)\n",
      "  File \"/usr/lib/python3.8/imp.py\", line 314, in reload\n",
      "    return importlib.reload(module)\n",
      "  File \"/usr/lib/python3.8/importlib/__init__.py\", line 169, in reload\n",
      "    _bootstrap._exec(spec, module)\n",
      "  File \"<frozen importlib._bootstrap>\", line 604, in _exec\n",
      "  File \"<frozen importlib._bootstrap_external>\", line 848, in exec_module\n",
      "  File \"<frozen importlib._bootstrap>\", line 219, in _call_with_frames_removed\n",
      "  File \"/home/fynne/odin/pythonPlayground/Interpolation.py\", line 1, in <module>\n",
      "    from Fields import fieldGovernor\n",
      "ImportError: cannot import name 'fieldGovernor' from 'Fields' (/home/fynne/odin/pythonPlayground/Fields.py)\n",
      "]\n",
      "[autoreload of Odin failed: Traceback (most recent call last):\n",
      "  File \"/home/fynne/.local/lib/python3.8/site-packages/IPython/extensions/autoreload.py\", line 245, in check\n",
      "    superreload(m, reload, self.old_objects)\n",
      "  File \"/home/fynne/.local/lib/python3.8/site-packages/IPython/extensions/autoreload.py\", line 394, in superreload\n",
      "    module = reload(module)\n",
      "  File \"/usr/lib/python3.8/imp.py\", line 314, in reload\n",
      "    return importlib.reload(module)\n",
      "  File \"/usr/lib/python3.8/importlib/__init__.py\", line 169, in reload\n",
      "    _bootstrap._exec(spec, module)\n",
      "  File \"<frozen importlib._bootstrap>\", line 604, in _exec\n",
      "  File \"<frozen importlib._bootstrap_external>\", line 848, in exec_module\n",
      "  File \"<frozen importlib._bootstrap>\", line 219, in _call_with_frames_removed\n",
      "  File \"/home/fynne/odin/pythonPlayground/Odin.py\", line 3, in <module>\n",
      "    from Fields import fieldGovernor\n",
      "ImportError: cannot import name 'fieldGovernor' from 'Fields' (/home/fynne/odin/pythonPlayground/Fields.py)\n",
      "]\n"
     ]
    },
    {
     "name": "stdout",
     "output_type": "stream",
     "text": [
      "The autoreload extension is already loaded. To reload it, use:\n",
      "  %reload_ext autoreload\n"
     ]
    }
   ],
   "source": [
    "%reset -f\n",
    "%load_ext autoreload\n",
    "%autoreload 2\n",
    "\n",
    "import Odin as backend"
   ]
  },
  {
   "cell_type": "code",
   "execution_count": 64,
   "outputs": [
    {
     "ename": "AttributeError",
     "evalue": "'cartesian2D' object has no attribute 'shapeStaggered_U'",
     "output_type": "error",
     "traceback": [
      "\u001B[0;31m---------------------------------------------------------------------------\u001B[0m",
      "\u001B[0;31mAttributeError\u001B[0m                            Traceback (most recent call last)",
      "\u001B[0;32m<ipython-input-64-83cb65891c1f>\u001B[0m in \u001B[0;36m<module>\u001B[0;34m\u001B[0m\n\u001B[1;32m      9\u001B[0m ]\n\u001B[1;32m     10\u001B[0m \u001B[0;34m\u001B[0m\u001B[0m\n\u001B[0;32m---> 11\u001B[0;31m \u001B[0msim1\u001B[0m \u001B[0;34m=\u001B[0m \u001B[0mbackend\u001B[0m\u001B[0;34m.\u001B[0m\u001B[0mSimulation\u001B[0m\u001B[0;34m(\u001B[0m\u001B[0mmyFlowModels\u001B[0m\u001B[0;34m,\u001B[0m \u001B[0mmesh\u001B[0m\u001B[0;34m,\u001B[0m \u001B[0mgeom\u001B[0m \u001B[0;34m)\u001B[0m\u001B[0;34m\u001B[0m\u001B[0;34m\u001B[0m\u001B[0m\n\u001B[0m\u001B[1;32m     12\u001B[0m \u001B[0;34m\u001B[0m\u001B[0m\n\u001B[1;32m     13\u001B[0m \u001B[0mmyFields\u001B[0m \u001B[0;34m=\u001B[0m \u001B[0msim1\u001B[0m\u001B[0;34m.\u001B[0m\u001B[0mgetFieldRegistry\u001B[0m\u001B[0;34m(\u001B[0m\u001B[0;34m)\u001B[0m\u001B[0;34m\u001B[0m\u001B[0;34m\u001B[0m\u001B[0m\n",
      "\u001B[0;32m~/odin/pythonPlayground/Odin.py\u001B[0m in \u001B[0;36m__init__\u001B[0;34m(self, flowmodels, mesh, geometry)\u001B[0m\n\u001B[1;32m     49\u001B[0m \u001B[0;34m\u001B[0m\u001B[0m\n\u001B[1;32m     50\u001B[0m         \u001B[0mfield\u001B[0m \u001B[0;34m=\u001B[0m \u001B[0mself\u001B[0m\u001B[0;34m.\u001B[0m\u001B[0m_fieldRegistry\u001B[0m\u001B[0;34m[\u001B[0m\u001B[0mfieldname\u001B[0m\u001B[0;34m]\u001B[0m\u001B[0;34m\u001B[0m\u001B[0;34m\u001B[0m\u001B[0m\n\u001B[0;32m---> 51\u001B[0;31m         \u001B[0mflowmodel\u001B[0m \u001B[0;34m=\u001B[0m \u001B[0mself\u001B[0m\u001B[0;34m.\u001B[0m\u001B[0m_fieldFlowModelLink\u001B[0m\u001B[0;34m[\u001B[0m\u001B[0mfieldname\u001B[0m\u001B[0;34m]\u001B[0m\u001B[0;34m\u001B[0m\u001B[0;34m\u001B[0m\u001B[0m\n\u001B[0m\u001B[1;32m     52\u001B[0m \u001B[0;34m\u001B[0m\u001B[0m\n\u001B[1;32m     53\u001B[0m         \u001B[0mself\u001B[0m\u001B[0;34m.\u001B[0m\u001B[0mupdate\u001B[0m\u001B[0;34m(\u001B[0m \u001B[0mflowmodel\u001B[0m\u001B[0;34m,\u001B[0m \u001B[0mfield\u001B[0m \u001B[0;34m)\u001B[0m\u001B[0;34m\u001B[0m\u001B[0;34m\u001B[0m\u001B[0m\n",
      "\u001B[0;32m~/odin/pythonPlayground/FlowModels.py\u001B[0m in \u001B[0;36mdefineFields\u001B[0;34m(self, fieldReg, mesh)\u001B[0m\n\u001B[1;32m     44\u001B[0m     \u001B[0;32mdef\u001B[0m \u001B[0mdefineFields\u001B[0m\u001B[0;34m(\u001B[0m\u001B[0mself\u001B[0m\u001B[0;34m,\u001B[0m \u001B[0mfieldReg\u001B[0m\u001B[0;34m,\u001B[0m \u001B[0mmesh\u001B[0m\u001B[0;34m)\u001B[0m\u001B[0;34m:\u001B[0m\u001B[0;34m\u001B[0m\u001B[0;34m\u001B[0m\u001B[0m\n\u001B[1;32m     45\u001B[0m         \u001B[0;32mif\u001B[0m \u001B[0mself\u001B[0m\u001B[0;34m.\u001B[0m\u001B[0m_orientation\u001B[0m \u001B[0;34m==\u001B[0m \u001B[0;36m0\u001B[0m\u001B[0;34m:\u001B[0m\u001B[0;34m\u001B[0m\u001B[0;34m\u001B[0m\u001B[0m\n\u001B[0;32m---> 46\u001B[0;31m             \u001B[0mstaggeredShape\u001B[0m \u001B[0;34m=\u001B[0m \u001B[0mmesh\u001B[0m\u001B[0;34m.\u001B[0m\u001B[0mshapeStaggered_U\u001B[0m\u001B[0;34m\u001B[0m\u001B[0;34m\u001B[0m\u001B[0m\n\u001B[0m\u001B[1;32m     47\u001B[0m         \u001B[0;32melif\u001B[0m \u001B[0mself\u001B[0m\u001B[0;34m.\u001B[0m\u001B[0m_orientation\u001B[0m \u001B[0;34m==\u001B[0m \u001B[0;36m1\u001B[0m\u001B[0;34m:\u001B[0m\u001B[0;34m\u001B[0m\u001B[0;34m\u001B[0m\u001B[0m\n\u001B[1;32m     48\u001B[0m             \u001B[0mstaggeredShape\u001B[0m \u001B[0;34m=\u001B[0m \u001B[0mmesh\u001B[0m\u001B[0;34m.\u001B[0m\u001B[0mshapeStaggered_V\u001B[0m\u001B[0;34m\u001B[0m\u001B[0;34m\u001B[0m\u001B[0m\n",
      "\u001B[0;31mAttributeError\u001B[0m: 'cartesian2D' object has no attribute 'shapeStaggered_U'"
     ]
    }
   ],
   "source": [
    "# validation test for incompressible flow\n",
    "\n",
    "geom = backend.createGeometry( 'rectangle', [5,2] )\n",
    "mesh = backend.createMesh( geom, res=1 )\n",
    "\n",
    "# make just a list, give a name as optional parameter to flow model\n",
    "myFlowModels = [\n",
    "    backend.FlowModels.IncompressibleMomentumComp(depVariableName='u', orientation=0, otherVelocityFieldName='v', pressureFieldName='p', kinViscosityName='nu')\n",
    "]\n",
    "\n",
    "sim1 = backend.Simulation(myFlowModels, mesh, geom )\n",
    "\n",
    "myFields = sim1.getFieldRegistry()\n",
    "\n",
    "print(myFields)\n",
    "\n",
    "U = myFields['u']\n",
    "#U.setInternalValue([0,0])\n",
    "U.u = 0.0\n",
    "U.v = 0.0\n",
    "\n",
    "#U.setBoundaryCondition('top', [1,0])\n",
    "U.setBoundaryCondition('top', 0)\n",
    "U.setBoundaryCondition('bottom', 0)\n",
    "U.setBoundaryCondition('left', 1)\n",
    "U.setBoundaryCondition('right', 0)\n",
    "myFields['rho'] = 1000.0\n",
    "\n",
    "sim1.solve('u')\n",
    "\n",
    "sim1.display(U)"
   ],
   "metadata": {
    "collapsed": false,
    "pycharm": {
     "name": "#%%\n"
    }
   }
  },
  {
   "cell_type": "code",
   "execution_count": null,
   "outputs": [],
   "source": [
    "# shutting the interpreter down, so I can a fresh instance next time.\n",
    "# my modules are automatically checked for updates\n",
    "import os\n",
    "os._exit(00)"
   ],
   "metadata": {
    "collapsed": false,
    "pycharm": {
     "name": "#%%\n"
    }
   }
  }
 ],
 "metadata": {
  "kernelspec": {
   "display_name": "Python 3",
   "language": "python",
   "name": "python3"
  },
  "language_info": {
   "codemirror_mode": {
    "name": "ipython",
    "version": 2
   },
   "file_extension": ".py",
   "mimetype": "text/x-python",
   "name": "python",
   "nbconvert_exporter": "python",
   "pygments_lexer": "ipython2",
   "version": "2.7.6"
  }
 },
 "nbformat": 4,
 "nbformat_minor": 0
}