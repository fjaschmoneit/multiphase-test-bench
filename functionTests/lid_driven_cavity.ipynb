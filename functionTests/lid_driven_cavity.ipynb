{
 "cells": [
  {
   "cell_type": "code",
   "execution_count": 24,
   "metadata": {
    "collapsed": true
   },
   "outputs": [
    {
     "name": "stdout",
     "output_type": "stream",
     "text": [
      "The autoreload extension is already loaded. To reload it, use:\n",
      "  %reload_ext autoreload\n"
     ]
    },
    {
     "name": "stderr",
     "output_type": "stream",
     "text": [
      "[autoreload of PressureModels failed: Traceback (most recent call last):\n",
      "  File \"/home/fynne/.local/lib/python3.8/site-packages/IPython/extensions/autoreload.py\", line 245, in check\n",
      "    superreload(m, reload, self.old_objects)\n",
      "  File \"/home/fynne/.local/lib/python3.8/site-packages/IPython/extensions/autoreload.py\", line 410, in superreload\n",
      "    update_generic(old_obj, new_obj)\n",
      "  File \"/home/fynne/.local/lib/python3.8/site-packages/IPython/extensions/autoreload.py\", line 347, in update_generic\n",
      "    update(a, b)\n",
      "  File \"/home/fynne/.local/lib/python3.8/site-packages/IPython/extensions/autoreload.py\", line 302, in update_class\n",
      "    if update_generic(old_obj, new_obj): continue\n",
      "  File \"/home/fynne/.local/lib/python3.8/site-packages/IPython/extensions/autoreload.py\", line 347, in update_generic\n",
      "    update(a, b)\n",
      "  File \"/home/fynne/.local/lib/python3.8/site-packages/IPython/extensions/autoreload.py\", line 266, in update_function\n",
      "    setattr(old, name, getattr(new, name))\n",
      "ValueError: __init__() requires a code object with 1 free vars, not 0\n",
      "]\n"
     ]
    },
    {
     "ename": "AttributeError",
     "evalue": "'Pressure' object has no attribute 'depField'",
     "output_type": "error",
     "traceback": [
      "\u001B[0;31m---------------------------------------------------------------------------\u001B[0m",
      "\u001B[0;31mAttributeError\u001B[0m                            Traceback (most recent call last)",
      "\u001B[0;32m<ipython-input-24-223da8badd68>\u001B[0m in \u001B[0;36m<module>\u001B[0;34m\u001B[0m\n\u001B[1;32m     22\u001B[0m \u001B[0mpassiveFields\u001B[0m \u001B[0;34m=\u001B[0m \u001B[0;34m{\u001B[0m\u001B[0;34m}\u001B[0m\u001B[0;34m\u001B[0m\u001B[0;34m\u001B[0m\u001B[0m\n\u001B[1;32m     23\u001B[0m \u001B[0;34m\u001B[0m\u001B[0m\n\u001B[0;32m---> 24\u001B[0;31m \u001B[0msim\u001B[0m \u001B[0;34m=\u001B[0m \u001B[0mOdin\u001B[0m\u001B[0;34m.\u001B[0m\u001B[0mSimulation\u001B[0m\u001B[0;34m(\u001B[0m\u001B[0mflowmodels\u001B[0m\u001B[0;34m=\u001B[0m\u001B[0mmyFlowModels\u001B[0m\u001B[0;34m,\u001B[0m \u001B[0mmesh\u001B[0m\u001B[0;34m=\u001B[0m\u001B[0mmesh\u001B[0m\u001B[0;34m,\u001B[0m \u001B[0mgeometry\u001B[0m\u001B[0;34m=\u001B[0m\u001B[0mgeom\u001B[0m\u001B[0;34m,\u001B[0m \u001B[0mpassiveFields\u001B[0m\u001B[0;34m=\u001B[0m\u001B[0mpassiveFields\u001B[0m \u001B[0;34m)\u001B[0m\u001B[0;34m\u001B[0m\u001B[0;34m\u001B[0m\u001B[0m\n\u001B[0m\u001B[1;32m     25\u001B[0m \u001B[0;34m\u001B[0m\u001B[0m\n\u001B[1;32m     26\u001B[0m \u001B[0;34m\u001B[0m\u001B[0m\n",
      "\u001B[0;32m~/odin/pythonPlayground/Odin.py\u001B[0m in \u001B[0;36m__init__\u001B[0;34m(self, flowmodels, mesh, geometry, passiveFields)\u001B[0m\n\u001B[1;32m    107\u001B[0m \u001B[0;34m\u001B[0m\u001B[0m\n\u001B[1;32m    108\u001B[0m         \u001B[0;32mfor\u001B[0m \u001B[0mfieldName\u001B[0m\u001B[0;34m,\u001B[0m \u001B[0mtransportModelName\u001B[0m \u001B[0;32min\u001B[0m \u001B[0mflowmodels\u001B[0m\u001B[0;34m.\u001B[0m\u001B[0mitems\u001B[0m\u001B[0;34m(\u001B[0m\u001B[0;34m)\u001B[0m\u001B[0;34m:\u001B[0m\u001B[0;34m\u001B[0m\u001B[0;34m\u001B[0m\u001B[0m\n\u001B[0;32m--> 109\u001B[0;31m             \u001B[0mtransportModelInstance\u001B[0m \u001B[0;34m=\u001B[0m \u001B[0mtransportModelName\u001B[0m\u001B[0;34m(\u001B[0m\u001B[0mmesh\u001B[0m\u001B[0;34m,\u001B[0m \u001B[0mself\u001B[0m\u001B[0;34m.\u001B[0m\u001B[0mfieldCreator\u001B[0m\u001B[0;34m,\u001B[0m \u001B[0mself\u001B[0m\u001B[0;34m.\u001B[0m\u001B[0mfieldRegistry\u001B[0m\u001B[0;34m,\u001B[0m \u001B[0mself\u001B[0m\u001B[0;34m.\u001B[0m\u001B[0m_eqSystem\u001B[0m\u001B[0;34m)\u001B[0m\u001B[0;34m\u001B[0m\u001B[0;34m\u001B[0m\u001B[0m\n\u001B[0m\u001B[1;32m    110\u001B[0m \u001B[0;34m\u001B[0m\u001B[0m\n\u001B[1;32m    111\u001B[0m             \u001B[0mself\u001B[0m\u001B[0;34m.\u001B[0m\u001B[0mfieldRegistry\u001B[0m\u001B[0;34m[\u001B[0m\u001B[0mfieldName\u001B[0m\u001B[0;34m]\u001B[0m \u001B[0;34m=\u001B[0m \u001B[0mtransportModelInstance\u001B[0m\u001B[0;34m.\u001B[0m\u001B[0mgetDepField\u001B[0m\u001B[0;34m(\u001B[0m\u001B[0;34m)\u001B[0m\u001B[0;34m\u001B[0m\u001B[0;34m\u001B[0m\u001B[0m\n",
      "\u001B[0;32m~/odin/pythonPlayground/PressureModels.py\u001B[0m in \u001B[0;36m__init__\u001B[0;34m(self, mesh, fieldCreator, fieldReg, linSystem)\u001B[0m\n\u001B[1;32m     13\u001B[0m         \u001B[0mself\u001B[0m\u001B[0;34m.\u001B[0m\u001B[0mpresCorrectorShape\u001B[0m \u001B[0;34m=\u001B[0m \u001B[0mmesh\u001B[0m\u001B[0;34m.\u001B[0m\u001B[0mtypeShapeDict\u001B[0m\u001B[0;34m[\u001B[0m\u001B[0;34m'scalarCVwGhost'\u001B[0m\u001B[0;34m]\u001B[0m\u001B[0;34m\u001B[0m\u001B[0;34m\u001B[0m\u001B[0m\n\u001B[1;32m     14\u001B[0m \u001B[0;31m#        super().__init__(mesh, fieldCreator, fieldReg, linSystem, self.depFieldShape)\u001B[0m\u001B[0;34m\u001B[0m\u001B[0;34m\u001B[0m\u001B[0;34m\u001B[0m\u001B[0m\n\u001B[0;32m---> 15\u001B[0;31m         \u001B[0mself\u001B[0m\u001B[0;34m.\u001B[0m\u001B[0mp\u001B[0m \u001B[0;34m=\u001B[0m \u001B[0mself\u001B[0m\u001B[0;34m.\u001B[0m\u001B[0mdepField\u001B[0m\u001B[0;34m\u001B[0m\u001B[0;34m\u001B[0m\u001B[0m\n\u001B[0m\u001B[1;32m     16\u001B[0m \u001B[0;34m\u001B[0m\u001B[0m\n\u001B[1;32m     17\u001B[0m         self.boundaryModels = {\n",
      "\u001B[0;31mAttributeError\u001B[0m: 'Pressure' object has no attribute 'depField'"
     ]
    }
   ],
   "source": [
    "%reset -f\n",
    "%load_ext autoreload\n",
    "%autoreload 2\n",
    "\n",
    "import Odin\n",
    "from fieldAccess import *\n",
    "import numpy as np\n",
    "\n",
    "geom = Odin.createGeometry( 'rectangle', [30,30] )\n",
    "mesh = Odin.createMesh( geom, res=1 )\n",
    "\n",
    "movingWallVelocity = 0.2\n",
    "\n",
    "# make just a list, give a name as optional parameter to flow model\n",
    "# make this a flowmodeles constructor with kwargs here and then remove simulation instance\n",
    "myFlowModels = {\n",
    "    'u' : Odin.TransportModels.staggeredTransport_u,\n",
    "    'v' : Odin.TransportModels.staggeredTransport_v,\n",
    "    'p' : Odin.PressureModels.Pressure\n",
    "}\n",
    "\n",
    "passiveFields = {}\n",
    "\n",
    "sim = Odin.Simulation(flowmodels=myFlowModels, mesh=mesh, geometry=geom, passiveFields=passiveFields )\n",
    "\n",
    "\n",
    "myFields = sim.fieldRegistry\n",
    "u=myFields['u']\n",
    "v=myFields['v']\n",
    "p=myFields['p']\n",
    "\n",
    "# relates to viscosity:\n",
    "u.govModel.setDiffusionCoefficient(10)\n",
    "v.govModel.setDiffusionCoefficient(10)\n",
    "\n",
    "u.data.fill(0.0)\n",
    "Odin.defineBoundaryCondition(field=u, boundaryName='top', type='fixedValue', value=movingWallVelocity)\n",
    "Odin.defineBoundaryCondition(field=u, boundaryName='bottom', type='fixedValue', value=0 )\n",
    "Odin.defineBoundaryCondition(field=u, boundaryName='right', type='fixedValue', value=0 )\n",
    "Odin.defineBoundaryCondition(field=u, boundaryName='left', type='fixedValue', value=0)\n",
    "\n",
    "v.data.fill(0.0)\n",
    "Odin.defineBoundaryCondition(field=v, boundaryName='top', type='fixedValue', value=0)\n",
    "Odin.defineBoundaryCondition(field=v, boundaryName='bottom', type='fixedValue', value=0)\n",
    "Odin.defineBoundaryCondition(field=v, boundaryName='left', type='fixedValue', value=0 )\n",
    "Odin.defineBoundaryCondition(field=v, boundaryName='right', type='fixedValue', value=0)\n",
    "\n",
    "p.data.fill(0.0)\n",
    "Odin.defineBoundaryCondition(field=p, boundaryName='top', type='constantPressure', value=0)\n",
    "Odin.defineBoundaryCondition(field=p, boundaryName='bottom', type='constantPressure', value=0)\n",
    "Odin.defineBoundaryCondition(field=p, boundaryName='left', type='constantPressure' , value=0)\n",
    "Odin.defineBoundaryCondition(field=p, boundaryName='right', type='constantPressure', value=0)\n",
    "\n",
    "\n",
    "alphaP = 0.2\n",
    "alphaV = 0.5\n",
    "\n",
    "for i in range(2):\n",
    "    u_old = np.copy(u.data)\n",
    "    v_old = np.copy(v.data)\n",
    "\n",
    "    u.data = Odin.solve(u)\n",
    "    v.data = Odin.solve(v)\n",
    "\n",
    "    p_correction = Odin.solve(p)\n",
    "    p.data +=  alphaP*p_correction\n",
    "\n",
    "    u_new = u.data[internal_u] + p.govModel.d_u[internal_u] * ( p_correction[west]- p_correction[east] )\n",
    "    v_new = v.data[internal_v] + p.govModel.d_v[internal_v] * ( p_correction[south]- p_correction[north] )\n",
    "\n",
    "    u.data[internal_u] = alphaV*u_new + (1.0-alphaV)*u_old[internal_u]\n",
    "    v.data[internal_v] = alphaV*v_new + (1.0-alphaV)*v_old[internal_v]\n",
    "\n",
    "    u.data[internal_u] +=  p.govModel.d_u[internal_u] * ( p_correction[west]- p_correction[east] )\n",
    "    v.data[internal_v] += p.govModel.d_v[internal_v] * ( p_correction[south]- p_correction[north])\n",
    "\n",
    "#    u_new = u.data[internal_u] + p.govModel.d_u[internal_u] * ( p_correction[west]- p_correction[east] )\n",
    "\n",
    "\n",
    "sim.display(u,mesh)\n",
    "sim.display(v,mesh)\n",
    "sim.display(p,mesh)\n",
    "\n",
    "\n",
    "vel = Odin.calcCollocatedVelocityField(u.data, v.data)\n",
    "velMag = Odin.calcVelocityMagnitude(vel)\n",
    "sim.display(velMag,mesh)\n",
    "\n"
   ]
  },
  {
   "cell_type": "code",
   "execution_count": null,
   "outputs": [],
   "source": [
    "# shutting the interpreter down, so I can a fresh instance next time.\n",
    "# my modules are automatically checked for updates\n",
    "import os\n",
    "os._exit(00)"
   ],
   "metadata": {
    "collapsed": false,
    "pycharm": {
     "name": "#%%\n"
    }
   }
  }
 ],
 "metadata": {
  "kernelspec": {
   "display_name": "Python 3",
   "language": "python",
   "name": "python3"
  },
  "language_info": {
   "codemirror_mode": {
    "name": "ipython",
    "version": 2
   },
   "file_extension": ".py",
   "mimetype": "text/x-python",
   "name": "python",
   "nbconvert_exporter": "python",
   "pygments_lexer": "ipython2",
   "version": "2.7.6"
  }
 },
 "nbformat": 4,
 "nbformat_minor": 0
}