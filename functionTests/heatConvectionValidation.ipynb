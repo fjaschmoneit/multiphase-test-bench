{
 "cells": [
  {
   "cell_type": "markdown",
   "source": [
    "# validation test for scalar diffusion with a constant source term\n",
    "### this validation test follows \"H K Versteeg and W Malalasekera, An Introduction to Computational Fluid Dynamics: THE FINITE VOLUME METHOD, Second Edition, 2007\" examples 4.1,4.2\n",
    "\n",
    "The temperature along a metal rod is given by this equation:\n",
    "\n",
    "Why has this markdown stopped working???\n",
    "\n",
    "$T(x) = \\left( \\frac{T(L) - T(0)}{L} + \\frac{S}{2k} (L-x) \\right) x$"
   ],
   "metadata": {
    "collapsed": false,
    "pycharm": {
     "name": "#%% md\n"
    }
   }
  },
  {
   "cell_type": "code",
   "execution_count": 57,
   "outputs": [
    {
     "name": "stderr",
     "output_type": "stream",
     "text": [
      "[autoreload of Fields failed: Traceback (most recent call last):\n",
      "  File \"/home/fynne/.local/lib/python3.8/site-packages/IPython/extensions/autoreload.py\", line 245, in check\n",
      "    superreload(m, reload, self.old_objects)\n",
      "  File \"/home/fynne/.local/lib/python3.8/site-packages/IPython/extensions/autoreload.py\", line 394, in superreload\n",
      "    module = reload(module)\n",
      "  File \"/usr/lib/python3.8/imp.py\", line 314, in reload\n",
      "    return importlib.reload(module)\n",
      "  File \"/usr/lib/python3.8/importlib/__init__.py\", line 169, in reload\n",
      "    _bootstrap._exec(spec, module)\n",
      "  File \"<frozen importlib._bootstrap>\", line 604, in _exec\n",
      "  File \"<frozen importlib._bootstrap_external>\", line 848, in exec_module\n",
      "  File \"<frozen importlib._bootstrap>\", line 219, in _call_with_frames_removed\n",
      "  File \"/home/fynne/odin/pythonPlayground/Fields.py\", line 288, in <module>\n",
      "    class varScalarField(scalarField):\n",
      "NameError: name 'scalarField' is not defined\n",
      "]\n"
     ]
    },
    {
     "name": "stdout",
     "output_type": "stream",
     "text": [
      "The autoreload extension is already loaded. To reload it, use:\n",
      "  %reload_ext autoreload\n"
     ]
    },
    {
     "data": {
      "text/plain": "<Figure size 432x288 with 2 Axes>",
      "image/png": "[encoded data removed]"
     },
     "metadata": {
      "needs_background": "light"
     },
     "output_type": "display_data"
    },
    {
     "data": {
      "text/plain": "<Figure size 432x288 with 1 Axes>",
      "image/png": "[encoded data removed]"
     },
     "metadata": {
      "needs_background": "light"
     },
     "output_type": "display_data"
    },
    {
     "name": "stdout",
     "output_type": "stream",
     "text": [
      "[105.   114.68 124.04 133.08 141.8  150.2  158.28 166.04 173.48 180.6\n",
      " 187.4  193.88 200.04 205.88 211.4  216.6  221.48 226.04 230.28 234.2\n",
      " 237.8  241.08 244.04 246.68 249.   251.   252.68 254.04 255.08 255.8\n",
      " 256.2  256.28 256.04 255.48 254.6  253.4  251.88 250.04 247.88 245.4\n",
      " 242.6  239.48 236.04 232.28 228.2  223.8  219.08 214.04 208.68 203.  ]\n"
     ]
    }
   ],
   "source": [
    "%reset -f\n",
    "%load_ext autoreload\n",
    "%autoreload 2\n",
    "import Odin as backend\n",
    "\n",
    "# write '4.1' or '4.2'\n",
    "exampleId = '4.2'\n",
    "\n",
    "# geometric parameters\n",
    "LenX = {'4.1':0.5, '4.2':0.02}[exampleId]\n",
    "LenY = {'4.1':0.1, '4.2':0.004}[exampleId]\n",
    "\n",
    "# thermal conductivity [ W / (m K) ]\n",
    "k = {'4.1':1000.0, '4.2':0.5}[exampleId]\n",
    "\n",
    "# heat source [ W / m^3 ]\n",
    "heatSource = {'4.1':0, '4.2':1e6}[exampleId]\n",
    "\n",
    "# const temperature at left/right boundaries [K]\n",
    "T_l = {'4.1':100, '4.2':100}[exampleId]\n",
    "T_r = {'4.1':500, '4.2':200}[exampleId]\n",
    "\n",
    "resolution = {'4.1':10, '4.2':2500}[exampleId]\n",
    "\n",
    "# the cross sectional area is hard coded in createMatrixCoefficients()\n",
    "# the cross sectional area should be defined by the geometry/mesh\n",
    "\n",
    "geom = backend.createGeometry( 'rectangle', [LenX, LenY] )\n",
    "mesh = backend.createMesh( geom, res=resolution )\n",
    "\n",
    "# example: incompressible flow but with temp-dep density, i.e. BoussinesqFlow\n",
    "# mulitphase stokes flow\n",
    "# only defining types here, not instantiating objects\n",
    "flowModels = [\n",
    "    backend.FlowModels.ScalarConvectionDiffusion\n",
    "]\n",
    "\n",
    "sim = backend.Simulation(flowModels, mesh, geom )\n",
    "#print(type(sim1._variableFields['U']).__name__) # i can use this to remove the member variable _type\n",
    "\n",
    "myFields = sim.getFieldRegistry()\n",
    "T = myFields['T']\n",
    "T.setBoundaryCondition('top', 'zeroGradient')\n",
    "T.setBoundaryCondition('bottom', 'zeroGradient')\n",
    "T.setBoundaryCondition('left', T_l)\n",
    "T.setBoundaryCondition('right', T_r)\n",
    "\n",
    "# setting conductivity and heat source:\n",
    "# should the diff coefficient not rather be a flowFlied member?\n",
    "myFields['D'] = k\n",
    "sim._flowmodels[0]._sourceField._raw[:,:] = heatSource\n",
    "\n",
    "sim.solveField('T')\n",
    "\n",
    "# post-processing:\n",
    "import numpy as np\n",
    "import matplotlib.pyplot as plt\n",
    "\n",
    "# the temperature along the x-axis should develop as:\n",
    "def tempDistr( x ):\n",
    "    return ((T_r-T_l)/LenX + S/(2*k)*(LenX-x))*x + T_l\n",
    "\n",
    "sim.display(T, mesh)\n",
    "\n",
    "nbcellsX = sim._mesh._cells_x\n",
    "cellSpacing = sim._mesh._uniformSpacing\n",
    "L = geom._lenX\n",
    "\n",
    "xSim = np.linspace(0+0.5*cellSpacing,LenX-0.5*cellSpacing,nbcellsX)\n",
    "ySim = T._raw[0,:]\n",
    "\n",
    "xTheo = np.linspace(0,LenX, 100)\n",
    "S = np.ones(len(xTheo))*heatSource\n",
    "yTheo = tempDistr(xTheo)\n",
    "\n",
    "ax = plt.gca()\n",
    "ax.plot(xSim, ySim, 'x', label='simulation')\n",
    "ax.plot(xTheo, yTheo, label='theoretical')\n",
    "\n",
    "plt.legend()\n",
    "plt.show()\n",
    "\n",
    "print(ySim)"
   ],
   "metadata": {
    "collapsed": false,
    "pycharm": {
     "name": "#%%\n"
    }
   }
  }
 ],
 "metadata": {
  "kernelspec": {
   "name": "pycharm-7f717e5c",
   "language": "python",
   "display_name": "PyCharm (pythonPlayground)"
  },
  "language_info": {
   "codemirror_mode": {
    "name": "ipython",
    "version": 2
   },
   "file_extension": ".py",
   "mimetype": "text/x-python",
   "name": "python",
   "nbconvert_exporter": "python",
   "pygments_lexer": "ipython2",
   "version": "2.7.6"
  }
 },
 "nbformat": 4,
 "nbformat_minor": 0
}