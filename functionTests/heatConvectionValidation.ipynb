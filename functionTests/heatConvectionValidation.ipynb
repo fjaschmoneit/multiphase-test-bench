{
 "cells": [
  {
   "cell_type": "markdown",
   "source": [
    "# validation test for scalar diffusion with a constant source term\n",
    "### this validation test follows \"H K Versteeg and W Malalasekera, An Introduction to Computational Fluid Dynamics: THE FINITE VOLUME METHOD, Second Edition, 2007\" examples 4.1,4.2\n",
    "\n",
    "The temperature along a metal rod is given by this equation:\n",
    "\n",
    "$T(x) = \\left( \\frac{T(L) - T(0)}{L} + \\frac{S}{2k} (L-x) \\right) x$"
   ],
   "metadata": {
    "collapsed": false,
    "pycharm": {
     "name": "#%% md\n"
    }
   }
  },
  {
   "cell_type": "code",
   "execution_count": 1,
   "outputs": [
    {
     "name": "stdout",
     "output_type": "stream",
     "text": [
      "{'T': <class 'TransportModels.scalarTransport'>}\n",
      "{'invCellDist': <Fields.fieldContainer object at 0x7fa5ca50e220>, 'T': <Fields.baseField object at 0x7fa5ca50e2e0>, 'u': <Fields.baseField object at 0x7fa5ca50e340>, 'v': <Fields.baseField object at 0x7fa5ca50e3a0>}\n",
      "<Fields.baseField object at 0x7fa5ca50e2e0>\n",
      "solving  <TransportModels.scalarTransport object at 0x7fa60f44a310>\n",
      "[[150. 218. 254. 258. 230.]]\n"
     ]
    }
   ],
   "source": [
    "%reset -f\n",
    "%load_ext autoreload\n",
    "%autoreload 2\n",
    "\n",
    "import Odin\n",
    "\n",
    "# write '4.1' or '4.2'\n",
    "exampleId = '4.2'\n",
    "\n",
    "# geometric parameters\n",
    "LenX = {'4.1':0.5, '4.2':0.02}[exampleId]\n",
    "LenY = {'4.1':0.1, '4.2':0.004}[exampleId]\n",
    "\n",
    "# thermal conductivity [ W / (m K) ]\n",
    "k = {'4.1':1000.0, '4.2':0.5}[exampleId]\n",
    "\n",
    "# heat source [ W / m^3 ]\n",
    "heatSource = {'4.1':0, '4.2':1e6}[exampleId]\n",
    "\n",
    "# const temperature at left/right boundaries [K]\n",
    "T_l = {'4.1':100, '4.2':100}[exampleId]\n",
    "T_r = {'4.1':500, '4.2':200}[exampleId]\n",
    "\n",
    "resolution = {'4.1':10, '4.2':250}[exampleId]\n",
    "#resolution = {'4.1':10, '4.2':2500}[exampleId]\n",
    "\n",
    "# the cross sectional area is hard coded in createMatrixCoefficients()\n",
    "# the cross sectional area should be defined by the geometry/mesh\n",
    "geom = Odin.createGeometry( 'rectangle', [LenX, LenY] )\n",
    "mesh = Odin.createMesh( geom, res=resolution )\n",
    "\n",
    "flowModels = {\n",
    "    'T' : Odin.TransportModels.scalarTransport\n",
    "}\n",
    "\n",
    "#Defining passive velocity Fields:\n",
    "passiveFields = {\n",
    "    'u' : 'faces_u',\n",
    "    'v' : 'faces_v'\n",
    "}\n",
    "\n",
    "sim = Odin.Simulation(flowModels,mesh, geom, passiveFields=passiveFields )\n",
    "\n",
    "print(flowModels)\n",
    "\n",
    "myFields = sim.fieldRegistry\n",
    "\n",
    "myFields['T'].govModel.setDiffusionCoefficient(k)\n",
    "#flowModels['T'].setDiffusionCoefficient(k)\n",
    "\n",
    "# remove this. I already have a passive u,v field\n",
    "#flowModels['T'].setConvectionField(values=(0.0,0.0))\n",
    "\n",
    "print(myFields)\n",
    "\n",
    "T = myFields['T']\n",
    "print(T)\n",
    "#boundaryDict = {}\n",
    "\n",
    "# this could also be done before SIM is instanciated\n",
    "Odin.defineBoundaryCondition(field=T, fieldReg=myFields, boundaryName='top', boundaryType='zeroGradient')\n",
    "Odin.defineBoundaryCondition(field=T, fieldReg=myFields, boundaryName='bottom', boundaryType='zeroGradient')\n",
    "Odin.defineBoundaryCondition(field=T, fieldReg=myFields, boundaryName='left', boundaryType='fixedValue', value=T_l )\n",
    "Odin.defineBoundaryCondition(field=T, fieldReg=myFields, boundaryName='right', boundaryType='fixedValue', value=T_r )\n",
    "\n",
    "Odin.updateSource(field=T, value=heatSource, mesh=mesh )\n",
    "\n",
    "#T.solve()\n",
    "T.data = Odin.solve(T)\n",
    "print(T.data)"
   ],
   "metadata": {
    "collapsed": false,
    "pycharm": {
     "name": "#%%\n"
    }
   }
  },
  {
   "cell_type": "code",
   "execution_count": 2,
   "outputs": [
    {
     "data": {
      "text/plain": "<Figure size 432x288 with 2 Axes>",
      "image/png": "[encoded data removed]"
     },
     "metadata": {
      "needs_background": "light"
     },
     "output_type": "display_data"
    },
    {
     "data": {
      "text/plain": "<Figure size 432x288 with 1 Axes>",
      "image/png": "[encoded data removed]"
     },
     "metadata": {
      "needs_background": "light"
     },
     "output_type": "display_data"
    },
    {
     "name": "stdout",
     "output_type": "stream",
     "text": [
      "[150. 218. 254. 258. 230.]\n"
     ]
    }
   ],
   "source": [
    "# post-processing:\n",
    "import numpy as np\n",
    "import matplotlib.pyplot as plt\n",
    "\n",
    "# the temperature along the x-axis should develop as:\n",
    "def tempDistr( x ):\n",
    "    return ((T_r-T_l)/LenX + S/(2*k)*(LenX-x))*x + T_l\n",
    "\n",
    "sim.display(T, mesh)\n",
    "\n",
    "nbcellsX = sim.mesh._cells_x\n",
    "cellSpacing = sim.mesh._uniformSpacing\n",
    "L = geom.lenX\n",
    "\n",
    "xSim = np.linspace(0+0.5*cellSpacing,LenX-0.5*cellSpacing,nbcellsX)\n",
    "ySim = T.data[0,:]\n",
    "\n",
    "xTheo = np.linspace(0,LenX, 100)\n",
    "S = np.ones(len(xTheo))*heatSource\n",
    "yTheo = tempDistr(xTheo)\n",
    "\n",
    "ax = plt.gca()\n",
    "ax.plot(xSim, ySim, 'x', label='simulation')\n",
    "ax.plot(xTheo, yTheo, label='theoretical')\n",
    "\n",
    "plt.legend()\n",
    "plt.show()\n",
    "\n",
    "print(ySim)"
   ],
   "metadata": {
    "collapsed": false,
    "pycharm": {
     "name": "#%%\n"
    }
   }
  },
  {
   "cell_type": "code",
   "execution_count": null,
   "outputs": [],
   "source": [
    "# shutting the interpreter down, so I can a fresh instance next time.\n",
    "# my modules are automatically checked for updates\n",
    "import os\n",
    "os._exit(00)"
   ],
   "metadata": {
    "collapsed": false,
    "pycharm": {
     "name": "#%%\n",
     "is_executing": true
    }
   }
  }
 ],
 "metadata": {
  "kernelspec": {
   "name": "pycharm-7f717e5c",
   "language": "python",
   "display_name": "PyCharm (pythonPlayground)"
  },
  "language_info": {
   "codemirror_mode": {
    "name": "ipython",
    "version": 2
   },
   "file_extension": ".py",
   "mimetype": "text/x-python",
   "name": "python",
   "nbconvert_exporter": "python",
   "pygments_lexer": "ipython2",
   "version": "2.7.6"
  }
 },
 "nbformat": 4,
 "nbformat_minor": 0
}