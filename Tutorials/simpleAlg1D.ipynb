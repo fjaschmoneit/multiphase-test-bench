{
 "cells": [
  {
   "cell_type": "code",
   "execution_count": 1,
   "outputs": [
    {
     "ename": "ModuleNotFoundError",
     "evalue": "No module named 'Odin'",
     "output_type": "error",
     "traceback": [
      "\u001B[0;31m---------------------------------------------------------------------------\u001B[0m",
      "\u001B[0;31mModuleNotFoundError\u001B[0m                       Traceback (most recent call last)",
      "\u001B[0;32m<ipython-input-1-43ec06253c32>\u001B[0m in \u001B[0;36m<module>\u001B[0;34m\u001B[0m\n\u001B[1;32m      3\u001B[0m \u001B[0mget_ipython\u001B[0m\u001B[0;34m(\u001B[0m\u001B[0;34m)\u001B[0m\u001B[0;34m.\u001B[0m\u001B[0mrun_line_magic\u001B[0m\u001B[0;34m(\u001B[0m\u001B[0;34m'autoreload'\u001B[0m\u001B[0;34m,\u001B[0m \u001B[0;34m'2'\u001B[0m\u001B[0;34m)\u001B[0m\u001B[0;34m\u001B[0m\u001B[0;34m\u001B[0m\u001B[0m\n\u001B[1;32m      4\u001B[0m \u001B[0;34m\u001B[0m\u001B[0m\n\u001B[0;32m----> 5\u001B[0;31m \u001B[0;32mimport\u001B[0m \u001B[0mOdin\u001B[0m\u001B[0;34m\u001B[0m\u001B[0;34m\u001B[0m\u001B[0m\n\u001B[0m\u001B[1;32m      6\u001B[0m \u001B[0;32mfrom\u001B[0m \u001B[0mfieldAccess\u001B[0m \u001B[0;32mimport\u001B[0m \u001B[0;34m*\u001B[0m\u001B[0;34m\u001B[0m\u001B[0;34m\u001B[0m\u001B[0m\n\u001B[1;32m      7\u001B[0m \u001B[0;34m\u001B[0m\u001B[0m\n",
      "\u001B[0;31mModuleNotFoundError\u001B[0m: No module named 'Odin'"
     ]
    }
   ],
   "source": [
    "%reset -f\n",
    "%load_ext autoreload\n",
    "%autoreload 2\n",
    "\n",
    "import Odin\n",
    "from fieldAccess import *\n",
    "\n",
    "# Versteeg example 6.1\n",
    "\n",
    "\n",
    "geom = Odin.createGeometry( 'rectangle', [4,3] )\n",
    "mesh = Odin.createMesh( geom, res=1 )\n",
    "\n",
    "# make just a list, give a name as optional parameter to flow model\n",
    "# make this a flowmodeles constructor with kwargs here and then remove simulation instance\n",
    "myFlowModels = {\n",
    "    'u' : Odin.TransportModels.staggeredTransport_u,\n",
    "    'v' : Odin.TransportModels.staggeredTransport_v,\n",
    "    'p' : Odin.PressureModels.Pressure\n",
    "}\n",
    "\n",
    "passiveFields = {}\n",
    "\n",
    "Odin.initialize(flowmodels=myFlowModels, mesh=mesh, geometry=geom, passiveFields=passiveFields )\n",
    "\n",
    "u=Odin.getField('u')\n",
    "v=Odin.getField('v')\n",
    "p=Odin.getField('p')\n",
    "\n",
    "# relates to viscosity:\n",
    "u.govModel.setDiffusionCoefficient(0.1)\n",
    "v.govModel.setDiffusionCoefficient(0.1)\n",
    "\n",
    "u.data[internal_u] = [[8,11,7]]\n",
    "Odin.defineBoundaryCondition(field=u, boundaryName='top', type='zeroGradient')\n",
    "Odin.defineBoundaryCondition(field=u, boundaryName='bottom', type='zeroGradient')\n",
    "Odin.defineBoundaryCondition(field=u, boundaryName='right', type='zeroGradient')\n",
    "Odin.defineBoundaryCondition(field=u, boundaryName='left', type='fixedValue', value=10)\n",
    "\n",
    "v.data.fill(0.0)\n",
    "Odin.defineBoundaryCondition(field=v, boundaryName='top', type='fixedValue', value=0)\n",
    "Odin.defineBoundaryCondition(field=v, boundaryName='bottom', type='fixedValue', value=0)\n",
    "Odin.defineBoundaryCondition(field=v, boundaryName='left', type='zeroGradient' )\n",
    "Odin.defineBoundaryCondition(field=v, boundaryName='right', type='zeroGradient')\n",
    "\n",
    "p.data.fill(0)\n",
    "Odin.defineBoundaryCondition(field=p, boundaryName='top', type='freeFlow')\n",
    "Odin.defineBoundaryCondition(field=p, boundaryName='bottom', type='freeFlow')\n",
    "Odin.defineBoundaryCondition(field=p, boundaryName='left', type='freeFlow' )\n",
    "Odin.defineBoundaryCondition(field=p, boundaryName='right', type='constantPressure', value=0)\n",
    "\n",
    "\n",
    "# assumption from example:\n",
    "u.govModel.a_p.fill(1)\n",
    "v.govModel.a_p.fill(1)\n",
    "\n",
    "print(u.data)\n",
    "Odin.display(u,mesh)\n",
    "\n",
    "p_correction = Odin.solve(p)\n",
    "print(\"pressure correction\\n\", p_correction)\n",
    "\n",
    "p.data += p_correction\n",
    "u.data[internal_u] +=  p.govModel.d_u[internal_u] * ( p_correction[west]- p_correction[east] )\n",
    "u.data[boundary_east] = u.data[boundary_nb1_east]\n",
    "\n",
    "print(\"\\n\\nvelocity after first iteration:\")\n",
    "Odin.display(u,mesh)\n",
    "print(u.data)\n",
    "\n",
    "p_correction = Odin.solve(p)\n",
    "print(\"\\npressure correction\\n\", p_correction)\n",
    "\n",
    "p.data += p_correction\n",
    "u.data[internal_u] +=  p.govModel.d_u[internal_u] * ( p_correction[west]- p_correction[east] )\n",
    "u.data[boundary_east] = u.data[boundary_nb1_east]\n",
    "\n",
    "print(\"\\n\\nvelocity after second iteration:\")\n",
    "Odin.display(u,mesh)\n",
    "print(u.data)\n",
    "\n"
   ],
   "metadata": {
    "collapsed": false,
    "pycharm": {
     "name": "#%%\n"
    }
   }
  },
  {
   "cell_type": "code",
   "execution_count": null,
   "outputs": [],
   "source": [
    "# shutting the interpreter down, so I can a fresh instance next time.\n",
    "# my modules are automatically checked for updates\n",
    "import os\n",
    "os._exit(00)"
   ],
   "metadata": {
    "collapsed": false,
    "pycharm": {
     "name": "#%%\n"
    }
   }
  }
 ],
 "metadata": {
  "kernelspec": {
   "display_name": "Python 3",
   "language": "python",
   "name": "python3"
  },
  "language_info": {
   "codemirror_mode": {
    "name": "ipython",
    "version": 2
   },
   "file_extension": ".py",
   "mimetype": "text/x-python",
   "name": "python",
   "nbconvert_exporter": "python",
   "pygments_lexer": "ipython2",
   "version": "2.7.6"
  }
 },
 "nbformat": 4,
 "nbformat_minor": 0
}