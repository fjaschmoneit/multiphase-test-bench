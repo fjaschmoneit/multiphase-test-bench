{
 "cells": [
  {
   "cell_type": "markdown",
   "source": [
    "# Lid-Driven Cavity\n",
    "\n",
    "This tutorial implements the classic lid-driven cavity set-up.\n",
    "The domain is a square box with four walls.\n",
    "The top wall is moving with a prescribed velocity to the right.\n",
    "This will accelerate a swirl inside the box. depending on the wall velocity\n",
    "the velocity contours can be compared with experimental investigations. "
   ],
   "metadata": {
    "collapsed": false,
    "pycharm": {
     "name": "#%% md\n"
    }
   },
   "outputs": [],
   "execution_count": 1
  },
  {
   "cell_type": "code",
   "execution_count": 2,
   "metadata": {
    "collapsed": true
   },
   "outputs": [
    {
     "ename": "ModuleNotFoundError",
     "evalue": "No module named 'Odin'",
     "output_type": "error",
     "traceback": [
      "\u001B[0;31m---------------------------------------------------------------------------\u001B[0m",
      "\u001B[0;31mModuleNotFoundError\u001B[0m                       Traceback (most recent call last)",
      "\u001B[0;32m<ipython-input-2-223da8badd68>\u001B[0m in \u001B[0;36m<module>\u001B[0;34m\u001B[0m\n\u001B[1;32m      3\u001B[0m \u001B[0mget_ipython\u001B[0m\u001B[0;34m(\u001B[0m\u001B[0;34m)\u001B[0m\u001B[0;34m.\u001B[0m\u001B[0mrun_line_magic\u001B[0m\u001B[0;34m(\u001B[0m\u001B[0;34m'autoreload'\u001B[0m\u001B[0;34m,\u001B[0m \u001B[0;34m'2'\u001B[0m\u001B[0;34m)\u001B[0m\u001B[0;34m\u001B[0m\u001B[0;34m\u001B[0m\u001B[0m\n\u001B[1;32m      4\u001B[0m \u001B[0;34m\u001B[0m\u001B[0m\n\u001B[0;32m----> 5\u001B[0;31m \u001B[0;32mimport\u001B[0m \u001B[0mOdin\u001B[0m\u001B[0;34m\u001B[0m\u001B[0;34m\u001B[0m\u001B[0m\n\u001B[0m\u001B[1;32m      6\u001B[0m \u001B[0;32mfrom\u001B[0m \u001B[0mfieldAccess\u001B[0m \u001B[0;32mimport\u001B[0m \u001B[0;34m*\u001B[0m\u001B[0;34m\u001B[0m\u001B[0;34m\u001B[0m\u001B[0m\n\u001B[1;32m      7\u001B[0m \u001B[0;32mimport\u001B[0m \u001B[0mnumpy\u001B[0m \u001B[0;32mas\u001B[0m \u001B[0mnp\u001B[0m\u001B[0;34m\u001B[0m\u001B[0;34m\u001B[0m\u001B[0m\n",
      "\u001B[0;31mModuleNotFoundError\u001B[0m: No module named 'Odin'"
     ]
    }
   ],
   "source": [
    "%reset -f\n",
    "%load_ext autoreload\n",
    "%autoreload 2\n",
    "\n",
    "import Odin\n",
    "from fieldAccess import *\n",
    "import numpy as np\n",
    "\n",
    "geom = Odin.createGeometry( 'rectangle', [30,30] )\n",
    "mesh = Odin.createMesh( geom, res=1 )\n",
    "\n",
    "movingWallVelocity = 0.2\n",
    "\n",
    "myFlowModels = {\n",
    "    'u' : Odin.TransportModels.staggeredTransport_u,\n",
    "    'v' : Odin.TransportModels.staggeredTransport_v,\n",
    "    'p' : Odin.PressureModels.Pressure\n",
    "}\n",
    "\n",
    "passiveFields = {}\n",
    "\n",
    "sim = Odin.Simulation(flowmodels=myFlowModels, mesh=mesh, geometry=geom, passiveFields=passiveFields )\n",
    "\n",
    "\n",
    "myFields = sim.fieldRegistry\n",
    "u=myFields['u']\n",
    "v=myFields['v']\n",
    "p=myFields['p']\n",
    "\n",
    "# relates to viscosity:\n",
    "u.govModel.setDiffusionCoefficient(10)\n",
    "v.govModel.setDiffusionCoefficient(10)\n",
    "\n",
    "u.data.fill(0.0)\n",
    "Odin.defineBoundaryCondition(field=u, boundaryName='top', type='fixedValue', value=movingWallVelocity)\n",
    "Odin.defineBoundaryCondition(field=u, boundaryName='bottom', type='fixedValue', value=0 )\n",
    "Odin.defineBoundaryCondition(field=u, boundaryName='right', type='fixedValue', value=0 )\n",
    "Odin.defineBoundaryCondition(field=u, boundaryName='left', type='fixedValue', value=0)\n",
    "\n",
    "v.data.fill(0.0)\n",
    "Odin.defineBoundaryCondition(field=v, boundaryName='top', type='fixedValue', value=0)\n",
    "Odin.defineBoundaryCondition(field=v, boundaryName='bottom', type='fixedValue', value=0)\n",
    "Odin.defineBoundaryCondition(field=v, boundaryName='left', type='fixedValue', value=0 )\n",
    "Odin.defineBoundaryCondition(field=v, boundaryName='right', type='fixedValue', value=0)\n",
    "\n",
    "p.data.fill(0.0)\n",
    "Odin.defineBoundaryCondition(field=p, boundaryName='top', type='constantPressure', value=0)\n",
    "Odin.defineBoundaryCondition(field=p, boundaryName='bottom', type='constantPressure', value=0)\n",
    "Odin.defineBoundaryCondition(field=p, boundaryName='left', type='constantPressure' , value=0)\n",
    "Odin.defineBoundaryCondition(field=p, boundaryName='right', type='constantPressure', value=0)\n",
    "\n",
    "\n",
    "alphaP = 0.2\n",
    "alphaV = 0.5\n",
    "\n",
    "for i in range(2):\n",
    "    u_old = np.copy(u.data)\n",
    "    v_old = np.copy(v.data)\n",
    "\n",
    "    u.data = Odin.solve(u)\n",
    "    v.data = Odin.solve(v)\n",
    "\n",
    "    p_correction = Odin.solve(p)\n",
    "    p.data +=  alphaP*p_correction\n",
    "\n",
    "    u_new = u.data[internal_u] + p.govModel.d_u[internal_u] * ( p_correction[west]- p_correction[east] )\n",
    "    v_new = v.data[internal_v] + p.govModel.d_v[internal_v] * ( p_correction[south]- p_correction[north] )\n",
    "\n",
    "    u.data[internal_u] = alphaV*u_new + (1.0-alphaV)*u_old[internal_u]\n",
    "    v.data[internal_v] = alphaV*v_new + (1.0-alphaV)*v_old[internal_v]\n",
    "\n",
    "    u.data[internal_u] +=  p.govModel.d_u[internal_u] * ( p_correction[west]- p_correction[east] )\n",
    "    v.data[internal_v] += p.govModel.d_v[internal_v] * ( p_correction[south]- p_correction[north])\n",
    "\n",
    "#    u_new = u.data[internal_u] + p.govModel.d_u[internal_u] * ( p_correction[west]- p_correction[east] )\n",
    "\n",
    "\n",
    "sim.display(u,mesh)\n",
    "sim.display(v,mesh)\n",
    "sim.display(p,mesh)\n",
    "\n",
    "\n",
    "vel = Odin.calcCollocatedVelocityField(u.data, v.data)\n",
    "velMag = Odin.calcVelocityMagnitude(vel)\n",
    "sim.display(velMag,mesh)\n",
    "\n"
   ]
  },
  {
   "cell_type": "code",
   "execution_count": null,
   "outputs": [],
   "source": [
    "# shutting the interpreter down, so I can a fresh instance next time.\n",
    "# my modules are automatically checked for updates\n",
    "import os\n",
    "os._exit(00)"
   ],
   "metadata": {
    "collapsed": false,
    "pycharm": {
     "name": "#%%\n"
    }
   }
  }
 ],
 "metadata": {
  "kernelspec": {
   "display_name": "Python 3",
   "language": "python",
   "name": "python3"
  },
  "language_info": {
   "codemirror_mode": {
    "name": "ipython",
    "version": 2
   },
   "file_extension": ".py",
   "mimetype": "text/x-python",
   "name": "python",
   "nbconvert_exporter": "python",
   "pygments_lexer": "ipython2",
   "version": "2.7.6"
  }
 },
 "nbformat": 4,
 "nbformat_minor": 0
}