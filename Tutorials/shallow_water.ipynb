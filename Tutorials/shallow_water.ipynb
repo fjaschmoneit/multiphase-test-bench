{
 "cells": [
  {
   "cell_type": "markdown",
   "source": [
    "# Shallow Water Equation\n",
    "\n",
    "This is a validation of the implementation of the Shallow Water Equations (SWE) or Saint Venant eqations.\n",
    "This implementation follows: Gunawan, P.H., Eymard, R. & Pudjaprasetya, S.R. Staggered scheme for the Exner–shallow water equations. Comput Geosci 19, 1197–1206 (2015). https://doi.org/10.1007/s10596-015-9533-4\n",
    "\n",
    "$\\partial_t h + \\partial_x (h u) = 0$\n",
    "\n",
    "$\\partial_t (h u) + \\partial_x \\left( h u^2 + \\frac{1}{2} g h^2 \\right) + g h \\partial_x H = 0 $\n",
    "\n",
    "The following piece of code solves the Saint Venant equations on a staggered grid with explicit time marching.\n",
    "The simulation data are saved as .png images and subsequently collected as a .gif."
   ],
   "metadata": {
    "collapsed": false,
    "pycharm": {
     "name": "#%% md\n"
    }
   },
   "outputs": [],
   "execution_count": 1
  },
  {
   "cell_type": "code",
   "execution_count": 1,
   "metadata": {
    "collapsed": true
   },
   "outputs": [],
   "source": [
    "%reset -f\n",
    "%load_ext autoreload\n",
    "%autoreload 2\n",
    "\n",
    "import numpy as np\n",
    "import Manager as Odin\n",
    "import matplotlib.pyplot as plt\n",
    "import imageio\n",
    "import math\n",
    "\n",
    "def seaBed(x,L,A,O,phi):\n",
    "    return O+ A*np.sin(2*math.pi*(x/L - phi) )\n",
    "\n",
    "domainSize = 10        #m\n",
    "cellsPerLength = 50\n",
    "g = 9.81              # m2/s\n",
    "dt = 0.001              # s\n",
    "endTime = 5\n",
    "\n",
    "geom = Odin.createGeometry( 'rectangle', [domainSize, domainSize/cellsPerLength] )\n",
    "mesh = Odin.createMesh( geom, res=cellsPerLength/domainSize )\n",
    "\n",
    "flowModels = {\n",
    "    'h' : Odin.TransportModels.scalarTransport,\n",
    "    'u' : Odin.TransportModelsSWE.staggeredTransport_u,\n",
    "    'v' : Odin.TransportModels.staggeredTransport_v\n",
    "}\n",
    "\n",
    "closure = {\n",
    "    'u' : ['v','h'],\n",
    "    'v' : ['u','h'],\n",
    "    'h' : ['u','v'],\n",
    "}\n",
    "\n",
    "Odin.initialize(flowModels, mesh, geom, closure=closure )\n",
    "\n",
    "u=Odin.getField('u')\n",
    "v=Odin.getField('v')\n",
    "h=Odin.getField('h')\n",
    "\n",
    "sb = np.array([[seaBed(x,domainSize,0.05, 0.8, 0.15) for x in np.linspace(0, domainSize, cellsPerLength) ]])\n",
    "\n",
    "u.govModel.setGravitation(g)\n",
    "u.govModel.setSeaBed(sb)\n",
    "\n",
    "h.govModel.setDiffusionCoefficient(0)\n",
    "h.govModel.setHeatCapacity(1)\n",
    "\n",
    "h.data = np.ones(h.data.shape)-sb\n",
    "\n",
    "size = 14\n",
    "for i in range(size):\n",
    "    h.data[0][2+i:3+i] += 0.05*(1+math.sin((math.pi/size*i*2 - math.pi/2)))\n",
    "Odin.defineBoundaryCondition(field=h, boundaryName='top', type='zeroGradient' )\n",
    "Odin.defineBoundaryCondition(field=h, boundaryName='bottom', type='zeroGradient' )\n",
    "Odin.defineBoundaryCondition(field=h, boundaryName='left', type='zeroGradient')\n",
    "Odin.defineBoundaryCondition(field=h, boundaryName='right', type='zeroGradient' )\n",
    "\n",
    "u.data.fill(0.0)\n",
    "Odin.defineBoundaryCondition(field=u, boundaryName='top', type='zeroGradient')\n",
    "Odin.defineBoundaryCondition(field=u, boundaryName='bottom', type='zeroGradient' )\n",
    "Odin.defineBoundaryCondition(field=u, boundaryName='right', type='fixedValue', value=0 )\n",
    "Odin.defineBoundaryCondition(field=u, boundaryName='left', type='fixedValue', value=0)"
   ]
  },
  {
   "cell_type": "code",
   "execution_count": 2,
   "outputs": [
    {
     "name": "stdout",
     "output_type": "stream",
     "text": [
      "iter = 0\tcurrent time = 0.00e+00\ttime step = 1.00e-03\t||u|| = 0.00e+00 \t||h|| = 1.55e+00\n",
      "iter = 10\tcurrent time = 4.98e-01\ttime step = 5.22e-02\t||u|| = 9.90e-01 \t||h|| = 1.54e+00\n",
      "iter = 20\tcurrent time = 1.02e+00\ttime step = 5.46e-02\t||u|| = 8.88e-01 \t||h|| = 1.55e+00\n",
      "iter = 30\tcurrent time = 1.55e+00\ttime step = 5.15e-02\t||u|| = 9.97e-01 \t||h|| = 1.54e+00\n",
      "iter = 40\tcurrent time = 2.07e+00\ttime step = 5.14e-02\t||u|| = 1.12e+00 \t||h|| = 1.54e+00\n",
      "iter = 50\tcurrent time = 2.57e+00\ttime step = 4.93e-02\t||u|| = 1.16e+00 \t||h|| = 1.54e+00\n",
      "iter = 60\tcurrent time = 3.06e+00\ttime step = 4.73e-02\t||u|| = 1.20e+00 \t||h|| = 1.54e+00\n",
      "iter = 70\tcurrent time = 3.52e+00\ttime step = 4.56e-02\t||u|| = 1.24e+00 \t||h|| = 1.54e+00\n",
      "iter = 80\tcurrent time = 3.98e+00\ttime step = 4.45e-02\t||u|| = 1.27e+00 \t||h|| = 1.55e+00\n",
      "iter = 90\tcurrent time = 4.42e+00\ttime step = 4.40e-02\t||u|| = 1.29e+00 \t||h|| = 1.55e+00\n",
      "iter = 100\tcurrent time = 4.86e+00\ttime step = 4.61e-02\t||u|| = 1.08e+00 \t||h|| = 1.56e+00\n",
      "end of time loop\n"
     ]
    }
   ],
   "source": [
    "# initiating time loop:\n",
    "currentTime = 0\n",
    "counter = 0\n",
    "h_data = [np.insert(h.data, 0, currentTime)]\n",
    "u_data = [np.insert(u.data, 0, currentTime)]\n",
    "\n",
    "while currentTime <= endTime:\n",
    "\n",
    "    if counter%10==0:\n",
    "        print(f\"iter = {counter}\\t\"\n",
    "              f\"current time = {currentTime:.2e}\\t\"\n",
    "              f\"time step = {dt:.2e}\\t\"\n",
    "              f\"||u|| = {np.linalg.norm(u.data):.2e} \\t\"\n",
    "              f\"||h|| = {np.linalg.norm(h.data):.2e}\" )\n",
    "\n",
    "    currentTime += dt\n",
    "    counter += 1\n",
    "\n",
    "    h.data = Odin.transientSolve(h, dt, method='explicit')\n",
    "    u.data = Odin.transientSolve(u, dt, method='semi-implicit')\n",
    "\n",
    "    h_data = np.concatenate((h_data, [np.insert(h.data, 0, currentTime)]))\n",
    "    u_data = np.concatenate((u_data, [np.insert(u.data, 0, currentTime)]))\n",
    "\n",
    "    dt = u.govModel.calcTimeStep()\n",
    "print(\"end of time loop\")"
   ],
   "metadata": {
    "collapsed": false,
    "pycharm": {
     "name": "#%%\n"
    }
   }
  },
  {
   "cell_type": "code",
   "execution_count": 3,
   "outputs": [
    {
     "data": {
      "text/plain": "<Figure size 1600x320 with 1 Axes>",
      "image/png": "[encoded data removed]"
     },
     "metadata": {
      "needs_background": "light"
     },
     "output_type": "display_data"
    }
   ],
   "source": [
    "for i,hdat in enumerate(h_data):\n",
    "    plt.figure(figsize=(20, 4), dpi=80)\n",
    "    ax = plt.gca()\n",
    "    #plt.plot(np.linspace(0, domainSize, cellsPerLength), sb[0]+hdat[1:], 'x', label=hdat[0])\n",
    "    plt.fill_between(np.linspace(0, domainSize, cellsPerLength), sb[0]+hdat[1:], alpha=0.4, label=f\"T = {hdat[0]:.2}\")\n",
    "    plt.fill_between(np.linspace(0, domainSize, cellsPerLength), sb[0], alpha=0.4)\n",
    "    ax.set_ylim([0.7, 1.3])\n",
    "    ax.set_xlim([0, domainSize])\n",
    "    plt.legend()\n",
    "    if i == 24:\n",
    "        plt.show()\n",
    "\n",
    "    plt.savefig(f'/home/fynne/temp/img/hdat_{i}.png',\n",
    "                transparent=False,\n",
    "                facecolor='white'\n",
    "                )\n",
    "    plt.close()"
   ],
   "metadata": {
    "collapsed": false,
    "pycharm": {
     "name": "#%%\n"
    }
   }
  },
  {
   "cell_type": "code",
   "execution_count": null,
   "outputs": [],
   "source": [
    "#Exporting as gif:\n",
    "\n",
    "frames = []\n",
    "for i, hdat in enumerate(h_data):\n",
    "    image = imageio.v2.imread(f'/home/fynne/temp/img/hdat_{i}.png')\n",
    "    frames.append(image)\n",
    "\n",
    "imageio.mimsave('/home/fynne/temp/gif/waves.gif',  # output gif\n",
    "                frames,  # array of input frames\n",
    "                fps=20)  # optional: frames per second\n",
    "\n",
    "#\n",
    "# for udat in u_data:\n",
    "#     plt.plot(np.linspace(0, domainSize, cellsPerLength+1), udat[1:], 'o-', label=udat[0])\n",
    "\n",
    "\n",
    "#plt.legend()\n",
    "\n",
    "#Odin.display(u,mesh,'u')\n",
    "#Odin.display(h,mesh,'h')"
   ],
   "metadata": {
    "collapsed": false,
    "pycharm": {
     "name": "#%%\n",
     "is_executing": true
    }
   }
  },
  {
   "cell_type": "code",
   "execution_count": null,
   "outputs": [],
   "source": [
    "# shutting the interpreter down, so I can a fresh instance next time.\n",
    "# my modules are automatically checked for updates\n",
    "import os\n",
    "os._exit(00)"
   ],
   "metadata": {
    "collapsed": false,
    "pycharm": {
     "name": "#%%\n",
     "is_executing": true
    }
   }
  }
 ],
 "metadata": {
  "kernelspec": {
   "display_name": "Python 3",
   "language": "python",
   "name": "python3"
  },
  "language_info": {
   "codemirror_mode": {
    "name": "ipython",
    "version": 2
   },
   "file_extension": ".py",
   "mimetype": "text/x-python",
   "name": "python",
   "nbconvert_exporter": "python",
   "pygments_lexer": "ipython2",
   "version": "2.7.6"
  }
 },
 "nbformat": 4,
 "nbformat_minor": 0
}