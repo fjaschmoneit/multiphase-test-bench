{
 "cells": [
  {
   "cell_type": "code",
   "execution_count": 62,
   "metadata": {
    "collapsed": true
   },
   "outputs": [
    {
     "name": "stdout",
     "output_type": "stream",
     "text": [
      "The autoreload extension is already loaded. To reload it, use:\n",
      "  %reload_ext autoreload\n"
     ]
    }
   ],
   "source": [
    "%reset -f\n",
    "%load_ext autoreload\n",
    "%autoreload 2\n",
    "\n",
    "import Odin as backend"
   ]
  },
  {
   "cell_type": "code",
   "execution_count": 63,
   "outputs": [],
   "source": [
    "# validation test for scalar diffusion with a constant source term\n",
    "# this validation test follows \"H K Versteeg and W Malalasekera, An Introduction to Computational Fluid Dynamics\n",
    "# THE FINITE VOLUME METHOD, Second Edition, 2007\" examples 4.1,4.2\n",
    "\n",
    "# the temperature along the x-axis should develop as:\n",
    "def yFunc(x):\n",
    "    return ((T_r-T_l)/LenX + S/(2*k)*(LenX-x))*x + T_l\n",
    "\n",
    "# write '4.1' or '4.2'\n",
    "exampleId = '4.2'\n",
    "\n",
    "# geometric parameters\n",
    "LenX = {'4.1':0.5, '4.2':0.02}[exampleId]\n",
    "LenY = {'4.1':0.1, '4.2':0.004}[exampleId]\n",
    "\n",
    "# thermal conductivity [ W / (m K) ]\n",
    "k = {'4.1':1000, '4.2':0.5}[exampleId]\n",
    "\n",
    "# heat source [ W / m^3 ]\n",
    "R = {'4.1':0, '4.2':1e6}[exampleId]\n",
    "S = R\n",
    "\n",
    "# const temperature at left/right boundaries [K]\n",
    "T_l = {'4.1':100, '4.2':100}[exampleId]\n",
    "T_r = {'4.1':500, '4.2':200}[exampleId]\n",
    "\n",
    "resolution = {'4.1':10, '4.2':2500}[exampleId]\n",
    "\n",
    "\n",
    "# the cross sectional area is hard coded in createMatrixCoefficients()\n",
    "# the cross sectional area should be defined by the geometry/mesh"
   ],
   "metadata": {
    "collapsed": false,
    "pycharm": {
     "name": "#%%\n"
    }
   }
  },
  {
   "cell_type": "code",
   "execution_count": 64,
   "outputs": [
    {
     "name": "stdout",
     "output_type": "stream",
     "text": [
      "ScalarConvectionDiffusion:\n",
      "\t {'diffusionCoefficient': 0.5, 'sourceFieldName': 'R', 'scalarFieldName': 'T', 'velocityFieldName': 'U'}\n"
     ]
    }
   ],
   "source": [
    "geom = backend.createGeometry( 'rectangle', [LenX, LenY] )\n",
    "mesh = backend.createMesh( geom, res=resolution )\n",
    "\n",
    "#mesh.getStats()\n",
    "\n",
    "# example: incompressible flow but with temp-dep density, i.e. BoussinesqFlow\n",
    "# mulitphase stokes flow\n",
    "myFlowModels = {\n",
    "    #'flowField'     :   backend.FlowModels.IncompressibleFlow(),\n",
    "    #'soluteTransport':  backend.FlowModels.ScalarConvectionDiffusion(),\n",
    "    'temperature'   :   backend.FlowModels.ScalarConvectionDiffusion(scalarFieldName='T', velocityFieldName='U', diffusionCoefficientName='k', sourceFieldName='R')\n",
    "    }\n",
    "myFlowModels['temperature']._properties['diffusionCoefficient'] = k\n",
    "myFlowModels['temperature'].showContinuumProperties()\n",
    "\n",
    "sim1 = backend.Simulation(myFlowModels, mesh, geom )\n",
    "#print(type(sim1._variableFields['U']).__name__) # i can use this to remove the member variable _type"
   ],
   "metadata": {
    "collapsed": false,
    "pycharm": {
     "name": "#%%\n"
    }
   }
  },
  {
   "cell_type": "code",
   "execution_count": 65,
   "outputs": [
    {
     "name": "stdout",
     "output_type": "stream",
     "text": [
      "variable fields :\n",
      "\t T \t variableCellField \t {'left': 100, 'right': 200, 'top': 'zeroGradient', 'bottom': 'zeroGradient'}\n",
      "parameter fields :\n",
      "\t U \t parameterFaceField\n",
      "\t R \t scalar\n",
      "\t k \t scalar\n",
      "\n",
      "\n"
     ]
    },
    {
     "ename": "ValueError",
     "evalue": "operands could not be broadcast together with shapes (10,47) (10,49) (10,47) ",
     "output_type": "error",
     "traceback": [
      "\u001B[0;31m---------------------------------------------------------------------------\u001B[0m",
      "\u001B[0;31mValueError\u001B[0m                                Traceback (most recent call last)",
      "\u001B[0;32m<ipython-input-65-fccba1c4ad76>\u001B[0m in \u001B[0;36m<module>\u001B[0;34m\u001B[0m\n\u001B[1;32m     14\u001B[0m \u001B[0msim1\u001B[0m\u001B[0;34m.\u001B[0m\u001B[0mshowfields\u001B[0m\u001B[0;34m(\u001B[0m\u001B[0;34m)\u001B[0m\u001B[0;34m\u001B[0m\u001B[0;34m\u001B[0m\u001B[0m\n\u001B[1;32m     15\u001B[0m \u001B[0;34m\u001B[0m\u001B[0m\n\u001B[0;32m---> 16\u001B[0;31m \u001B[0msim1\u001B[0m\u001B[0;34m.\u001B[0m\u001B[0mcompile\u001B[0m\u001B[0;34m(\u001B[0m\u001B[0;34m)\u001B[0m\u001B[0;34m\u001B[0m\u001B[0;34m\u001B[0m\u001B[0m\n\u001B[0m\u001B[1;32m     17\u001B[0m \u001B[0;34m\u001B[0m\u001B[0m\n\u001B[1;32m     18\u001B[0m \u001B[0mT\u001B[0m\u001B[0;34m.\u001B[0m\u001B[0msolve\u001B[0m\u001B[0;34m(\u001B[0m\u001B[0;34m)\u001B[0m\u001B[0;34m\u001B[0m\u001B[0;34m\u001B[0m\u001B[0m\n",
      "\u001B[0;32m~/odin/pythonPlayground/Odin.py\u001B[0m in \u001B[0;36mcompile\u001B[0;34m(self)\u001B[0m\n\u001B[1;32m     74\u001B[0m         \u001B[0;31m# creates the linear equation systems\u001B[0m\u001B[0;34m\u001B[0m\u001B[0;34m\u001B[0m\u001B[0;34m\u001B[0m\u001B[0m\n\u001B[1;32m     75\u001B[0m         \u001B[0;32mfor\u001B[0m \u001B[0mflowmodel\u001B[0m \u001B[0;32min\u001B[0m \u001B[0mself\u001B[0m\u001B[0;34m.\u001B[0m\u001B[0m_flowmodels\u001B[0m\u001B[0;34m:\u001B[0m\u001B[0;34m\u001B[0m\u001B[0;34m\u001B[0m\u001B[0m\n\u001B[0;32m---> 76\u001B[0;31m             \u001B[0mflowmodel\u001B[0m\u001B[0;34m.\u001B[0m\u001B[0mcreateLinearEquationSystems\u001B[0m\u001B[0;34m(\u001B[0m\u001B[0mmesh\u001B[0m\u001B[0;34m=\u001B[0m\u001B[0mself\u001B[0m\u001B[0;34m.\u001B[0m\u001B[0m_mesh\u001B[0m\u001B[0;34m,\u001B[0m \u001B[0mfields\u001B[0m\u001B[0;34m=\u001B[0m\u001B[0;34m{\u001B[0m\u001B[0;34m**\u001B[0m\u001B[0mself\u001B[0m\u001B[0;34m.\u001B[0m\u001B[0m_variableFields\u001B[0m\u001B[0;34m,\u001B[0m \u001B[0;34m**\u001B[0m\u001B[0mself\u001B[0m\u001B[0;34m.\u001B[0m\u001B[0m_coefficientFields\u001B[0m\u001B[0;34m}\u001B[0m\u001B[0;34m)\u001B[0m\u001B[0;34m\u001B[0m\u001B[0;34m\u001B[0m\u001B[0m\n\u001B[0m\u001B[1;32m     77\u001B[0m \u001B[0;34m\u001B[0m\u001B[0m\n\u001B[1;32m     78\u001B[0m         \u001B[0mself\u001B[0m\u001B[0;34m.\u001B[0m\u001B[0m_isCompiled\u001B[0m \u001B[0;34m=\u001B[0m \u001B[0;32mTrue\u001B[0m\u001B[0;34m\u001B[0m\u001B[0;34m\u001B[0m\u001B[0m\n",
      "\u001B[0;32m~/odin/pythonPlayground/FlowModels.py\u001B[0m in \u001B[0;36mcreateLinearEquationSystems\u001B[0;34m(self, mesh, fields)\u001B[0m\n\u001B[1;32m     28\u001B[0m         \u001B[0msourceField\u001B[0m \u001B[0;34m=\u001B[0m \u001B[0mfields\u001B[0m\u001B[0;34m[\u001B[0m\u001B[0mself\u001B[0m\u001B[0;34m.\u001B[0m\u001B[0m_properties\u001B[0m\u001B[0;34m[\u001B[0m\u001B[0;34m'sourceFieldName'\u001B[0m\u001B[0;34m]\u001B[0m\u001B[0;34m]\u001B[0m\u001B[0;34m\u001B[0m\u001B[0;34m\u001B[0m\u001B[0m\n\u001B[1;32m     29\u001B[0m \u001B[0;34m\u001B[0m\u001B[0m\n\u001B[0;32m---> 30\u001B[0;31m         fluxes = self.createMatrixCoefficients(\n\u001B[0m\u001B[1;32m     31\u001B[0m             \u001B[0mmesh\u001B[0m\u001B[0;34m=\u001B[0m\u001B[0mmesh\u001B[0m\u001B[0;34m,\u001B[0m\u001B[0;34m\u001B[0m\u001B[0;34m\u001B[0m\u001B[0m\n\u001B[1;32m     32\u001B[0m             \u001B[0mfield\u001B[0m\u001B[0;34m=\u001B[0m\u001B[0mdepField\u001B[0m\u001B[0;34m,\u001B[0m\u001B[0;34m\u001B[0m\u001B[0;34m\u001B[0m\u001B[0m\n",
      "\u001B[0;32m~/odin/pythonPlayground/FlowModels.py\u001B[0m in \u001B[0;36mcreateMatrixCoefficients\u001B[0;34m(self, mesh, field, diffCoeff, sourceField)\u001B[0m\n\u001B[1;32m     66\u001B[0m \u001B[0;34m\u001B[0m\u001B[0m\n\u001B[1;32m     67\u001B[0m         \u001B[0;31m# directional coefficient matrices are cellFields, very inefficient\u001B[0m\u001B[0;34m\u001B[0m\u001B[0;34m\u001B[0m\u001B[0;34m\u001B[0m\u001B[0m\n\u001B[0;32m---> 68\u001B[0;31m         \u001B[0ma_e\u001B[0m \u001B[0;34m=\u001B[0m \u001B[0;34m-\u001B[0m\u001B[0mFields\u001B[0m\u001B[0;34m.\u001B[0m\u001B[0mparameterCellField\u001B[0m\u001B[0;34m(\u001B[0m\u001B[0mmesh\u001B[0m\u001B[0;34m=\u001B[0m\u001B[0mmesh\u001B[0m\u001B[0;34m,\u001B[0m \u001B[0mprimitiveField\u001B[0m\u001B[0;34m=\u001B[0m\u001B[0;34m(\u001B[0m\u001B[0mD\u001B[0m\u001B[0;34m*\u001B[0m\u001B[0mA\u001B[0m\u001B[0;34m)\u001B[0m\u001B[0;34m.\u001B[0m\u001B[0me\u001B[0m\u001B[0;34m)\u001B[0m\u001B[0;34m\u001B[0m\u001B[0;34m\u001B[0m\u001B[0m\n\u001B[0m\u001B[1;32m     69\u001B[0m         \u001B[0ma_w\u001B[0m \u001B[0;34m=\u001B[0m \u001B[0;34m-\u001B[0m\u001B[0mFields\u001B[0m\u001B[0;34m.\u001B[0m\u001B[0mparameterCellField\u001B[0m\u001B[0;34m(\u001B[0m\u001B[0mmesh\u001B[0m\u001B[0;34m=\u001B[0m\u001B[0mmesh\u001B[0m\u001B[0;34m,\u001B[0m \u001B[0mprimitiveField\u001B[0m\u001B[0;34m=\u001B[0m\u001B[0mfaceFluxes\u001B[0m\u001B[0;34m.\u001B[0m\u001B[0mw\u001B[0m\u001B[0;34m)\u001B[0m\u001B[0;34m\u001B[0m\u001B[0;34m\u001B[0m\u001B[0m\n\u001B[1;32m     70\u001B[0m         \u001B[0ma_n\u001B[0m \u001B[0;34m=\u001B[0m \u001B[0;34m-\u001B[0m\u001B[0mFields\u001B[0m\u001B[0;34m.\u001B[0m\u001B[0mparameterCellField\u001B[0m\u001B[0;34m(\u001B[0m\u001B[0mmesh\u001B[0m\u001B[0;34m=\u001B[0m\u001B[0mmesh\u001B[0m\u001B[0;34m,\u001B[0m \u001B[0mprimitiveField\u001B[0m\u001B[0;34m=\u001B[0m\u001B[0mfaceFluxes\u001B[0m\u001B[0;34m.\u001B[0m\u001B[0mn\u001B[0m\u001B[0;34m)\u001B[0m\u001B[0;34m\u001B[0m\u001B[0;34m\u001B[0m\u001B[0m\n",
      "\u001B[0;32m~/odin/pythonPlayground/Fields.py\u001B[0m in \u001B[0;36m__mul__\u001B[0;34m(self, other)\u001B[0m\n\u001B[1;32m    187\u001B[0m         \u001B[0mprimitiveFieldY\u001B[0m \u001B[0;34m=\u001B[0m \u001B[0mself\u001B[0m\u001B[0;34m.\u001B[0m\u001B[0m_internalEntries_NS\u001B[0m\u001B[0;34m\u001B[0m\u001B[0;34m\u001B[0m\u001B[0m\n\u001B[1;32m    188\u001B[0m         \u001B[0;32mif\u001B[0m \u001B[0misinstance\u001B[0m\u001B[0;34m(\u001B[0m\u001B[0mother\u001B[0m\u001B[0;34m,\u001B[0m \u001B[0mparameterFaceField\u001B[0m\u001B[0;34m)\u001B[0m\u001B[0;34m:\u001B[0m\u001B[0;34m\u001B[0m\u001B[0;34m\u001B[0m\u001B[0m\n\u001B[0;32m--> 189\u001B[0;31m             \u001B[0mprimitiveFieldX\u001B[0m \u001B[0;34m*=\u001B[0m \u001B[0mother\u001B[0m\u001B[0;34m.\u001B[0m\u001B[0m_internalEntries_EW\u001B[0m\u001B[0;34m\u001B[0m\u001B[0;34m\u001B[0m\u001B[0m\n\u001B[0m\u001B[1;32m    190\u001B[0m             \u001B[0mprimitiveFieldY\u001B[0m \u001B[0;34m*=\u001B[0m \u001B[0mother\u001B[0m\u001B[0;34m.\u001B[0m\u001B[0m_internalEntries_NS\u001B[0m\u001B[0;34m\u001B[0m\u001B[0;34m\u001B[0m\u001B[0m\n\u001B[1;32m    191\u001B[0m         \u001B[0;32melif\u001B[0m \u001B[0misinstance\u001B[0m\u001B[0;34m(\u001B[0m\u001B[0mother\u001B[0m\u001B[0;34m,\u001B[0m \u001B[0mtype\u001B[0m\u001B[0;34m(\u001B[0m\u001B[0;36m1.0\u001B[0m\u001B[0;34m)\u001B[0m\u001B[0;34m)\u001B[0m\u001B[0;34m:\u001B[0m\u001B[0;34m\u001B[0m\u001B[0;34m\u001B[0m\u001B[0m\n",
      "\u001B[0;31mValueError\u001B[0m: operands could not be broadcast together with shapes (10,47) (10,49) (10,47) "
     ]
    }
   ],
   "source": [
    "# changing boundary conditions\n",
    "myFields = sim1.getFields()\n",
    "T = myFields['T']\n",
    "T.setBoundaryCondition('top', 'zeroGradient')\n",
    "T.setBoundaryCondition('bottom', 'zeroGradient')\n",
    "T.setBoundaryCondition('left', T_l)\n",
    "T.setBoundaryCondition('right', T_r)\n",
    "\n",
    "# setting conductivity and heat source:\n",
    "#myFields['k'] = k\n",
    "R = myFields['R']\n",
    "R._raw[:,:] = S\n",
    "\n",
    "sim1.showfields()\n",
    "\n",
    "sim1.compile()\n",
    "\n",
    "T.solve()"
   ],
   "metadata": {
    "collapsed": false,
    "pycharm": {
     "name": "#%%\n"
    }
   }
  },
  {
   "cell_type": "code",
   "execution_count": null,
   "outputs": [],
   "source": [
    "# post-processing:\n",
    "import numpy as np\n",
    "import matplotlib.pyplot as plt\n",
    "\n",
    "sim1.display(T)\n",
    "\n",
    "nbcellsX = sim1._mesh._cells_x\n",
    "cellSpacing = sim1._mesh._uniformSpacing\n",
    "L = geom._lenX\n",
    "\n",
    "xSim = np.linspace(0+0.5*cellSpacing,LenX-0.5*cellSpacing,nbcellsX)\n",
    "ySim = T._raw[0,:]\n",
    "\n",
    "xTheo = np.linspace(0,LenX, 100)\n",
    "yTheor = np.array([yFunc(x) for x in xTheo])\n",
    "\n",
    "ax = plt.gca()\n",
    "ax.plot(xSim, ySim, 'x', label='simulation')\n",
    "ax.plot(xTheo, yTheor, label='theoretical')\n",
    "\n",
    "plt.legend()\n",
    "plt.show()\n",
    "\n",
    "print(ySim)"
   ],
   "metadata": {
    "collapsed": false,
    "pycharm": {
     "name": "#%%\n"
    }
   }
  }
 ],
 "metadata": {
  "kernelspec": {
   "name": "pycharm-7f717e5c",
   "language": "python",
   "display_name": "PyCharm (pythonPlayground)"
  },
  "language_info": {
   "codemirror_mode": {
    "name": "ipython",
    "version": 2
   },
   "file_extension": ".py",
   "mimetype": "text/x-python",
   "name": "python",
   "nbconvert_exporter": "python",
   "pygments_lexer": "ipython2",
   "version": "2.7.6"
  }
 },
 "nbformat": 4,
 "nbformat_minor": 0
}