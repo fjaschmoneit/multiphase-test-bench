{
 "cells": [
  {
   "cell_type": "code",
   "execution_count": 554,
   "metadata": {
    "collapsed": true
   },
   "outputs": [
    {
     "name": "stdout",
     "output_type": "stream",
     "text": [
      "The autoreload extension is already loaded. To reload it, use:\n",
      "  %reload_ext autoreload\n"
     ]
    }
   ],
   "source": [
    "%reset -f\n",
    "%load_ext autoreload\n",
    "%autoreload 2\n",
    "\n",
    "import Odin as backend"
   ]
  },
  {
   "cell_type": "code",
   "execution_count": 555,
   "outputs": [
    {
     "name": "stdout",
     "output_type": "stream",
     "text": [
      "ScalarConvectionDiffusion:\n",
      "\t {'diffusionCoefficient': 1.49e-09, 'scalarFieldName': 'T', 'velocityFieldName': 'U'}\n"
     ]
    }
   ],
   "source": [
    "geom = backend.createGeometry( 'rectangle', [0.5, 0.3] )\n",
    "mesh = backend.createMesh( geom, res=100 )\n",
    "\n",
    "# example: incompressible flow but with temp-dep density, i.e. BoussinesqFlow\n",
    "# mulitphase stokes flow\n",
    "myFlowModels = {\n",
    "    #'flowField'     :   backend.FlowModels.IncompressibleFlow(),\n",
    "    #'soluteTransport':  backend.FlowModels.ScalarConvectionDiffusion(),\n",
    "    'temperature'   :   backend.FlowModels.ScalarConvectionDiffusion(scalarFieldName='T', velocityFieldName='U', diffusionCoefficientName='k')\n",
    "    }\n",
    "\n",
    "# I should be able to see basic properties, but only after initializing\n",
    "# the simulations instance, the properties will also show default information\n",
    "# for every boundary etc\n",
    "myFlowModels['temperature'].showContinuumProperties()\n",
    "\n",
    "# setting a simulation template\n",
    "sim1 = backend.Simulation(myFlowModels, mesh, geom )\n",
    "#print(type(sim1._variableFields['U']).__name__) # i can use this to remove the member variable _type"
   ],
   "metadata": {
    "collapsed": false,
    "pycharm": {
     "name": "#%%\n"
    }
   }
  },
  {
   "cell_type": "code",
   "execution_count": 556,
   "outputs": [
    {
     "name": "stdout",
     "output_type": "stream",
     "text": [
      "variable fields :\n",
      "\t T \t variableCellField \t {'left': 'zeroGradient', 'right': 'zeroGradient', 'top': 100, 'bottom': 50}\n",
      "parameter fields :\n",
      "\t U \t parameterFaceField\n",
      "\t k \t scalar\n",
      "\n",
      "\n"
     ]
    },
    {
     "data": {
      "text/plain": "<Figure size 432x288 with 2 Axes>",
      "image/png": "[encoded data removed]"
     },
     "metadata": {
      "needs_background": "light"
     },
     "output_type": "display_data"
    },
    {
     "name": "stdout",
     "output_type": "stream",
     "text": [
      "executing\n"
     ]
    }
   ],
   "source": [
    "# changing boundary conditions\n",
    "myFields = sim1.getFields()\n",
    "T = myFields['T']\n",
    "T.setBoundaryCondition('top', 100)\n",
    "T.setBoundaryCondition('bottom', 50)\n",
    "T.setBoundaryCondition('left', 'zeroGradient')\n",
    "T.setBoundaryCondition('right', 'zeroGradient')\n",
    "\n",
    "sim1.showfields()\n",
    "\n",
    "# all fields and equation systems should be generated here\n",
    "sim1.compile()\n",
    "\n",
    "T.solve()\n",
    "\n",
    "sim1.display(T)\n",
    "\n",
    "\n",
    "executionParameters = {\n",
    "    'startTime':0,\n",
    "    'convergenceCriterium':9\n",
    "}\n",
    "\n",
    "# this should be generated by simulation instance\n",
    "solutionAlgorithm = {\n",
    "    'e.g. SIMPLE':1\n",
    "}\n",
    "\n",
    "sim1.execute()\n",
    "\n",
    "\n",
    "\n",
    "\n",
    "modules = {\n",
    "    'mesh' : None,\n",
    "    'fields' : {},\n",
    "    'flowModels' : {}\n",
    "}\n",
    "\n",
    "modules['mesh'] = {\n",
    "    'type' : '2DCartesian',\n",
    "    'length_x' : 0.5,\n",
    "    'length_y' : 0.3,\n",
    "    'resolution' : 100\n",
    "}\n",
    "\n",
    "# everything is a field\n",
    "# availibe fields: vectorfield, scalarField (both as variable or parameter fields), const,\n",
    "# adding fields:\n",
    "modules['fields']['T'] = {\n",
    "    'type' : 'scalarField', # if this a cell of a face fields (or a vertex field) should be decided low level\n",
    "    'modifier' : 'iterative', # call it 'dependent' or 'algebraic dependent'?\n",
    "    'initialValue' : 0\n",
    "}\n",
    "\n",
    "modules['fields']['C'] = {\n",
    "    'type' : 'scalarField',\n",
    "    'modifier' : 'iterative',\n",
    "    'initialValue' : 0.1\n",
    "}\n",
    "\n",
    "modules['fields']['rho'] = {\n",
    "    'type' : 'scalarField',\n",
    "    'modifier' : 'algebraic',\n",
    "    'initialValue' : 1\n",
    "}\n",
    "\n",
    "modules['fields']['diffusionCoeff_T'] = {\n",
    "    'type' : 'constant',\n",
    "    'initialValue' : 10\n",
    "}\n",
    "\n",
    "# defining partial diffential equaitons on some flields\n",
    "modules['flowModels']['T'] = {\n",
    "    'type' : 'scalarDiffusion'  # this should be a PDE\n",
    "    \n",
    "}\n",
    "\n",
    "modules['flowModels']['C'] = {\n",
    "    'type' : 'scalarDiffusion'  # this should be a PDE\n",
    "}"
   ],
   "metadata": {
    "collapsed": false,
    "pycharm": {
     "name": "#%%\n"
    }
   }
  },
  {
   "cell_type": "code",
   "execution_count": 557,
   "outputs": [],
   "source": [
    "#sim = myCFD.simulation(modules)\n",
    "\n",
    "#sim.solve('T')\n",
    "#sim.solve('C')\n",
    "\n",
    "#sim.display('C')\n",
    "#sim.execute()\n",
    "\n"
   ],
   "metadata": {
    "collapsed": false,
    "pycharm": {
     "name": "#%%\n"
    }
   }
  },
  {
   "cell_type": "code",
   "execution_count": 557,
   "outputs": [],
   "source": [],
   "metadata": {
    "collapsed": false,
    "pycharm": {
     "name": "#%%\n"
    }
   }
  }
 ],
 "metadata": {
  "kernelspec": {
   "display_name": "Python 3",
   "language": "python",
   "name": "python3"
  },
  "language_info": {
   "codemirror_mode": {
    "name": "ipython",
    "version": 2
   },
   "file_extension": ".py",
   "mimetype": "text/x-python",
   "name": "python",
   "nbconvert_exporter": "python",
   "pygments_lexer": "ipython2",
   "version": "2.7.6"
  }
 },
 "nbformat": 4,
 "nbformat_minor": 0
}