{
 "cells": [
  {
   "cell_type": "code",
   "execution_count": 1335,
   "metadata": {
    "collapsed": true
   },
   "outputs": [
    {
     "name": "stdout",
     "output_type": "stream",
     "text": [
      "The autoreload extension is already loaded. To reload it, use:\n",
      "  %reload_ext autoreload\n"
     ]
    }
   ],
   "source": [
    "%reset -f\n",
    "%load_ext autoreload\n",
    "%autoreload 2\n",
    "\n",
    "import Odin as backend"
   ]
  },
  {
   "cell_type": "code",
   "execution_count": 1336,
   "outputs": [],
   "source": [
    "# validation test for scalar diffusion with a constant source term\n",
    "# this validation test follows \"H K Versteeg and W Malalasekera, An Introduction to Computational Fluid Dynamics\n",
    "# THE FINITE VOLUME METHOD, Second Edition, 2007\" examples 4.1,4.2\n",
    "\n",
    "# the temperature along the x-axis should develop as:\n",
    "\n",
    "def yFunc(x):\n",
    "    return ((T_r-T_l)/LenX + S/(2*k)*(LenX-x))*x + T_l\n",
    "\n",
    "# geometric parameters\n",
    "LenX = 0.02\n",
    "LenY = 0.004\n",
    "\n",
    "# thermal conductivity [ W / (m K) ]\n",
    "k = 0.5\n",
    "\n",
    "# heat source [ W / m^3 ]\n",
    "S = 0\n",
    "\n",
    "# const temperature at left/right boundaries [K]\n",
    "T_l = 100\n",
    "T_r = 500"
   ],
   "metadata": {
    "collapsed": false,
    "pycharm": {
     "name": "#%%\n"
    }
   }
  },
  {
   "cell_type": "code",
   "execution_count": 1337,
   "outputs": [
    {
     "name": "stdout",
     "output_type": "stream",
     "text": [
      "5\n",
      "ScalarConvectionDiffusion:\n",
      "\t {'diffusionCoefficient': 1, 'sourceFieldName': 'R', 'scalarFieldName': 'T', 'velocityFieldName': 'U'}\n"
     ]
    }
   ],
   "source": [
    "geom = backend.createGeometry( 'rectangle', [LenX, LenY] )\n",
    "mesh = backend.createMesh( geom, res=250 )\n",
    "mesh.getStats()\n",
    "\n",
    "# example: incompressible flow but with temp-dep density, i.e. BoussinesqFlow\n",
    "# mulitphase stokes flow\n",
    "myFlowModels = {\n",
    "    #'flowField'     :   backend.FlowModels.IncompressibleFlow(),\n",
    "    #'soluteTransport':  backend.FlowModels.ScalarConvectionDiffusion(),\n",
    "    'temperature'   :   backend.FlowModels.ScalarConvectionDiffusion(scalarFieldName='T', velocityFieldName='U', diffusionCoefficientName='k', sourceFieldName='R')\n",
    "    }\n",
    "\n",
    "myFlowModels['temperature'].showContinuumProperties()\n",
    "\n",
    "sim1 = backend.Simulation(myFlowModels, mesh, geom )\n",
    "#print(type(sim1._variableFields['U']).__name__) # i can use this to remove the member variable _type"
   ],
   "metadata": {
    "collapsed": false,
    "pycharm": {
     "name": "#%%\n"
    }
   }
  },
  {
   "cell_type": "code",
   "execution_count": null,
   "outputs": [
    {
     "name": "stdout",
     "output_type": "stream",
     "text": [
      "variable fields :\n",
      "\t T \t variableCellField \t {'left': 100, 'right': 500, 'top': 'zeroGradient', 'bottom': 'zeroGradient'}\n",
      "parameter fields :\n",
      "\t U \t parameterFaceField\n",
      "\t R \t parameterCellField\n",
      "\t k \t scalar\n",
      "\n",
      "\n"
     ]
    }
   ],
   "source": [
    "# changing boundary conditions\n",
    "myFields = sim1.getFields()\n",
    "T = myFields['T']\n",
    "T.setBoundaryCondition('top', 'zeroGradient')\n",
    "T.setBoundaryCondition('bottom', 'zeroGradient')\n",
    "T.setBoundaryCondition('left', T_l)\n",
    "T.setBoundaryCondition('right', T_r)\n",
    "\n",
    "# setting conductivity and heat source:\n",
    "myFields['k'] = k\n",
    "R = myFields['R']\n",
    "R._raw[:,:] = S\n",
    "\n",
    "sim1.showfields()\n",
    "\n",
    "sim1.compile()\n",
    "\n",
    "T.solve()"
   ],
   "metadata": {
    "collapsed": false,
    "pycharm": {
     "name": "#%%\n",
     "is_executing": true
    }
   }
  },
  {
   "cell_type": "code",
   "execution_count": 1339,
   "outputs": [
    {
     "data": {
      "text/plain": "<Figure size 432x288 with 2 Axes>",
      "image/png": "[encoded data removed]"
     },
     "metadata": {
      "needs_background": "light"
     },
     "output_type": "display_data"
    },
    {
     "data": {
      "text/plain": "<Figure size 432x288 with 1 Axes>",
      "image/png": "[encoded data removed]"
     },
     "metadata": {
      "needs_background": "light"
     },
     "output_type": "display_data"
    },
    {
     "name": "stdout",
     "output_type": "stream",
     "text": [
      "[140. 220. 300. 380. 460.]\n"
     ]
    }
   ],
   "source": [
    "# post-processing:\n",
    "import numpy as np\n",
    "import matplotlib.pyplot as plt\n",
    "\n",
    "sim1.display(T)\n",
    "\n",
    "nbcellsX = sim1._mesh._cells_x\n",
    "cellSpacing = sim1._mesh._uniformSpacing\n",
    "L = geom._lenX\n",
    "\n",
    "xSim = np.linspace(0+0.5*cellSpacing,0.02-0.5*cellSpacing,nbcellsX)\n",
    "ySim = T._raw[0,:]\n",
    "\n",
    "xTheo = np.linspace(0,LenX, 100)\n",
    "yTheor = np.array([yFunc(x) for x in xTheo])\n",
    "\n",
    "ax = plt.gca()\n",
    "ax.plot(xSim, ySim, 'x', label='simulation')\n",
    "ax.plot(xTheo, yTheor, label='theoretical')\n",
    "\n",
    "plt.legend()\n",
    "plt.show()\n",
    "\n",
    "print(ySim)"
   ],
   "metadata": {
    "collapsed": false,
    "pycharm": {
     "name": "#%%\n"
    }
   }
  }
 ],
 "metadata": {
  "kernelspec": {
   "display_name": "Python 3",
   "language": "python",
   "name": "python3"
  },
  "language_info": {
   "codemirror_mode": {
    "name": "ipython",
    "version": 2
   },
   "file_extension": ".py",
   "mimetype": "text/x-python",
   "name": "python",
   "nbconvert_exporter": "python",
   "pygments_lexer": "ipython2",
   "version": "2.7.6"
  }
 },
 "nbformat": 4,
 "nbformat_minor": 0
}