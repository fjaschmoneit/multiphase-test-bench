{
 "cells": [
  {
   "cell_type": "code",
   "execution_count": 63,
   "metadata": {
    "collapsed": true
   },
   "outputs": [
    {
     "name": "stdout",
     "output_type": "stream",
     "text": [
      "The autoreload extension is already loaded. To reload it, use:\n",
      "  %reload_ext autoreload\n"
     ]
    }
   ],
   "source": [
    "%load_ext autoreload\n",
    "%autoreload 2\n",
    "\n",
    "import MyExperimentalCFDFramework as myCFD\n"
   ]
  },
  {
   "cell_type": "code",
   "execution_count": 64,
   "outputs": [],
   "source": [
    "# I should have a parameter handling class\n",
    "\n",
    "simulationParameters = {\n",
    "    'mesh' : None,\n",
    "    'fields' : {},\n",
    "    'partialDifferencialEquaitons' : {}\n",
    "}\n",
    "\n",
    "simulationParameters['mesh'] = {\n",
    "    'type' : '2DCartesian',\n",
    "    'length_x' : 0.5,\n",
    "    'length_y' : 0.3,\n",
    "    'resolution' : 100\n",
    "}\n",
    "\n",
    "# everything is a field\n",
    "# availibe fields: vectorfield, scalarField (both as variable or parameter fields), const,\n",
    "# adding fields:\n",
    "simulationParameters['fields']['T'] = {\n",
    "    'type' : 'scalarField', # if this a cell of a face fields (or a vertex field) should be decided low level\n",
    "    'modifier' : 'iterative', # call it 'dependent' or 'algebraic dependent'?\n",
    "    'initialValue' : 0\n",
    "}\n",
    "\n",
    "simulationParameters['fields']['C'] = {\n",
    "    'type' : 'scalarField',\n",
    "    'modifier' : 'iterative',\n",
    "    'initialValue' : 0.1\n",
    "}\n",
    "\n",
    "simulationParameters['fields']['rho'] = {\n",
    "    'type' : 'scalarField',\n",
    "    'modifier' : 'algebraic',\n",
    "    'initialValue' : 1\n",
    "}\n",
    "\n",
    "simulationParameters['fields']['diffusionCoeff_T'] = {\n",
    "    'type' : 'constant',\n",
    "    'initialValue' : 10\n",
    "}\n",
    "\n",
    "# defining partial diffential equaitons on some flields\n",
    "simulationParameters['partialDifferencialEquaitons']['T'] = {\n",
    "    'type' : 'scalarDiffusion'  # this should be a PDE\n",
    "}\n",
    "\n",
    "simulationParameters['partialDifferencialEquaitons']['C'] = {\n",
    "    'type' : 'scalarDiffusion'  # this should be a PDE\n",
    "}"
   ],
   "metadata": {
    "collapsed": false,
    "pycharm": {
     "name": "#%%\n"
    }
   }
  },
  {
   "cell_type": "code",
   "execution_count": 65,
   "outputs": [
    {
     "data": {
      "text/plain": "<Figure size 432x288 with 2 Axes>",
      "image/png": "[encoded data removed]"
     },
     "metadata": {
      "needs_background": "light"
     },
     "output_type": "display_data"
    }
   ],
   "source": [
    "sim = myCFD.simulation(simulationParameters)\n",
    "\n",
    "sim.solve('T')\n",
    "sim.solve('C')\n",
    "\n",
    "sim.display('C')\n",
    "#sim.execute()\n",
    "\n"
   ],
   "metadata": {
    "collapsed": false,
    "pycharm": {
     "name": "#%%\n"
    }
   }
  },
  {
   "cell_type": "code",
   "execution_count": 65,
   "outputs": [],
   "source": [],
   "metadata": {
    "collapsed": false,
    "pycharm": {
     "name": "#%%\n"
    }
   }
  }
 ],
 "metadata": {
  "kernelspec": {
   "display_name": "Python 3",
   "language": "python",
   "name": "python3"
  },
  "language_info": {
   "codemirror_mode": {
    "name": "ipython",
    "version": 2
   },
   "file_extension": ".py",
   "mimetype": "text/x-python",
   "name": "python",
   "nbconvert_exporter": "python",
   "pygments_lexer": "ipython2",
   "version": "2.7.6"
  }
 },
 "nbformat": 4,
 "nbformat_minor": 0
}