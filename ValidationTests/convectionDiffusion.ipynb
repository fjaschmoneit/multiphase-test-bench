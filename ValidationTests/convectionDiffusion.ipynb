{
 "cells": [
  {
   "cell_type": "markdown",
   "metadata": {
    "collapsed": true,
    "pycharm": {
     "name": "#%% md\n"
    }
   },
   "source": [
    "# Convection-Diffusion\n",
    "\n",
    "A fundamental test for the correct implementation of diffusive and\n",
    "convective transport of a scalar quantity.\n",
    "This validation test follows \"H K Versteeg and W Malalasekera, An Introduction to Computational Fluid Dynamics\n",
    "THE FINITE VOLUME METHOD, Second Edition, 2007\" examples 5.1\n",
    "\n"
   ]
  },
  {
   "cell_type": "code",
   "execution_count": 7,
   "outputs": [
    {
     "name": "stdout",
     "output_type": "stream",
     "text": [
      "The autoreload extension is already loaded. To reload it, use:\n",
      "  %reload_ext autoreload\n"
     ]
    },
    {
     "ename": "IndexError",
     "evalue": "too many indices for array: array is 1-dimensional, but 2 were indexed",
     "output_type": "error",
     "traceback": [
      "\u001B[0;31m---------------------------------------------------------------------------\u001B[0m",
      "\u001B[0;31mIndexError\u001B[0m                                Traceback (most recent call last)",
      "\u001B[0;32m<ipython-input-7-b2ee62ebb87c>\u001B[0m in \u001B[0;36m<module>\u001B[0;34m\u001B[0m\n\u001B[1;32m     62\u001B[0m \u001B[0;31m#mptb.updateSource(field=T, value=0.0, mesh=mesh )\u001B[0m\u001B[0;34m\u001B[0m\u001B[0;34m\u001B[0m\u001B[0;34m\u001B[0m\u001B[0m\n\u001B[1;32m     63\u001B[0m \u001B[0;34m\u001B[0m\u001B[0m\n\u001B[0;32m---> 64\u001B[0;31m \u001B[0mT\u001B[0m\u001B[0;34m.\u001B[0m\u001B[0mdata\u001B[0m \u001B[0;34m=\u001B[0m \u001B[0mmptb\u001B[0m\u001B[0;34m.\u001B[0m\u001B[0msolve\u001B[0m\u001B[0;34m(\u001B[0m\u001B[0mT\u001B[0m\u001B[0;34m)\u001B[0m\u001B[0;34m\u001B[0m\u001B[0;34m\u001B[0m\u001B[0m\n\u001B[0m\u001B[1;32m     65\u001B[0m \u001B[0;34m\u001B[0m\u001B[0m\n",
      "\u001B[0;32m~/odin/pythonPlayground/src/MultiphaseTestBench/Manager.py\u001B[0m in \u001B[0;36msolve\u001B[0;34m(field)\u001B[0m\n\u001B[1;32m    160\u001B[0m     \"\"\"\n\u001B[1;32m    161\u001B[0m \u001B[0;31m#    field.govModel.updateBoundaries()\u001B[0m\u001B[0;34m\u001B[0m\u001B[0;34m\u001B[0m\u001B[0;34m\u001B[0m\u001B[0m\n\u001B[0;32m--> 162\u001B[0;31m     \u001B[0mfield\u001B[0m\u001B[0;34m.\u001B[0m\u001B[0mgovModel\u001B[0m\u001B[0;34m.\u001B[0m\u001B[0mupdateFluxes\u001B[0m\u001B[0;34m(\u001B[0m\u001B[0;34m)\u001B[0m\u001B[0;34m\u001B[0m\u001B[0;34m\u001B[0m\u001B[0m\n\u001B[0m\u001B[1;32m    163\u001B[0m     \u001B[0mfield\u001B[0m\u001B[0;34m.\u001B[0m\u001B[0mgovModel\u001B[0m\u001B[0;34m.\u001B[0m\u001B[0mupdateSourceField\u001B[0m\u001B[0;34m(\u001B[0m\u001B[0;34m)\u001B[0m\u001B[0;34m\u001B[0m\u001B[0;34m\u001B[0m\u001B[0m\n\u001B[1;32m    164\u001B[0m     \u001B[0;31m#field.govModel.updateLinSystem()\u001B[0m\u001B[0;34m\u001B[0m\u001B[0;34m\u001B[0m\u001B[0;34m\u001B[0m\u001B[0m\n",
      "\u001B[0;32m~/odin/pythonPlayground/src/MultiphaseTestBench/TransportModels_dev/TransportModels.py\u001B[0m in \u001B[0;36mupdateFluxes\u001B[0;34m(self)\u001B[0m\n\u001B[1;32m    114\u001B[0m         \u001B[0mself\u001B[0m\u001B[0;34m.\u001B[0m\u001B[0mlinSystem\u001B[0m\u001B[0;34m.\u001B[0m\u001B[0ma_p\u001B[0m \u001B[0;34m+=\u001B[0m \u001B[0mD_v\u001B[0m\u001B[0;34m[\u001B[0m\u001B[0msouth\u001B[0m\u001B[0;34m]\u001B[0m\u001B[0;34m\u001B[0m\u001B[0;34m\u001B[0m\u001B[0m\n\u001B[1;32m    115\u001B[0m \u001B[0;34m\u001B[0m\u001B[0m\n\u001B[0;32m--> 116\u001B[0;31m         \u001B[0mself\u001B[0m\u001B[0;34m.\u001B[0m\u001B[0mcorrectBCs\u001B[0m\u001B[0;34m(\u001B[0m\u001B[0;34m)\u001B[0m\u001B[0;34m\u001B[0m\u001B[0;34m\u001B[0m\u001B[0m\n\u001B[0m\u001B[1;32m    117\u001B[0m \u001B[0;34m\u001B[0m\u001B[0m\n\u001B[1;32m    118\u001B[0m \u001B[0;34m\u001B[0m\u001B[0m\n",
      "\u001B[0;32m~/odin/pythonPlayground/src/MultiphaseTestBench/TransportModels_dev/TransportModels.py\u001B[0m in \u001B[0;36mcorrectBCs\u001B[0;34m(self)\u001B[0m\n\u001B[1;32m     34\u001B[0m         \u001B[0;32mfor\u001B[0m \u001B[0margDict\u001B[0m \u001B[0;32min\u001B[0m \u001B[0mself\u001B[0m\u001B[0;34m.\u001B[0m\u001B[0mboundary\u001B[0m\u001B[0;34m.\u001B[0m\u001B[0mvalues\u001B[0m\u001B[0;34m(\u001B[0m\u001B[0;34m)\u001B[0m\u001B[0;34m:\u001B[0m\u001B[0;34m\u001B[0m\u001B[0;34m\u001B[0m\u001B[0m\n\u001B[1;32m     35\u001B[0m             \u001B[0mbcType\u001B[0m \u001B[0;34m=\u001B[0m \u001B[0margDict\u001B[0m\u001B[0;34m[\u001B[0m\u001B[0;34m'type'\u001B[0m\u001B[0;34m]\u001B[0m\u001B[0;34m\u001B[0m\u001B[0;34m\u001B[0m\u001B[0m\n\u001B[0;32m---> 36\u001B[0;31m             \u001B[0mself\u001B[0m\u001B[0;34m.\u001B[0m\u001B[0mboundaryModels\u001B[0m\u001B[0;34m[\u001B[0m\u001B[0mbcType\u001B[0m\u001B[0;34m]\u001B[0m\u001B[0;34m(\u001B[0m\u001B[0mself\u001B[0m\u001B[0;34m,\u001B[0m \u001B[0;34m**\u001B[0m\u001B[0margDict\u001B[0m\u001B[0;34m)\u001B[0m\u001B[0;34m\u001B[0m\u001B[0;34m\u001B[0m\u001B[0m\n\u001B[0m\u001B[1;32m     37\u001B[0m \u001B[0;31m#            self.boundaryModels[bcType](self.depField.data, **argDict)\u001B[0m\u001B[0;34m\u001B[0m\u001B[0;34m\u001B[0m\u001B[0;34m\u001B[0m\u001B[0m\n\u001B[1;32m     38\u001B[0m \u001B[0;34m\u001B[0m\u001B[0m\n",
      "\u001B[0;32m~/odin/pythonPlayground/src/MultiphaseTestBench/BoundaryConditions.py\u001B[0m in \u001B[0;36mderichlet\u001B[0;34m(transportInstance, **argDict)\u001B[0m\n\u001B[1;32m     26\u001B[0m         \u001B[0;31m#a_dir[boundary_dir] = 0\u001B[0m\u001B[0;34m\u001B[0m\u001B[0;34m\u001B[0m\u001B[0;34m\u001B[0m\u001B[0m\n\u001B[1;32m     27\u001B[0m         \u001B[0mtransportInstance\u001B[0m\u001B[0;34m.\u001B[0m\u001B[0mlinSystem\u001B[0m\u001B[0;34m.\u001B[0m\u001B[0ma_p\u001B[0m\u001B[0;34m[\u001B[0m\u001B[0mboundary_dir\u001B[0m\u001B[0;34m]\u001B[0m \u001B[0;34m+=\u001B[0m \u001B[0;36m8.0\u001B[0m\u001B[0;34m*\u001B[0m\u001B[0mb\u001B[0m\u001B[0;34m\u001B[0m\u001B[0;34m\u001B[0m\u001B[0m\n\u001B[0;32m---> 28\u001B[0;31m         \u001B[0ma_opp_dir\u001B[0m\u001B[0;34m[\u001B[0m\u001B[0mboundary_dir\u001B[0m\u001B[0;34m]\u001B[0m \u001B[0;34m+=\u001B[0m \u001B[0mb\u001B[0m\u001B[0;34m\u001B[0m\u001B[0;34m\u001B[0m\u001B[0m\n\u001B[0m\u001B[1;32m     29\u001B[0m         \u001B[0mtransportInstance\u001B[0m\u001B[0;34m.\u001B[0m\u001B[0mlinSystem\u001B[0m\u001B[0;34m.\u001B[0m\u001B[0mb\u001B[0m\u001B[0;34m[\u001B[0m\u001B[0mboundary_dir\u001B[0m\u001B[0;34m]\u001B[0m \u001B[0;34m+=\u001B[0m \u001B[0;36m8.0\u001B[0m\u001B[0;34m*\u001B[0m\u001B[0mb\u001B[0m\u001B[0;34m*\u001B[0m\u001B[0mvalue\u001B[0m \u001B[0;34m+\u001B[0m \u001B[0mtransportInstance\u001B[0m\u001B[0;34m.\u001B[0m\u001B[0mu\u001B[0m\u001B[0;34m.\u001B[0m\u001B[0mdata\u001B[0m\u001B[0;34m[\u001B[0m\u001B[0mboundary_dir\u001B[0m\u001B[0;34m]\u001B[0m\u001B[0;34m\u001B[0m\u001B[0;34m\u001B[0m\u001B[0m\n\u001B[1;32m     30\u001B[0m \u001B[0;34m\u001B[0m\u001B[0m\n",
      "\u001B[0;31mIndexError\u001B[0m: too many indices for array: array is 1-dimensional, but 2 were indexed"
     ]
    }
   ],
   "source": [
    "%reset -f\n",
    "%load_ext autoreload\n",
    "%autoreload 2\n",
    "\n",
    "import sys\n",
    "sys.path.append('../src/MultiphaseTestBench')\n",
    "import Manager as mptb\n",
    "\n",
    "\n",
    "# the temperature along the x-axis should develop as:\n",
    "def yFunc(x, case):\n",
    "    if case == 1:\n",
    "        return (2.7183-np.exp(x))/1.7183\n",
    "    else:\n",
    "        return 1+(1-np.exp(25*x))/(7.2e10)\n",
    "\n",
    "case = 1   # 1,2,3\n",
    "\n",
    "# geometric parameters\n",
    "LenX = 1\n",
    "LenY = 0.3\n",
    "resolution = 20 if case == 3 else 5\n",
    "\n",
    "#velocity in x direction: [ m/s ]\n",
    "velX = 0.1 if case == 1 else 2.5\n",
    "\n",
    "# thermal conductivity [ W / (m K) ]\n",
    "k = 0.1\n",
    "\n",
    "# const temperature at left/right boundaries [K]\n",
    "T_l = 1\n",
    "T_r = 0\n",
    "\n",
    "geom = mptb.createGeometry( 'rectangle', [LenX, LenY] )\n",
    "mesh = mptb.createMesh( geom, res=resolution )\n",
    "\n",
    "# example: incompressible flow but with temp-dep density, i.e. BoussinesqFlow\n",
    "# mulitphase stokes flow\n",
    "myFlowModels = {\n",
    "    'T' : mptb.TransportModels.scalarTransport\n",
    "}\n",
    "\n",
    "passiveFields = {\n",
    "    'u' : 'faces_u',\n",
    "    'v' : 'faces_v'\n",
    "}\n",
    "\n",
    "mptb.initialize(myFlowModels, mesh, geom, passiveFields=passiveFields )\n",
    "\n",
    "T = mptb.getField('T')\n",
    "T.govModel.setDiffusionCoefficient(value=k)\n",
    "\n",
    "u = mptb.getField('u')\n",
    "u.fill(velX)\n",
    "\n",
    "# changing boundary conditions\n",
    "mptb.defineBoundaryCondition(field=T, boundaryName='top', type='zeroGradient')\n",
    "mptb.defineBoundaryCondition(field=T, boundaryName='bottom', type='zeroGradient')\n",
    "mptb.defineBoundaryCondition(field=T, boundaryName='left', type='fixedValue', value=T_l )\n",
    "mptb.defineBoundaryCondition(field=T, boundaryName='right', type='fixedValue', value=T_r )\n",
    "\n",
    "#mptb.updateSource(field=T, value=0.0, mesh=mesh )\n",
    "\n",
    "T.data = mptb.solve(T)"
   ],
   "metadata": {
    "collapsed": false,
    "pycharm": {
     "name": "#%%\n"
    }
   }
  },
  {
   "cell_type": "code",
   "execution_count": null,
   "outputs": [],
   "source": [
    "# post-processing:\n",
    "import numpy as np\n",
    "import matplotlib.pyplot as plt\n",
    "\n",
    "mptb.display(T, mesh)\n",
    "\n",
    "nbcellsX = mesh.cells_x\n",
    "cellSpacing = mesh.uniformSpacing\n",
    "L = geom.lenX\n",
    "\n",
    "xSim = np.linspace(0+0.5*cellSpacing,LenX-0.5*cellSpacing,nbcellsX)\n",
    "ySim = T.data[0,:]\n",
    "\n",
    "xTheo = np.linspace(0,LenX, 100)\n",
    "yTheor = np.array([yFunc(x, case) for x in xTheo])\n",
    "\n",
    "ax = plt.gca()\n",
    "ax.plot(xSim, ySim, 'x', label='simulation')\n",
    "ax.plot(xTheo, yTheor, label='theoretical')\n",
    "\n",
    "plt.legend()\n",
    "plt.show()\n",
    "\n",
    "print(ySim)"
   ],
   "metadata": {
    "collapsed": false,
    "pycharm": {
     "name": "#%%\n"
    }
   }
  },
  {
   "cell_type": "code",
   "execution_count": null,
   "outputs": [],
   "source": [
    "# shutting the interpreter down, so I can a fresh instance next time.\n",
    "# my modules are automatically checked for updates\n",
    "import os\n",
    "os._exit(00)"
   ],
   "metadata": {
    "collapsed": false,
    "pycharm": {
     "name": "#%%\n"
    }
   }
  },
  {
   "cell_type": "code",
   "execution_count": null,
   "outputs": [],
   "source": [],
   "metadata": {
    "collapsed": false,
    "pycharm": {
     "name": "#%%\n"
    }
   }
  }
 ],
 "metadata": {
  "kernelspec": {
   "name": "pycharm-7f717e5c",
   "language": "python",
   "display_name": "PyCharm (pythonPlayground)"
  },
  "language_info": {
   "codemirror_mode": {
    "name": "ipython",
    "version": 2
   },
   "file_extension": ".py",
   "mimetype": "text/x-python",
   "name": "python",
   "nbconvert_exporter": "python",
   "pygments_lexer": "ipython2",
   "version": "2.7.6"
  }
 },
 "nbformat": 4,
 "nbformat_minor": 0
}