{
 "cells": [
  {
   "cell_type": "markdown",
   "source": [
    "# Heat Diffusion\n",
    "\n",
    "This validation test following \"H K Versteeg and W Malalasekera,\n",
    "An Introduction to Computational Fluid Dynamics: THE FINITE VOLUME METHOD,\n",
    "Second Edition, 2007\" examples 4.1,4.2.\n",
    "\n",
    "This test is validating the correct implementation of the diffusive transport\n",
    "across a domain.\n",
    "\n",
    "The temperature along a metal rod is given by this equation:\n",
    "\n",
    "$T(x) = \\left( \\frac{T(L) - T(0)}{L} + \\frac{S}{2k} (L-x) \\right) x$"
   ],
   "metadata": {
    "collapsed": false,
    "pycharm": {
     "name": "#%% md\n"
    }
   }
  },
  {
   "cell_type": "code",
   "execution_count": 1,
   "outputs": [
    {
     "ename": "IndexError",
     "evalue": "too many indices for array: array is 1-dimensional, but 2 were indexed",
     "output_type": "error",
     "traceback": [
      "\u001B[0;31m---------------------------------------------------------------------------\u001B[0m",
      "\u001B[0;31mIndexError\u001B[0m                                Traceback (most recent call last)",
      "\u001B[0;32m<ipython-input-1-f94ec5b916d7>\u001B[0m in \u001B[0;36m<module>\u001B[0;34m\u001B[0m\n\u001B[1;32m     57\u001B[0m \u001B[0mmptb\u001B[0m\u001B[0;34m.\u001B[0m\u001B[0msetConstSource\u001B[0m\u001B[0;34m(\u001B[0m\u001B[0mfield\u001B[0m\u001B[0;34m=\u001B[0m\u001B[0mT\u001B[0m\u001B[0;34m,\u001B[0m \u001B[0mvalue\u001B[0m\u001B[0;34m=\u001B[0m\u001B[0mheatSource\u001B[0m\u001B[0;34m,\u001B[0m \u001B[0mmesh\u001B[0m\u001B[0;34m=\u001B[0m\u001B[0mmesh\u001B[0m \u001B[0;34m)\u001B[0m\u001B[0;34m\u001B[0m\u001B[0;34m\u001B[0m\u001B[0m\n\u001B[1;32m     58\u001B[0m \u001B[0;34m\u001B[0m\u001B[0m\n\u001B[0;32m---> 59\u001B[0;31m \u001B[0mT\u001B[0m\u001B[0;34m.\u001B[0m\u001B[0mdata\u001B[0m \u001B[0;34m=\u001B[0m \u001B[0mmptb\u001B[0m\u001B[0;34m.\u001B[0m\u001B[0msolve\u001B[0m\u001B[0;34m(\u001B[0m\u001B[0mT\u001B[0m\u001B[0;34m)\u001B[0m\u001B[0;34m\u001B[0m\u001B[0;34m\u001B[0m\u001B[0m\n\u001B[0m\u001B[1;32m     60\u001B[0m \u001B[0mprint\u001B[0m\u001B[0;34m(\u001B[0m\u001B[0mT\u001B[0m\u001B[0;34m.\u001B[0m\u001B[0mdata\u001B[0m\u001B[0;34m)\u001B[0m\u001B[0;34m\u001B[0m\u001B[0;34m\u001B[0m\u001B[0m\n\u001B[1;32m     61\u001B[0m \u001B[0;34m\u001B[0m\u001B[0m\n",
      "\u001B[0;32m~/odin/pythonPlayground/src/MultiphaseTestBench/Manager.py\u001B[0m in \u001B[0;36msolve\u001B[0;34m(field)\u001B[0m\n\u001B[1;32m    160\u001B[0m     \"\"\"\n\u001B[1;32m    161\u001B[0m \u001B[0;31m#    field.govModel.updateBoundaries()\u001B[0m\u001B[0;34m\u001B[0m\u001B[0;34m\u001B[0m\u001B[0;34m\u001B[0m\u001B[0m\n\u001B[0;32m--> 162\u001B[0;31m     \u001B[0mfield\u001B[0m\u001B[0;34m.\u001B[0m\u001B[0mgovModel\u001B[0m\u001B[0;34m.\u001B[0m\u001B[0mupdateFluxes\u001B[0m\u001B[0;34m(\u001B[0m\u001B[0;34m)\u001B[0m\u001B[0;34m\u001B[0m\u001B[0;34m\u001B[0m\u001B[0m\n\u001B[0m\u001B[1;32m    163\u001B[0m     \u001B[0mfield\u001B[0m\u001B[0;34m.\u001B[0m\u001B[0mgovModel\u001B[0m\u001B[0;34m.\u001B[0m\u001B[0mupdateSourceField\u001B[0m\u001B[0;34m(\u001B[0m\u001B[0;34m)\u001B[0m\u001B[0;34m\u001B[0m\u001B[0;34m\u001B[0m\u001B[0m\n\u001B[1;32m    164\u001B[0m     \u001B[0;31m#field.govModel.updateLinSystem()\u001B[0m\u001B[0;34m\u001B[0m\u001B[0;34m\u001B[0m\u001B[0;34m\u001B[0m\u001B[0m\n",
      "\u001B[0;32m~/odin/pythonPlayground/src/MultiphaseTestBench/TransportModels_dev/TransportModels.py\u001B[0m in \u001B[0;36mupdateFluxes\u001B[0;34m(self)\u001B[0m\n\u001B[1;32m    114\u001B[0m         \u001B[0mself\u001B[0m\u001B[0;34m.\u001B[0m\u001B[0mlinSystem\u001B[0m\u001B[0;34m.\u001B[0m\u001B[0ma_p\u001B[0m \u001B[0;34m+=\u001B[0m \u001B[0mD_v\u001B[0m\u001B[0;34m[\u001B[0m\u001B[0msouth\u001B[0m\u001B[0;34m]\u001B[0m\u001B[0;34m\u001B[0m\u001B[0;34m\u001B[0m\u001B[0m\n\u001B[1;32m    115\u001B[0m \u001B[0;34m\u001B[0m\u001B[0m\n\u001B[0;32m--> 116\u001B[0;31m         \u001B[0mself\u001B[0m\u001B[0;34m.\u001B[0m\u001B[0mcorrectBCs\u001B[0m\u001B[0;34m(\u001B[0m\u001B[0;34m)\u001B[0m\u001B[0;34m\u001B[0m\u001B[0;34m\u001B[0m\u001B[0m\n\u001B[0m\u001B[1;32m    117\u001B[0m \u001B[0;34m\u001B[0m\u001B[0m\n\u001B[1;32m    118\u001B[0m \u001B[0;34m\u001B[0m\u001B[0m\n",
      "\u001B[0;32m~/odin/pythonPlayground/src/MultiphaseTestBench/TransportModels_dev/TransportModels.py\u001B[0m in \u001B[0;36mcorrectBCs\u001B[0;34m(self)\u001B[0m\n\u001B[1;32m     34\u001B[0m         \u001B[0;32mfor\u001B[0m \u001B[0margDict\u001B[0m \u001B[0;32min\u001B[0m \u001B[0mself\u001B[0m\u001B[0;34m.\u001B[0m\u001B[0mboundary\u001B[0m\u001B[0;34m.\u001B[0m\u001B[0mvalues\u001B[0m\u001B[0;34m(\u001B[0m\u001B[0;34m)\u001B[0m\u001B[0;34m:\u001B[0m\u001B[0;34m\u001B[0m\u001B[0;34m\u001B[0m\u001B[0m\n\u001B[1;32m     35\u001B[0m             \u001B[0mbcType\u001B[0m \u001B[0;34m=\u001B[0m \u001B[0margDict\u001B[0m\u001B[0;34m[\u001B[0m\u001B[0;34m'type'\u001B[0m\u001B[0;34m]\u001B[0m\u001B[0;34m\u001B[0m\u001B[0;34m\u001B[0m\u001B[0m\n\u001B[0;32m---> 36\u001B[0;31m             \u001B[0mself\u001B[0m\u001B[0;34m.\u001B[0m\u001B[0mboundaryModels\u001B[0m\u001B[0;34m[\u001B[0m\u001B[0mbcType\u001B[0m\u001B[0;34m]\u001B[0m\u001B[0;34m(\u001B[0m\u001B[0mself\u001B[0m\u001B[0;34m,\u001B[0m \u001B[0;34m**\u001B[0m\u001B[0margDict\u001B[0m\u001B[0;34m)\u001B[0m\u001B[0;34m\u001B[0m\u001B[0;34m\u001B[0m\u001B[0m\n\u001B[0m\u001B[1;32m     37\u001B[0m \u001B[0;31m#            self.boundaryModels[bcType](self.depField.data, **argDict)\u001B[0m\u001B[0;34m\u001B[0m\u001B[0;34m\u001B[0m\u001B[0;34m\u001B[0m\u001B[0m\n\u001B[1;32m     38\u001B[0m \u001B[0;34m\u001B[0m\u001B[0m\n",
      "\u001B[0;32m~/odin/pythonPlayground/src/MultiphaseTestBench/BoundaryConditions.py\u001B[0m in \u001B[0;36mderichlet\u001B[0;34m(transportInstance, **argDict)\u001B[0m\n\u001B[1;32m     25\u001B[0m         \u001B[0mb\u001B[0m \u001B[0;34m=\u001B[0m \u001B[0mD\u001B[0m\u001B[0;34m*\u001B[0m\u001B[0mfA\u001B[0m\u001B[0;34m*\u001B[0m\u001B[0minvCellDist\u001B[0m\u001B[0;34m/\u001B[0m\u001B[0;36m3.0\u001B[0m\u001B[0;34m\u001B[0m\u001B[0;34m\u001B[0m\u001B[0m\n\u001B[1;32m     26\u001B[0m \u001B[0;34m\u001B[0m\u001B[0m\n\u001B[0;32m---> 27\u001B[0;31m         \u001B[0ma_dir\u001B[0m\u001B[0;34m[\u001B[0m\u001B[0mboundary_dir\u001B[0m\u001B[0;34m]\u001B[0m \u001B[0;34m=\u001B[0m \u001B[0;36m0\u001B[0m\u001B[0;34m\u001B[0m\u001B[0;34m\u001B[0m\u001B[0m\n\u001B[0m\u001B[1;32m     28\u001B[0m         \u001B[0mtransportInstance\u001B[0m\u001B[0;34m.\u001B[0m\u001B[0mlinSystem\u001B[0m\u001B[0;34m.\u001B[0m\u001B[0ma_p\u001B[0m\u001B[0;34m[\u001B[0m\u001B[0mboundary_dir\u001B[0m\u001B[0;34m]\u001B[0m \u001B[0;34m+=\u001B[0m \u001B[0;36m8.0\u001B[0m\u001B[0;34m*\u001B[0m\u001B[0mb\u001B[0m\u001B[0;34m\u001B[0m\u001B[0;34m\u001B[0m\u001B[0m\n\u001B[1;32m     29\u001B[0m         \u001B[0ma_opp_dir\u001B[0m\u001B[0;34m[\u001B[0m\u001B[0mboundary_dir\u001B[0m\u001B[0;34m]\u001B[0m \u001B[0;34m+=\u001B[0m \u001B[0mb\u001B[0m\u001B[0;34m\u001B[0m\u001B[0;34m\u001B[0m\u001B[0m\n",
      "\u001B[0;31mIndexError\u001B[0m: too many indices for array: array is 1-dimensional, but 2 were indexed"
     ]
    }
   ],
   "source": [
    "%reset -f\n",
    "%load_ext autoreload\n",
    "%autoreload 2\n",
    "\n",
    "import sys\n",
    "sys.path.append('../src/MultiphaseTestBench')\n",
    "import Manager as mptb\n",
    "from TransportModels_dev import TransportModels\n",
    "\n",
    "# write '4.1' or '4.2'\n",
    "exampleId = '4.1'\n",
    "\n",
    "# geometric parameters\n",
    "LenX = {'4.1':0.5, '4.2':0.02}[exampleId]\n",
    "LenY = {'4.1':0.1, '4.2':0.004}[exampleId]\n",
    "\n",
    "# thermal conductivity [ W / (m K) ]\n",
    "k = {'4.1':1000.0, '4.2':0.5}[exampleId]\n",
    "\n",
    "# heat source [ W / m^3 ]\n",
    "heatSource = {'4.1':0, '4.2':1e6}[exampleId]\n",
    "\n",
    "# const temperature at left/right boundaries [K]\n",
    "T_l = {'4.1':100, '4.2':100}[exampleId]\n",
    "T_r = {'4.1':500, '4.2':200}[exampleId]\n",
    "\n",
    "resolution = {'4.1':10, '4.2':250}[exampleId]\n",
    "#resolution = {'4.1':10, '4.2':2500}[exampleId]\n",
    "\n",
    "# the cross sectional area is hard coded in createMatrixCoefficients()\n",
    "# the cross sectional area should be defined by the geometry/mesh\n",
    "geom = mptb.createGeometry( 'rectangle', [LenX, LenY] )\n",
    "mesh = mptb.createMesh( geom, res=resolution )\n",
    "\n",
    "flowModels = {\n",
    "    'T' : TransportModels.scalarTransport\n",
    "}\n",
    "\n",
    "#Defining passive velocity Fields:\n",
    "passiveFields = {\n",
    "    'u' : 'faces_u',\n",
    "    'v' : 'faces_v'\n",
    "}\n",
    "\n",
    "mptb.initialize(flowModels, mesh, geom, passiveFields=passiveFields )\n",
    "\n",
    "T = mptb.getField('T')\n",
    "\n",
    "T.govModel.setDiffusionCoefficient(k)\n",
    "\n",
    "#Odin.listAvailableBoundaryModels(field=T)\n",
    "mptb.defineBoundaryCondition(field=T, boundaryName='top', type='zeroGradient' )\n",
    "mptb.defineBoundaryCondition(field=T, boundaryName='bottom', type='zeroGradient' )\n",
    "mptb.defineBoundaryCondition(field=T, boundaryName='left', type='fixedValue', value=T_l )\n",
    "mptb.defineBoundaryCondition(field=T, boundaryName='right', type='fixedValue', value=T_r )\n",
    "\n",
    "mptb.setConstSource(field=T, value=heatSource, mesh=mesh )\n",
    "\n",
    "T.data = mptb.solve(T)\n",
    "print(T.data)"
   ],
   "metadata": {
    "collapsed": false,
    "pycharm": {
     "name": "#%%\n"
    }
   }
  },
  {
   "cell_type": "code",
   "execution_count": null,
   "outputs": [],
   "source": [
    "# post-processing:\n",
    "import numpy as np\n",
    "import matplotlib.pyplot as plt\n",
    "\n",
    "# the temperature along the x-axis should develop as:\n",
    "def tempDistr( x ):\n",
    "    return ((T_r-T_l)/LenX + S/(2*k)*(LenX-x))*x + T_l\n",
    "\n",
    "mptb.display(T, mesh)\n",
    "\n",
    "nbcellsX = mesh.cells_x\n",
    "cellSpacing = mesh.uniformSpacing\n",
    "#L = geom.lenX\n",
    "\n",
    "xSim = np.linspace(0+0.5*cellSpacing,LenX-0.5*cellSpacing,nbcellsX)\n",
    "ySim = T.data[0,:]\n",
    "\n",
    "xTheo = np.linspace(0,LenX, 100)\n",
    "S = np.ones(len(xTheo))*heatSource\n",
    "yTheo = tempDistr(xTheo)\n",
    "\n",
    "ax = plt.gca()\n",
    "ax.plot(xSim, ySim, 'x', label='simulation')\n",
    "ax.plot(xTheo, yTheo, label='theoretical')\n",
    "\n",
    "plt.legend()\n",
    "plt.show()\n",
    "\n",
    "print(ySim)"
   ],
   "metadata": {
    "collapsed": false,
    "pycharm": {
     "name": "#%%\n"
    }
   }
  },
  {
   "cell_type": "code",
   "execution_count": null,
   "outputs": [],
   "source": [
    "# shutting the interpreter down, so I can a fresh instance next time.\n",
    "# my modules are automatically checked for updates\n",
    "import os\n",
    "os._exit(00)"
   ],
   "metadata": {
    "collapsed": false,
    "pycharm": {
     "name": "#%%\n"
    }
   }
  }
 ],
 "metadata": {
  "kernelspec": {
   "name": "pycharm-7f717e5c",
   "language": "python",
   "display_name": "PyCharm (pythonPlayground)"
  },
  "language_info": {
   "codemirror_mode": {
    "name": "ipython",
    "version": 2
   },
   "file_extension": ".py",
   "mimetype": "text/x-python",
   "name": "python",
   "nbconvert_exporter": "python",
   "pygments_lexer": "ipython2",
   "version": "2.7.6"
  }
 },
 "nbformat": 4,
 "nbformat_minor": 0
}