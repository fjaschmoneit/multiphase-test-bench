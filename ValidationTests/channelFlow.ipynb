{
 "cells": [
  {
   "cell_type": "markdown",
   "source": [
    "# Channel Flow\n",
    "\n",
    "This test validates the coupling of the momentum equations and the pressure coupling.\n",
    "The domain is a 2D channel with wall on the top and bottom, and a momentum inlet on\n",
    "the left and a outlet (zero gradient) on the outlet.\n",
    "\n",
    "In laminar flow the velocity profile in the channel will assume a parabolic profile."
   ],
   "metadata": {
    "collapsed": false,
    "pycharm": {
     "name": "#%% md\n"
    }
   }
  },
  {
   "cell_type": "code",
   "execution_count": 8,
   "outputs": [
    {
     "name": "stdout",
     "output_type": "stream",
     "text": [
      "The autoreload extension is already loaded. To reload it, use:\n",
      "  %reload_ext autoreload\n"
     ]
    },
    {
     "data": {
      "text/plain": "<Figure size 432x288 with 2 Axes>",
      "image/png": "[encoded data removed]"
     },
     "metadata": {
      "needs_background": "light"
     },
     "output_type": "display_data"
    },
    {
     "data": {
      "text/plain": "<Figure size 432x288 with 2 Axes>",
      "image/png": "[encoded data removed]"
     },
     "metadata": {
      "needs_background": "light"
     },
     "output_type": "display_data"
    },
    {
     "ename": "NameError",
     "evalue": "name 'pc' is not defined",
     "output_type": "error",
     "traceback": [
      "\u001B[0;31m---------------------------------------------------------------------------\u001B[0m",
      "\u001B[0;31mNameError\u001B[0m                                 Traceback (most recent call last)",
      "\u001B[0;32m<ipython-input-8-f1ae3830cef2>\u001B[0m in \u001B[0;36m<module>\u001B[0;34m\u001B[0m\n\u001B[1;32m    131\u001B[0m \u001B[0mmptb\u001B[0m\u001B[0;34m.\u001B[0m\u001B[0mdisplay\u001B[0m\u001B[0;34m(\u001B[0m\u001B[0mu\u001B[0m\u001B[0;34m,\u001B[0m\u001B[0mmesh\u001B[0m\u001B[0;34m)\u001B[0m\u001B[0;34m\u001B[0m\u001B[0;34m\u001B[0m\u001B[0m\n\u001B[1;32m    132\u001B[0m \u001B[0mmptb\u001B[0m\u001B[0;34m.\u001B[0m\u001B[0mdisplay\u001B[0m\u001B[0;34m(\u001B[0m\u001B[0mv\u001B[0m\u001B[0;34m,\u001B[0m\u001B[0mmesh\u001B[0m\u001B[0;34m)\u001B[0m\u001B[0;34m\u001B[0m\u001B[0;34m\u001B[0m\u001B[0m\n\u001B[0;32m--> 133\u001B[0;31m \u001B[0mmptb\u001B[0m\u001B[0;34m.\u001B[0m\u001B[0mdisplay\u001B[0m\u001B[0;34m(\u001B[0m\u001B[0mpc\u001B[0m\u001B[0;34m,\u001B[0m\u001B[0mmesh\u001B[0m\u001B[0;34m)\u001B[0m\u001B[0;34m\u001B[0m\u001B[0;34m\u001B[0m\u001B[0m\n\u001B[0m\u001B[1;32m    134\u001B[0m \u001B[0mmptb\u001B[0m\u001B[0;34m.\u001B[0m\u001B[0mdisplay\u001B[0m\u001B[0;34m(\u001B[0m\u001B[0mp\u001B[0m\u001B[0;34m,\u001B[0m\u001B[0mmesh\u001B[0m\u001B[0;34m)\u001B[0m\u001B[0;34m\u001B[0m\u001B[0;34m\u001B[0m\u001B[0m\n\u001B[1;32m    135\u001B[0m \u001B[0;31m#sim.display(v,mesh)\u001B[0m\u001B[0;34m\u001B[0m\u001B[0;34m\u001B[0m\u001B[0;34m\u001B[0m\u001B[0m\n",
      "\u001B[0;31mNameError\u001B[0m: name 'pc' is not defined"
     ]
    }
   ],
   "source": [
    "%reset -f\n",
    "%load_ext autoreload\n",
    "%autoreload 2\n",
    "\n",
    "import sys\n",
    "sys.path.append('../src/MultiphaseTestBench')\n",
    "import Manager as mptb\n",
    "\n",
    "from fieldAccess import *\n",
    "import numpy as np\n",
    "#import MeshConfig\n",
    "\n",
    "nx = 4\n",
    "ny = 1\n",
    "\n",
    "inletVelocity = 0.2\n",
    "\n",
    "geom = mptb.createGeometry( 'rectangle', [nx,ny] )\n",
    "mesh = mptb.createMesh( geom, res=10 )\n",
    "\n",
    "# make just a list, give a name as optional parameter to flow model\n",
    "# make this a flowmodels constructor with kwargs here and then remove simulation instance\n",
    "myFlowModels = {\n",
    "    'u' : mptb.TransportModels.staggeredTransport_u,\n",
    "    'v' : mptb.TransportModels.staggeredTransport_v,\n",
    "    'p' : mptb.PressureModels.Pressure\n",
    "}\n",
    "\n",
    "passiveFields = {}\n",
    "\n",
    "mptb.initialize(flowmodels=myFlowModels, mesh=mesh, geometry=geom, passiveFields=passiveFields )\n",
    "\n",
    "u=mptb.getField('u')\n",
    "v=mptb.getField('v')\n",
    "p=mptb.getField('p')\n",
    "\n",
    "# relates to viscosity:\n",
    "u.govModel.setDiffusionCoefficient(1e-2)\n",
    "v.govModel.setDiffusionCoefficient(1e-2)\n",
    "\n",
    "u.data.fill(inletVelocity)\n",
    "mptb.defineBoundaryCondition(field=u, boundaryName='top', type='fixedValue', value=0)\n",
    "mptb.defineBoundaryCondition(field=u, boundaryName='bottom', type='fixedValue', value=0)\n",
    "mptb.defineBoundaryCondition(field=u, boundaryName='right', type='zeroGradient')\n",
    "mptb.defineBoundaryCondition(field=u, boundaryName='left', type='fixedValue', value=inletVelocity)\n",
    "\n",
    "v.data.fill(0.0)\n",
    "mptb.defineBoundaryCondition(field=v, boundaryName='top', type='fixedValue', value=0)\n",
    "mptb.defineBoundaryCondition(field=v, boundaryName='bottom', type='fixedValue', value=0)\n",
    "mptb.defineBoundaryCondition(field=v, boundaryName='left', type='fixedValue', value=0 )\n",
    "mptb.defineBoundaryCondition(field=v, boundaryName='right', type='fixedValue', value=0)\n",
    "\n",
    "p.data.fill(0)\n",
    "mptb.defineBoundaryCondition(field=p, boundaryName='top', type='freeFlow')\n",
    "mptb.defineBoundaryCondition(field=p, boundaryName='bottom', type='freeFlow')\n",
    "mptb.defineBoundaryCondition(field=p, boundaryName='left', type='freeFlow' )\n",
    "mptb.defineBoundaryCondition(field=p, boundaryName='right', type='constantPressure', value=0)\n",
    "\n",
    "#sim.display(u,mesh)\n",
    "\n",
    "# underRelaxation\n",
    "alphaP = 0.3\n",
    "alphaU = 0.7\n",
    "alphaV = alphaU\n",
    "\n",
    "\n",
    "# make a max function when calculating the d coefficients. some a_p values might be extremely low, such that the corresp d values become hughe\n",
    "\n",
    "# making a more sophisticated initial guess:\n",
    "# u.data[internal] = mptb.solve(u)[internal]\n",
    "# v.data[internal] = mptb.solve(v)[internal]\n",
    "\n",
    "\n",
    "for i in range(10):\n",
    "\n",
    "    u.data = mptb.solve(u)\n",
    "    v.data = mptb.solve(v)\n",
    "\n",
    "    # pc = mptb.solve(p)\n",
    "    # p.data += pc\n",
    "    #\n",
    "    # u.data[internal_u] += p.govModel.d_u[internal_u] * ( pc[west] - pc[east] )\n",
    "    # v.data[internal_v] += p.govModel.d_v[internal_v] * ( pc[south] - pc[north])\n",
    "\n",
    "\n",
    "\n",
    "# preparing the simple loop:\n",
    "for i in range(0):\n",
    "\n",
    "    uOld = u.data\n",
    "    vOld = v.data\n",
    "\n",
    "    uNew = mptb.solve(u)\n",
    "    vNew = mptb.solve(v)\n",
    "    pc = mptb.solve(p)\n",
    "\n",
    "    # correcting pressure\n",
    "    p.data += alphaP*pc\n",
    "\n",
    "    totInFlow = mptb.calcFlowRate(field=u, boundaryName='left')\n",
    "    totOutFlow = mptb.calcFlowRate(field=u, boundaryName='right')\n",
    "\n",
    "    # correcting internal:    what about the left side?\n",
    "    uNew[internal_u] += p.govModel.d_u[internal_u] * ( pc[west] - pc[east] )\n",
    "    vNew[internal_v] += p.govModel.d_v[internal_v] * ( pc[south] - pc[north] )\n",
    "    uNew[boundary_east] = uOld[boundary_nb1_east] * totInFlow/totOutFlow\n",
    "\n",
    "    u.data = alphaU*uNew + (1-alphaU)*uOld\n",
    "    #v.data = alphaV*vNew + (1-alphaV)*vOld\n",
    "\n",
    "    # correcting boundaries:  Can I not set them algorithmically? this is not nice\n",
    "    # correcting boundaries a second time:\n",
    "    totInFlow = mptb.calcFlowRate(field=u, boundaryName='left')\n",
    "    totOutFlow = mptb.calcFlowRate(field=u, boundaryName='right')\n",
    "\n",
    "    u.data[boundary_east] = u.data[boundary_nb1_east] * totInFlow/totOutFlow\n",
    "#    v.data[boundary_east] = v.data[boundary_nb1_east] * totInFlow/totOutFlow\n",
    "\n",
    "    # totInFlow = mptb.calcFlowRate(field=u, boundaryName='left')\n",
    "    # totOutFlow = mptb.calcFlowRate(field=u, boundaryName='right')\n",
    "    #\n",
    "    #print((totInFlow-totOutFlow)/totInFlow)\n",
    "\n",
    "\n",
    "# totInFlow = mptb.calcFlowRate(field=u, boundaryName='left')\n",
    "# totOutFlow = mptb.calcFlowRate(field=u, boundaryName='right')\n",
    "#\n",
    "# print(\"inflow:\\t\", totInFlow )\n",
    "# print(\"outflow:\\t\", totOutFlow )\n",
    "\n",
    "mptb.display(u,mesh)\n",
    "mptb.display(v,mesh)\n",
    "mptb.display(pc,mesh)\n",
    "mptb.display(p,mesh)\n",
    "#sim.display(v,mesh)\n",
    "#sim.display(p,mesh)\n",
    "#\n",
    "#\n",
    "# print(p.govModel.linSystem.A)\n",
    "# print(p.govModel.linSystem.b)"
   ],
   "metadata": {
    "collapsed": false,
    "pycharm": {
     "name": "#%%\n"
    }
   }
  },
  {
   "cell_type": "code",
   "execution_count": null,
   "outputs": [],
   "source": [
    "\n",
    "# post-processing:\n",
    "import numpy as np\n",
    "import matplotlib.pyplot as plt\n",
    "\n",
    "nbcellsX = mesh.cells_x\n",
    "cellSpacing = mesh.uniformSpacing\n",
    "LenX = geom.lenX\n",
    "\n",
    "xSim = np.linspace(0+0.5*cellSpacing,LenX-0.5*cellSpacing,nbcellsX+1)\n",
    "ySim = u.data[ny//2 ,:]\n",
    "\n",
    "# xTheo = np.linspace(0,LenX, 100)\n",
    "# S = np.ones(len(xTheo))*heatSource\n",
    "# yTheo = tempDistr(xTheo)\n",
    "\n",
    "ax = plt.gca()\n",
    "ax.plot(xSim, ySim, 'x', label='simulation')\n",
    "#ax.plot(xTheo, yTheo, label='theoretical')\n",
    "\n",
    "plt.legend()\n",
    "plt.show()\n",
    "\n",
    "print(ySim)\n"
   ],
   "metadata": {
    "collapsed": false,
    "pycharm": {
     "name": "#%%\n"
    }
   }
  },
  {
   "cell_type": "code",
   "execution_count": null,
   "outputs": [],
   "source": [
    "# shutting the interpreter down, so I can a fresh instance next time.\n",
    "# my modules are automatically checked for updates\n",
    "import os\n",
    "os._exit(00)"
   ],
   "metadata": {
    "collapsed": false,
    "pycharm": {
     "name": "#%%\n"
    }
   }
  }
 ],
 "metadata": {
  "kernelspec": {
   "display_name": "Python 3",
   "language": "python",
   "name": "python3"
  },
  "language_info": {
   "codemirror_mode": {
    "name": "ipython",
    "version": 2
   },
   "file_extension": ".py",
   "mimetype": "text/x-python",
   "name": "python",
   "nbconvert_exporter": "python",
   "pygments_lexer": "ipython2",
   "version": "2.7.6"
  }
 },
 "nbformat": 4,
 "nbformat_minor": 0
}